{
 "cells": [
  {
   "cell_type": "markdown",
   "metadata": {},
   "source": [
    "<h1 style=\"text-align: center;\">Variáveis</h1>\n",
    "<hr>"
   ]
  },
  {
   "cell_type": "markdown",
   "metadata": {},
   "source": [
    "### O que é uma variável?\n",
    "Variáveis são espaços na memória fisica do computador ou dispositivo que estará executando o script, são usadas para recuperar valores durante a execução do código.  \n",
    "*_Os tipos de declaração de variáveis são:_*  \n",
    " * **var** - Tem escopo global e local, os valores podem ser alterados.  \n",
    " * **let** - Escopo local, pode ter o valor alterado.  \n",
    " * **const** - Escopo local, **NÃO** pode ter o valor alterado.  "
   ]
  },
  {
   "cell_type": "markdown",
   "metadata": {},
   "source": [
    "### Escopo\n",
    "*_Pode ser chamado de escopo ás limitações de acesso as variáveis de um script, variáveis **globais** podem ser a acessadas a qualquer momento do código ou bloco, já as **locais** tem acesso apenas no bloco, função, etc.., na qual foi declarada._*  \n",
    "**Exemplos:**"
   ]
  },
  {
   "cell_type": "code",
   "execution_count": 1,
   "metadata": {},
   "outputs": [
    {
     "ename": "ReferenceError",
     "evalue": "varLet is not defined",
     "output_type": "error",
     "traceback": [
      "evalmachine.<anonymous>:8",
      "    console.log('fora do escopo >', varLet)",
      "                                    ^",
      "",
      "ReferenceError: varLet is not defined",
      "    at evalmachine.<anonymous>:8:37",
      "    at Script.runInThisContext (vm.js:134:12)",
      "    at Object.runInThisContext (vm.js:310:38)",
      "    at run ([eval]:1054:15)",
      "    at onRunRequest ([eval]:888:18)",
      "    at onMessage ([eval]:848:13)",
      "    at process.emit (events.js:400:28)",
      "    at emit (internal/child_process.js:912:12)",
      "    at processTicksAndRejections (internal/process/task_queues.js:83:21)"
     ]
    }
   ],
   "source": [
    "// Exemplo de escopo para variáveis LET.\n",
    "\n",
    "function testeEscopo () {\n",
    "    let varLet = 'valor';\n",
    "    console.log('dentro do escopo >', varLet)\n",
    "}\n",
    "{\n",
    "    console.log('fora do escopo >', varLet)\n",
    "}\n",
    "\n",
    "testeEscopo();"
   ]
  },
  {
   "cell_type": "code",
   "execution_count": 5,
   "metadata": {},
   "outputs": [],
   "source": [
    "// Exemplo de escopo para variáveis CONST.\n",
    "\n",
    "const varConst = 'Exemplo';"
   ]
  },
  {
   "cell_type": "code",
   "execution_count": 6,
   "metadata": {},
   "outputs": [],
   "source": [
    "// Exemplo de escopo para variáveis VAR.\n",
    "\n",
    "var varVar = 'Exemplo';"
   ]
  },
  {
   "cell_type": "markdown",
   "metadata": {},
   "source": [
    "### Regras de declaração de variáveis\n",
    "Existem algumas regras a se seguir no momento de nomear uma variável.  \n",
    "**Tabela de exemplos:**\n",
    "\n",
    "Isso pode!|Isso não pode|Por que?\n",
    ":---|:---|:---\n",
    "**let** variavel01|**let** 01variavel|Não é permitido iniciar nome de variável com números\n",
    "**var** nomeDaVariavel|**var** nome da variavel|Não é possivel usar espaços no momento de declaraçao, outro ponto, por boas praticas e padronização a linguaguem JavaScript usa o método camelCase de nomes para as variáveis\n",
    "**const** funcao|**const** function|Não é possivel usar palavras reservadas da linguagem para nomear variáveis\n",
    "\n"
   ]
  },
  {
   "cell_type": "markdown",
   "metadata": {},
   "source": [
    "### Tipos de Vaviáveis\n",
    "Abaixo seguem os tipos de variáveis usadas no JavaScript:  \n",
    " * Number: Usada para números inteiros\n",
    " * String: Um ou mais caractéres\n",
    " * Booleanos: true ou false\n",
    " * null: Nulo\n",
    " * undefined: Valor indefinido\n",
    " * Array: Conjunto de outros tipos primitivos\n",
    " * Object: Objeto que acolhe diversos outros tipos primitivos como parâmetro\n",
    " * Function: Encapsula "
   ]
  },
  {
   "cell_type": "code",
   "execution_count": 1,
   "metadata": {},
   "outputs": [
    {
     "name": "stdout",
     "output_type": "stream",
     "text": [
      "tipo da variável numero: number | valor da variável numero: 10\n"
     ]
    }
   ],
   "source": [
    "let numero = 10;\n",
    "console.log(\"tipo da variável numero:\",typeof(numero),\"| valor da variável numero:\",numero);"
   ]
  },
  {
   "cell_type": "code",
   "execution_count": 2,
   "metadata": {},
   "outputs": [
    {
     "name": "stdout",
     "output_type": "stream",
     "text": [
      "tipo da variável corda: string | valor da variável corda: texto\n"
     ]
    }
   ],
   "source": [
    "let corda = \"texto\";\n",
    "console.log(\"tipo da variável corda:\",typeof(corda),\"| valor da variável corda:\", corda);"
   ]
  },
  {
   "cell_type": "code",
   "execution_count": 3,
   "metadata": {},
   "outputs": [
    {
     "name": "stdout",
     "output_type": "stream",
     "text": [
      "tipo da variável boleano: boolean | valor da variável boleano: true\n"
     ]
    }
   ],
   "source": [
    "let boleano = true;\n",
    "console.log(\"tipo da variável boleano:\",typeof(boleano),\"| valor da variável boleano:\",boleano);"
   ]
  },
  {
   "cell_type": "code",
   "execution_count": 4,
   "metadata": {},
   "outputs": [
    {
     "name": "stdout",
     "output_type": "stream",
     "text": [
      "tipo da variável nulo: object | valor da variável nulo: null\n"
     ]
    }
   ],
   "source": [
    "let nulo = null;\n",
    "console.log(\"tipo da variável nulo:\",typeof(nulo),\"| valor da variável nulo:\",nulo);"
   ]
  },
  {
   "cell_type": "code",
   "execution_count": 5,
   "metadata": {},
   "outputs": [
    {
     "name": "stdout",
     "output_type": "stream",
     "text": [
      "tipo da variável indefinido: undefined | valor da variável indefinido: undefined\n"
     ]
    }
   ],
   "source": [
    "let indefinido = undefined;\n",
    "console.log(\"tipo da variável indefinido:\",typeof(indefinido),\"| valor da variável indefinido:\",indefinido);"
   ]
  },
  {
   "cell_type": "code",
   "execution_count": 1,
   "metadata": {},
   "outputs": [
    {
     "name": "stdout",
     "output_type": "stream",
     "text": [
      "tipo da variável array: object | valor da variável array: [ 1, 2, 3 ]\n"
     ]
    }
   ],
   "source": [
    "let array = [1, 2, 3];\n",
    "console.log(\"tipo da variável array:\",typeof(array),\"| valor da variável array:\",array);"
   ]
  },
  {
   "cell_type": "code",
   "execution_count": 2,
   "metadata": {},
   "outputs": [
    {
     "name": "stdout",
     "output_type": "stream",
     "text": [
      "tipo da variável objeto: object | valor da variável objeto: { prop: 'valor', prop2: 2, prop3: false }\n"
     ]
    }
   ],
   "source": [
    "let objeto= {\n",
    "    prop: 'valor',\n",
    "    prop2: 2,\n",
    "    prop3: false\n",
    "};\n",
    "console.log(\"tipo da variável objeto:\",typeof(objeto),\"| valor da variável objeto:\",objeto);"
   ]
  },
  {
   "cell_type": "code",
   "execution_count": 7,
   "metadata": {},
   "outputs": [
    {
     "name": "stdout",
     "output_type": "stream",
     "text": [
      "tipo da variável funcao: function | valor da variável funcao: [Function: funcao]\n"
     ]
    }
   ],
   "source": [
    "function funcao(x){\n",
    "    return 0;\n",
    "}\n",
    "console.log(\"tipo da variável funcao:\",typeof(funcao),\"| valor da variável funcao:\",funcao);"
   ]
  }
 ],
 "metadata": {
  "kernelspec": {
   "display_name": "JavaScript (Node.js)",
   "language": "javascript",
   "name": "javascript"
  },
  "language_info": {
   "file_extension": ".js",
   "mimetype": "application/javascript",
   "name": "javascript",
   "version": "14.18.3"
  }
 },
 "nbformat": 4,
 "nbformat_minor": 2
}
