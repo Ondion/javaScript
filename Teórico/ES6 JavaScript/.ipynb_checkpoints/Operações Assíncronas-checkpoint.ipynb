{
 "cells": [
  {
   "cell_type": "markdown",
   "metadata": {},
   "source": [
    "<h1 style=\"text-align: center;\">Operações assíncronas</h1>\n",
    "<hr>"
   ]
  },
  {
   "cell_type": "markdown",
   "metadata": {},
   "source": [
    "*_**Operações assíncronas** são operações que ocorrem de forma paralela ao fluxo principal do script, liberando assim o fluxo do programa._*"
   ]
  },
  {
   "cell_type": "code",
   "execution_count": 1,
   "metadata": {},
   "outputs": [
    {
     "name": "stdout",
     "output_type": "stream",
     "text": [
      "passo-1\n",
      "passo-2\n",
      "passo-4\n",
      "passo-3\n"
     ]
    }
   ],
   "source": [
    "// Exemplo de como uma função assíncrona funciona no script!\n",
    "\n",
    "console.log('passo-1')\n",
    "console.log('passo-2')\n",
    "\n",
    "setTimeout(()=> console.log('passo-3') ,1000) // 1000 é o tempo a ser aguardado em segundo plano em milisegundos.\n",
    "\n",
    "console.log('passo-4')\n"
   ]
  },
  {
   "cell_type": "markdown",
   "metadata": {},
   "source": [
    "```setTimeout((function),x)```  \n",
    "Executa a função passada em segundo plano após aguardar, em milisegundos (x), o tempo passado.  \n",
    "**Exemplo:**"
   ]
  },
  {
   "cell_type": "code",
   "execution_count": 1,
   "metadata": {},
   "outputs": [
    {
     "data": {
      "text/plain": [
       "'Aguardando a execução da função!'"
      ]
     },
     "execution_count": 1,
     "metadata": {},
     "output_type": "execute_result"
    },
    {
     "name": "stdout",
     "output_type": "stream",
     "text": [
      "Essa função aguarda 1000 milisegundos para exibir esse texto.\n"
     ]
    }
   ],
   "source": [
    "x = \"Aguardando a execução da função!\"\n",
    "setTimeout(()=> console.log('Essa função aguarda 1000 milisegundos para exibir esse texto.') ,1000)\n",
    "x"
   ]
  }
 ],
 "metadata": {
  "kernelspec": {
   "display_name": "Python 3 (ipykernel)",
   "language": "python",
   "name": "python3"
  },
  "language_info": {
   "codemirror_mode": {
    "name": "ipython",
    "version": 3
   },
   "file_extension": ".py",
   "mimetype": "text/x-python",
   "name": "python",
   "nbconvert_exporter": "python",
   "pygments_lexer": "ipython3",
   "version": "3.8.10"
  }
 },
 "nbformat": 4,
 "nbformat_minor": 2
}
