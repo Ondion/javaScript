{
 "cells": [
  {
   "cell_type": "markdown",
   "id": "7f0ffaf1",
   "metadata": {},
   "source": [
    "### Heading"
   ]
  },
  {
   "cell_type": "markdown",
   "id": "03e411db",
   "metadata": {},
   "source": [
    "*_Aqui está italico, **black**_*"
   ]
  },
  {
   "cell_type": "code",
   "execution_count": null,
   "id": "2e296d78",
   "metadata": {},
   "outputs": [],
   "source": [
    "const "
   ]
  }
 ],
 "metadata": {
  "kernelspec": {
   "display_name": "JavaScript (Node.js)",
   "language": "javascript",
   "name": "javascript"
  }
 },
 "nbformat": 4,
 "nbformat_minor": 5
}
