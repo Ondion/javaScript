{
 "cells": [
  {
   "cell_type": "markdown",
   "id": "6cf72667",
   "metadata": {},
   "source": [
    "<h1 style=\"text-align: center;\">Funções</h1>\n",
    "<hr>"
   ]
  },
  {
   "cell_type": "markdown",
   "id": "a40e1270",
   "metadata": {},
   "source": [
    "*_Funções são blocos de instruções que executam determinada tarefa, podem ser reultilizadas no decorrer do código._*"
   ]
  },
  {
   "cell_type": "markdown",
   "id": "045de1c3",
   "metadata": {},
   "source": [
    "### Funções Declarativas  \n",
    "*_Modo mais comum de declarar uma função no script_*  \n",
    "**Exemplos:**"
   ]
  },
  {
   "cell_type": "code",
   "execution_count": 2,
   "id": "f1a5840b",
   "metadata": {
    "scrolled": true
   },
   "outputs": [
    {
     "data": {
      "text/plain": [
       "'vai e vaiiiiinn!'"
      ]
     },
     "execution_count": 2,
     "metadata": {},
     "output_type": "execute_result"
    }
   ],
   "source": [
    "function retorno (x){ // Essa função retorna o mesmo parâmetro que le foi passado.\n",
    "    return x;\n",
    "}\n",
    "\n",
    "retorno(\"vai e vaiiiiinn!\");"
   ]
  },
  {
   "cell_type": "markdown",
   "id": "63e189a6",
   "metadata": {},
   "source": [
    "*_Uma função pode receber quantos parâmentros forem necessários, inclusive nenhum_*"
   ]
  },
  {
   "cell_type": "code",
   "execution_count": 5,
   "id": "79a67a3b",
   "metadata": {
    "scrolled": false
   },
   "outputs": [
    {
     "name": "stdout",
     "output_type": "stream",
     "text": [
      "um\n",
      "2\n",
      "3.4\n"
     ]
    }
   ],
   "source": [
    "function tresParametros (x, y, z){ // Essa função recebe e imprime três paramêtros passados.\n",
    "    console.log(x);\n",
    "    console.log(y);\n",
    "    console.log(z);\n",
    "}\n",
    "\n",
    "tresParametros(\"um\", 2, 3.4)"
   ]
  },
  {
   "cell_type": "markdown",
   "id": "72ec7193",
   "metadata": {},
   "source": [
    "<br>"
   ]
  },
  {
   "cell_type": "markdown",
   "id": "ac834e44",
   "metadata": {},
   "source": [
    "### Expressões de funções    \n",
    "Já esse tipo de função não necessáriamente precisa de um nome pois pode ser atribuida a uma variável que passa a ser a função.  \n",
    "**Exemplos:**"
   ]
  },
  {
   "cell_type": "code",
   "execution_count": 3,
   "id": "72c6b559",
   "metadata": {},
   "outputs": [
    {
     "data": {
      "text/plain": [
       "100"
      ]
     },
     "execution_count": 3,
     "metadata": {},
     "output_type": "execute_result"
    }
   ],
   "source": [
    "var variavel = function(x){return x ** 2;}\n",
    "\n",
    "variavel(10)"
   ]
  },
  {
   "cell_type": "markdown",
   "id": "1129328e",
   "metadata": {},
   "source": [
    "<br>"
   ]
  },
  {
   "cell_type": "markdown",
   "id": "b7b6df44",
   "metadata": {},
   "source": [
    "### Arrow Function    \n",
    "Essas funções tem a sintaxe curta e não possuem nome, sendo uma forma diferente de se declarar funções escrevendo menos código.  \n",
    "**Exemplos:**"
   ]
  },
  {
   "cell_type": "code",
   "execution_count": 12,
   "id": "57a5ac65",
   "metadata": {},
   "outputs": [
    {
     "data": {
      "text/plain": [
       "'exemplo de arrow function'"
      ]
     },
     "execution_count": 12,
     "metadata": {},
     "output_type": "execute_result"
    }
   ],
   "source": [
    "// Exemplo de declaração de uma Arrow Function.\n",
    "\n",
    "var variavel = (x, y, z) => {\n",
    "    return x + y + z;\n",
    "}\n",
    "\n",
    "variavel('exemplo', ' de arrow', ' function')"
   ]
  },
  {
   "cell_type": "code",
   "execution_count": 13,
   "id": "851601c5",
   "metadata": {},
   "outputs": [
    {
     "data": {
      "text/plain": [
       "'exemplo de arrow function sem o return!'"
      ]
     },
     "execution_count": 13,
     "metadata": {},
     "output_type": "execute_result"
    }
   ],
   "source": [
    "// Quando uma Arrow Function tem em seu corpo apenas uma linha, podemos omitir o return.\n",
    "\n",
    "var variavel = (x, y, z) => x + y + z;\n",
    "\n",
    "variavel('exemplo de arrow ', 'function sem o ', 'return!')"
   ]
  },
  {
   "cell_type": "code",
   "execution_count": 14,
   "id": "541d34d0",
   "metadata": {},
   "outputs": [
    {
     "data": {
      "text/plain": [
       "'Exemplo de arrow function com apenas um parâmetro!'"
      ]
     },
     "execution_count": 14,
     "metadata": {},
     "output_type": "execute_result"
    }
   ],
   "source": [
    "// Quando uma Arrow Function tem apenas um parâmetro a ser recebido, podemos omitir os parênteses.\n",
    "\n",
    "var variavel = x => x\n",
    "\n",
    "variavel('Exemplo de arrow function com apenas um parâmetro!')"
   ]
  }
 ],
 "metadata": {
  "kernelspec": {
   "display_name": "JavaScript (Node.js)",
   "language": "javascript",
   "name": "javascript"
  },
  "language_info": {
   "file_extension": ".js",
   "mimetype": "application/javascript",
   "name": "javascript",
   "version": "16.14.2"
  }
 },
 "nbformat": 4,
 "nbformat_minor": 5
}
