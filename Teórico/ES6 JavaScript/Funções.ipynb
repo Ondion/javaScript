{
 "cells": [
  {
   "cell_type": "markdown",
   "metadata": {},
   "source": [
    "<h1 style=\"text-align: center;\">Funções</h1>\n",
    "<hr>"
   ]
  },
  {
   "cell_type": "markdown",
   "metadata": {},
   "source": [
    "Funções são blocos de instruções que executam determinada tarefa, podem ser reultilizadas no decorrer do código.  \n",
    "\n",
    "**Funções declarativas**  \n",
    "**Exemplos:**"
   ]
  },
  {
   "cell_type": "code",
   "execution_count": 1,
   "metadata": {
    "scrolled": true
   },
   "outputs": [
    {
     "name": "stdout",
     "output_type": "stream",
     "text": [
      "vai e volta!\n"
     ]
    }
   ],
   "source": [
    "function retorno (x){ // Essa função retorna o mesmo paramêtro que le foi passado.\n",
    "    return x;\n",
    "}\n",
    "\n",
    "console.log(retorno(\"vai e volta!\"));"
   ]
  },
  {
   "cell_type": "markdown",
   "metadata": {},
   "source": [
    "*_Uma função pode receber quantos parâmentros forem necessários, inclusive nenhum_*"
   ]
  },
  {
   "cell_type": "code",
   "execution_count": 2,
   "metadata": {
    "scrolled": true
   },
   "outputs": [
    {
     "name": "stdout",
     "output_type": "stream",
     "text": [
      "um\n",
      "2\n",
      "3.3\n"
     ]
    }
   ],
   "source": [
    "function tresParametros (x, y, z){ // Essa função recebe e imprime três paramêtros passados.\n",
    "    console.log(x);\n",
    "    console.log(y);\n",
    "    console.log(z);\n",
    "}\n",
    "\n",
    "tresParametros(\"um\", 2, 3.3)"
   ]
  },
  {
   "cell_type": "markdown",
   "metadata": {},
   "source": [
    "**Expressões de funções**  \n",
    "Já esse tipo de função não necessáriamente precisa de um nome pois pode ser atribuida a uma variável que passa a ser a função.  \n",
    "**Exemplos:**"
   ]
  },
  {
   "cell_type": "code",
   "execution_count": 3,
   "metadata": {},
   "outputs": [
    {
     "data": {
      "text/plain": [
       "100"
      ]
     },
     "execution_count": 3,
     "metadata": {},
     "output_type": "execute_result"
    }
   ],
   "source": [
    "var variavel = function(x){return x ** 2;}\n",
    "\n",
    "variavel(10)"
   ]
  },
  {
   "cell_type": "markdown",
   "metadata": {},
   "source": [
    "<br>"
   ]
  },
  {
   "cell_type": "markdown",
   "metadata": {},
   "source": [
    "**Arrow Function**  \n",
    "Essas funções tem a sintaxe curta e não possuem nome.  \n",
    "**Exemplos:**"
   ]
  },
  {
   "cell_type": "code",
   "execution_count": 4,
   "metadata": {},
   "outputs": [
    {
     "data": {
      "text/plain": [
       "'exemplo de arrow function'"
      ]
     },
     "execution_count": 4,
     "metadata": {},
     "output_type": "execute_result"
    }
   ],
   "source": [
    "var variavel = () => {\n",
    "    return 'exemplo de arrow function';\n",
    "}\n",
    "\n",
    "variavel()"
   ]
  },
  {
   "cell_type": "code",
   "execution_count": 3,
   "metadata": {},
   "outputs": [
    {
     "name": "stdout",
     "output_type": "stream",
     "text": [
      "exemplo de arrow function sem o return\n"
     ]
    }
   ],
   "source": [
    "// Quando uma arrow function não possui mais de uma linha, podemos omitir o return.\n",
    "var variavel = () => console.log(\"exemplo de arrow function sem o return\")\n",
    "variavel()"
   ]
  }
 ],
 "metadata": {
  "kernelspec": {
   "display_name": "JavaScript (Node.js)",
   "language": "javascript",
   "name": "javascript"
  },
  "language_info": {
   "file_extension": ".js",
   "mimetype": "application/javascript",
   "name": "javascript",
   "version": "14.18.3"
  }
 },
 "nbformat": 4,
 "nbformat_minor": 5
}
