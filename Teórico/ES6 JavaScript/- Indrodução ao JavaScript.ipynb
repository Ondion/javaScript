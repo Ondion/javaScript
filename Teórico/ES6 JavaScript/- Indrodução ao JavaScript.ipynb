{
 "cells": [
  {
   "cell_type": "markdown",
   "metadata": {},
   "source": [
    "<h1 style=\"text-align: center;\">Indrodução ao JavaScript</h1>\n",
    "<hr>"
   ]
  },
  {
   "cell_type": "markdown",
   "metadata": {},
   "source": [
    "O **JavaScript** é uma linguagem de programação de alto nível, que integra o desenvolvimento de apps, páginas web, servidores, desenvolvimento desktop dentre outros.  \n",
    "Hoje em dia o JavaScript é largamente usado no mundo para dinamizar páginas web primeiramente."
   ]
  },
  {
   "cell_type": "markdown",
   "metadata": {},
   "source": [
    "**Algumas informações importantes sobre o JavaScript:**  \n",
    " * É uma **linguagem Interpretada**, ou seja, roda em tempo real, não é compilada.\n",
    " * Baseada em **Protótipos**.\n",
    " * **Multparadigma**, atende a várias necessídades de programação.\n",
    " * Segue o padrão **ECMAScript**."
   ]
  },
  {
   "cell_type": "markdown",
   "metadata": {},
   "source": [
    "*_A linguagem tem diversas variações e frameworks e é o core central da **interatividade WEB**, seguem algumas outras aplicações:_*  \n",
    " * Desenvolvimento Mobile.\n",
    " * Desenvolvimento de IoT (Internet of Things).\n",
    " * Games\n",
    " * APIs"
   ]
  }
 ],
 "metadata": {
  "interpreter": {
   "hash": "31f2aee4e71d21fbe5cf8b01ff0e069b9275f58929596ceb00d14d90e3e16cd6"
  },
  "kernelspec": {
   "display_name": "JavaScript (Node.js)",
   "language": "javascript",
   "name": "javascript"
  },
  "language_info": {
   "file_extension": ".js",
   "mimetype": "application/javascript",
   "name": "javascript",
   "version": "14.18.3"
  }
 },
 "nbformat": 4,
 "nbformat_minor": 2
}
