{
 "cells": [
  {
   "cell_type": "markdown",
   "id": "0bf618c6",
   "metadata": {},
   "source": [
    "**Arrays** são um tipo de lista que recebe varios valores de tipos distintos e atríbui um indice para cada valor recebido.  \n",
    "A sintaxe para a criação de array é: `let array = ['string', 15, true, null];`  \n",
    "O indice do vetor sempre é um número inteiro, iniciando a contagem pelo 0, no caso o valor 'string' recebeu o indice 0 e o valor 15, recebeu o indice 1.  \n",
    "**Exemplos:**"
   ]
  },
  {
   "cell_type": "code",
   "execution_count": 1,
   "id": "d4b6e1a2",
   "metadata": {},
   "outputs": [
    {
     "name": "stdout",
     "output_type": "stream",
     "text": [
      "indice 0: string\n",
      "indice 1: 15\n",
      "indice 2: true\n",
      "indice 3: [ 1, 1, 6 ]\n"
     ]
    }
   ],
   "source": [
    "let array = ['string', 15, true, [1, 1, 6]];\n",
    "console.log(\"indice 0:\", array[0]);\n",
    "console.log(\"indice 1:\", array[1]);\n",
    "console.log(\"indice 2:\", array[2]);\n",
    "console.log(\"indice 3:\", array[3]);"
   ]
  },
  {
   "cell_type": "code",
   "execution_count": null,
   "id": "df87e950",
   "metadata": {},
   "outputs": [
    {
     "ename": "",
     "evalue": "",
     "output_type": "error",
     "traceback": [
      "\u001b[1;31mFailed to start the Kernel. \n",
      "Kernel JavaScript (Node.js) is not usable. Check the Jupyter output tab for more information. \n",
      "View Jupyter <a href='command:jupyter.viewOutput'>log</a> for further details."
     ]
    }
   ],
   "source": [
    "console.log(array) // Como todo o array é exibido no console*"
   ]
  },
  {
   "cell_type": "markdown",
   "id": "83997bc0",
   "metadata": {},
   "source": [
    "*_É possivel adicionar um array dentro de outro array_*"
   ]
  },
  {
   "cell_type": "markdown",
   "id": "2d52091d",
   "metadata": {},
   "source": [
    "<br>"
   ]
  },
  {
   "cell_type": "markdown",
   "id": "a4805b88",
   "metadata": {},
   "source": [
    "A função **forEach** realiza uma leitura de cada valor e indice de um array e os usa como parêmetros de uma função que deve ser informada como parâmetro.  \n",
    "**Exemplo:**"
   ]
  },
  {
   "cell_type": "code",
   "execution_count": 3,
   "id": "49a49765",
   "metadata": {},
   "outputs": [
    {
     "name": "stdout",
     "output_type": "stream",
     "text": [
      "string 0\n",
      "15 1\n",
      "true 2\n",
      "[ 1, 2, 3 ] 3\n"
     ]
    }
   ],
   "source": [
    "array.forEach(function(conteudoDoArray, indiceDoArray){console.log(conteudoDoArray, indiceDoArray)});"
   ]
  },
  {
   "cell_type": "markdown",
   "id": "6e008971",
   "metadata": {},
   "source": [
    "A função **push()** inclui ao final do array, um novo valor e indice.  \n",
    "**Exemplo:**"
   ]
  },
  {
   "cell_type": "code",
   "execution_count": 4,
   "id": "1d23e3c2",
   "metadata": {},
   "outputs": [
    {
     "name": "stdout",
     "output_type": "stream",
     "text": [
      "[\n",
      "  'string',\n",
      "  15,\n",
      "  true,\n",
      "  [ 1, 2, 3 ],\n",
      "  'nova string adicionada pelo push()'\n",
      "]\n"
     ]
    }
   ],
   "source": [
    "array.push('nova string adicionada pelo push()');\n",
    "console.log(array);"
   ]
  },
  {
   "cell_type": "markdown",
   "id": "0755b648",
   "metadata": {},
   "source": [
    "A função **pop()** remove o último valor e indice de um array.  \n",
    "**Exemplo:**"
   ]
  },
  {
   "cell_type": "code",
   "execution_count": 5,
   "id": "699b7f53",
   "metadata": {},
   "outputs": [
    {
     "name": "stdout",
     "output_type": "stream",
     "text": [
      "[ 'string', 15, true, [ 1, 2, 3 ] ]\n"
     ]
    }
   ],
   "source": [
    "array.pop();\n",
    "console.log(array);"
   ]
  },
  {
   "cell_type": "markdown",
   "id": "b4b4d4a7",
   "metadata": {},
   "source": [
    "A função **shift()**  remove o primeiro valor e indice de um array, funciona o contrário do pop().  \n",
    "**Exemplo:**"
   ]
  },
  {
   "cell_type": "code",
   "execution_count": 6,
   "id": "e5d338fe",
   "metadata": {},
   "outputs": [
    {
     "name": "stdout",
     "output_type": "stream",
     "text": [
      "[ 15, true, [ 1, 2, 3 ] ]\n"
     ]
    }
   ],
   "source": [
    "array.shift();\n",
    "console.log(array);"
   ]
  },
  {
   "cell_type": "markdown",
   "id": "bf99f298",
   "metadata": {},
   "source": [
    "A função **unshift()** adiciona um valor e indice ao início do array.  \n",
    "**Exemplo:**"
   ]
  },
  {
   "cell_type": "code",
   "execution_count": null,
   "id": "c1d66f1f",
   "metadata": {},
   "outputs": [
    {
     "ename": "",
     "evalue": "",
     "output_type": "error",
     "traceback": [
      "\u001b[1;31mFailed to start the Kernel. \n",
      "Kernel JavaScript (Node.js) is not usable. Check the Jupyter output tab for more information. \n",
      "View Jupyter <a href='command:jupyter.viewOutput'>log</a> for further details."
     ]
    }
   ],
   "source": [
    "array.unshift('valor adicionado ao inicio do array com o unshift()');\n",
    "console.log(array);"
   ]
  },
  {
   "cell_type": "markdown",
   "id": "0e254473",
   "metadata": {},
   "source": [
    "A função **indexOf()** retorna o indice de um valor contido no array ao passar como parâmetro esse valor.   \n",
    "**Exemplo:**"
   ]
  },
  {
   "cell_type": "code",
   "execution_count": 8,
   "id": "06c94aba",
   "metadata": {},
   "outputs": [
    {
     "data": {
      "text/plain": [
       "2"
      ]
     },
     "execution_count": 8,
     "metadata": {},
     "output_type": "execute_result"
    }
   ],
   "source": [
    "array.indexOf(true);"
   ]
  },
  {
   "cell_type": "code",
   "execution_count": null,
   "id": "dee6513a",
   "metadata": {},
   "outputs": [],
   "source": [
    "A função **splice()** realiza um \"corte\" de um array pelos valores de indices passados como parâmetro, esse valores são excluídos do array   \n",
    "**Exemplo:**"
   ]
  },
  {
   "cell_type": "code",
   "execution_count": 9,
   "id": "9b1dec68",
   "metadata": {},
   "outputs": [
    {
     "name": "stdout",
     "output_type": "stream",
     "text": [
      "[ true, [ 1, 2, 3 ] ]\n"
     ]
    }
   ],
   "source": [
    "array.splice(0, 2)\n",
    "console.log(array)"
   ]
  },
  {
   "cell_type": "markdown",
   "id": "417cef91",
   "metadata": {},
   "source": [
    "A função **slice()** retorna os valores do array passados nos parâmetros como indices.  \n",
    "**Exemplo:**"
   ]
  },
  {
   "cell_type": "code",
   "execution_count": 10,
   "id": "fef6a033",
   "metadata": {},
   "outputs": [
    {
     "data": {
      "text/plain": [
       "[ true, [ 1, 2, 3 ] ]"
      ]
     },
     "execution_count": 10,
     "metadata": {},
     "output_type": "execute_result"
    }
   ],
   "source": [
    "array.slice(0, 3);"
   ]
  },
  {
   "cell_type": "markdown",
   "id": "86e88ae6",
   "metadata": {},
   "source": [
    "  "
   ]
  },
  {
   "cell_type": "markdown",
   "id": "876177b4",
   "metadata": {},
   "source": [
    "<h1 style=\"text-align: center;\"> Objetos </h1>"
   ]
  },
  {
   "cell_type": "markdown",
   "id": "7c66ab3f",
   "metadata": {},
   "source": [
    "Objetos são dados que possuem características, propriedades e valores. são definidos por chaves {}  \n",
    "**Exemplos:**"
   ]
  },
  {
   "cell_type": "code",
   "execution_count": 22,
   "id": "ed8d8758",
   "metadata": {},
   "outputs": [
    {
     "name": "stdout",
     "output_type": "stream",
     "text": [
      "┌──────────────┬──────────┐\n",
      "│   (index)    │  Values  │\n",
      "├──────────────┼──────────┤\n",
      "│ propriedade1 │ 'valor1' │\n",
      "│ propriedade2 │    2     │\n",
      "│ propriedade3 │   true   │\n",
      "│ propriedade4 │          │\n",
      "└──────────────┴──────────┘\n"
     ]
    }
   ],
   "source": [
    "var objeto = {\n",
    "    propriedade1: 'valor1',\n",
    "    propriedade2: 2,\n",
    "    propriedade3: true,\n",
    "    propriedade4: function(x){return 0;}\n",
    "}\n",
    "\n",
    "console.table(objeto)"
   ]
  },
  {
   "cell_type": "markdown",
   "id": "99cfb3ec",
   "metadata": {},
   "source": [
    "Para acessar um valor de uma propriedade de um objeto, existem duas formas:  "
   ]
  },
  {
   "cell_type": "code",
   "execution_count": 23,
   "id": "ec3e3232",
   "metadata": {},
   "outputs": [
    {
     "data": {
      "text/plain": [
       "'valor1'"
      ]
     },
     "execution_count": 23,
     "metadata": {},
     "output_type": "execute_result"
    }
   ],
   "source": [
    "objeto.propriedade1 // Neste modo acessamos por meio de ponto e nome da propriedade"
   ]
  },
  {
   "cell_type": "code",
   "execution_count": 24,
   "id": "520c1563",
   "metadata": {
    "scrolled": true
   },
   "outputs": [
    {
     "data": {
      "text/plain": [
       "'valor1'"
      ]
     },
     "execution_count": 24,
     "metadata": {},
     "output_type": "execute_result"
    }
   ],
   "source": [
    "objeto[\"propriedade1\"] // Neste modo acessamos por meio dos colchetes, é necessário uso das aspas."
   ]
  },
  {
   "cell_type": "markdown",
   "id": "8a320d69",
   "metadata": {},
   "source": [
    "para **adicionar outra propriedade** a um objeto já existente, usamos a seguinte sintaxe:  "
   ]
  },
  {
   "cell_type": "code",
   "execution_count": 25,
   "id": "e5559374",
   "metadata": {},
   "outputs": [
    {
     "name": "stdout",
     "output_type": "stream",
     "text": [
      "┌─────────────────┬──────────┐\n",
      "│     (index)     │  Values  │\n",
      "├─────────────────┼──────────┤\n",
      "│  propriedade1   │ 'valor1' │\n",
      "│  propriedade2   │    2     │\n",
      "│  propriedade3   │   true   │\n",
      "│  propriedade4   │          │\n",
      "│ novaPropriedade │   null   │\n",
      "└─────────────────┴──────────┘\n"
     ]
    }
   ],
   "source": [
    "objeto[\"novaPropriedade\"] = null;\n",
    "\n",
    "console.table(objeto)"
   ]
  },
  {
   "cell_type": "markdown",
   "id": "eb86e445",
   "metadata": {},
   "source": [
    "Os valores das propriedades de um objeto podem ser atribuidos a outra variável."
   ]
  },
  {
   "cell_type": "markdown",
   "id": "3b8761a6",
   "metadata": {},
   "source": [
    "Objetos podem ter outros **objetos como propriedade**:  "
   ]
  },
  {
   "cell_type": "code",
   "execution_count": 35,
   "id": "4a0f3a59",
   "metadata": {},
   "outputs": [
    {
     "name": "stdout",
     "output_type": "stream",
     "text": [
      "┌─────────────────┬──────────┬────────┬────────┬────────┬───────────┬──────────┐\n",
      "│     (index)     │  prop01  │ prop02 │ prop03 │ prop05 │  prop06   │  Values  │\n",
      "├─────────────────┼──────────┼────────┼────────┼────────┼───────────┼──────────┤\n",
      "│  propriedade1   │          │        │        │        │           │ 'valor1' │\n",
      "│  propriedade2   │          │        │        │        │           │    2     │\n",
      "│  propriedade3   │          │        │        │        │           │   true   │\n",
      "│  propriedade4   │          │        │        │        │           │          │\n",
      "│ novaPropriedade │          │        │        │        │           │   null   │\n",
      "│   novoObjeto    │ 'valor1' │   2    │  true  │  null  │ undefined │          │\n",
      "└─────────────────┴──────────┴────────┴────────┴────────┴───────────┴──────────┘\n"
     ]
    }
   ],
   "source": [
    "objeto[\"novoObjeto\"] = {\n",
    "    prop01: \"valor1\",\n",
    "    prop02: 2,\n",
    "    prop03: true,\n",
    "    //prop04: function(x){return 0;} Aparentemente função dentro de objeto de objeto não funciona!\n",
    "    prop05: null,\n",
    "    prop06: undefined,\n",
    "}\n",
    "console.table(objeto);"
   ]
  },
  {
   "cell_type": "code",
   "execution_count": 27,
   "id": "356353c5",
   "metadata": {},
   "outputs": [
    {
     "name": "stdout",
     "output_type": "stream",
     "text": [
      "valor1\n"
     ]
    }
   ],
   "source": [
    "var teste = objeto.propriedade1;\n",
    "console.log(teste)"
   ]
  },
  {
   "cell_type": "markdown",
   "id": "d523fc84",
   "metadata": {},
   "source": [
    "Também podem ser \"libertos\" ao se declarar uma nova variável com o nome da propriedade buscada no objeto."
   ]
  },
  {
   "cell_type": "code",
   "execution_count": 28,
   "id": "ff473fb3",
   "metadata": {},
   "outputs": [
    {
     "name": "stdout",
     "output_type": "stream",
     "text": [
      "true\n"
     ]
    }
   ],
   "source": [
    "var {propriedade3} = objeto\n",
    "console.log(propriedade3)"
   ]
  },
  {
   "cell_type": "code",
   "execution_count": 1,
   "id": "2ee68155",
   "metadata": {},
   "outputs": [
    {
     "ename": "SyntaxError",
     "evalue": "Invalid destructuring assignment target",
     "output_type": "error",
     "traceback": [
      "evalmachine.<anonymous>:1",
      "{}[\"teste\"] = 153",
      "   ^^^^^^^",
      "",
      "SyntaxError: Invalid destructuring assignment target",
      "    at new Script (vm.js:102:7)",
      "    at createScript (vm.js:262:10)",
      "    at Object.runInThisContext (vm.js:310:10)",
      "    at run ([eval]:1054:15)",
      "    at onRunRequest ([eval]:888:18)",
      "    at onMessage ([eval]:848:13)",
      "    at process.emit (events.js:400:28)",
      "    at emit (internal/child_process.js:912:12)",
      "    at processTicksAndRejections (internal/process/task_queues.js:83:21)"
     ]
    }
   ],
   "source": [
    "{}[\"teste\"] = 153"
   ]
  },
  {
   "cell_type": "code",
   "execution_count": 2,
   "id": "c06654f4",
   "metadata": {},
   "outputs": [
    {
     "data": {
      "text/plain": [
       "156"
      ]
     },
     "execution_count": 2,
     "metadata": {},
     "output_type": "execute_result"
    }
   ],
   "source": [
    "let ob = {};\n",
    "ob['teste'] = 156 "
   ]
  },
  {
   "cell_type": "code",
   "execution_count": 3,
   "id": "a11b675f",
   "metadata": {},
   "outputs": [
    {
     "data": {
      "text/plain": [
       "152"
      ]
     },
     "execution_count": 3,
     "metadata": {},
     "output_type": "execute_result"
    }
   ],
   "source": [
    "oi = {}['testete'] = 152\n",
    "oi"
   ]
  },
  {
   "cell_type": "code",
   "execution_count": 4,
   "id": "62779df3",
   "metadata": {},
   "outputs": [
    {
     "name": "stdout",
     "output_type": "stream",
     "text": [
      "teste\n"
     ]
    }
   ],
   "source": [
    "console.log(\"teste\")"
   ]
  },
  {
   "cell_type": "markdown",
   "id": "ddb30aa0",
   "metadata": {},
   "source": [
    "### teste"
   ]
  },
  {
   "cell_type": "code",
   "execution_count": null,
   "id": "d792be5f",
   "metadata": {},
   "outputs": [],
   "source": []
  }
 ],
 "metadata": {
  "kernelspec": {
   "display_name": "JavaScript (Node.js)",
   "language": "javascript",
   "name": "javascript"
  },
  "language_info": {
   "file_extension": ".js",
   "mimetype": "application/javascript",
   "name": "javascript",
   "version": "14.18.3"
  }
 },
 "nbformat": 4,
 "nbformat_minor": 5
}
