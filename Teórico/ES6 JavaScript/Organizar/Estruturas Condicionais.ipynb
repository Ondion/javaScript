{
 "cells": [
  {
   "cell_type": "markdown",
   "id": "1a85cce0",
   "metadata": {},
   "source": [
    "<h1 style=\"text-align: center;\">Estruturas Condicionais</h1>\n",
    "\n",
    "São estruturas ultilizadas para realizar tarefas se determinada condição for verdadeira ou falsa a depender da instrução."
   ]
  },
  {
   "cell_type": "markdown",
   "id": "cda699d9",
   "metadata": {},
   "source": [
    "**Estruturas de Repetição**  \n",
    "Neste tipo de estrutura, a tarefa será realizada enquanto uma condição for verdadeira.  \n",
    "\n",
    "Começaremos pela estrutura **for**, que executa uma instrução enquanto uma condição for verdadeira.  \n",
    "**Exemplos:**"
   ]
  },
  {
   "cell_type": "code",
   "execution_count": 2,
   "id": "2d4fcfc8",
   "metadata": {},
   "outputs": [
    {
     "name": "stdout",
     "output_type": "stream",
     "text": [
      "0\n",
      "1\n",
      "2\n",
      "3\n",
      "4\n",
      "5\n",
      "6\n",
      "7\n",
      "8\n",
      "9\n",
      "10\n"
     ]
    }
   ],
   "source": [
    "for (let number = 0; number <= 10; number +=1){\n",
    "    console.log(number);\n",
    "}"
   ]
  },
  {
   "cell_type": "code",
   "execution_count": 3,
   "id": "a6e12ae2",
   "metadata": {},
   "outputs": [
    {
     "name": "stdout",
     "output_type": "stream",
     "text": [
      "10\n",
      "9\n",
      "8\n",
      "7\n",
      "6\n",
      "5\n",
      "4\n",
      "3\n",
      "2\n",
      "1\n"
     ]
    }
   ],
   "source": [
    "var array = [10, 9, 8, 7, 6, 5, 4, 3, 2, 1]\n",
    "                                                        // Neste exemplo iremos percorrer todo vetor com a ajuda do\n",
    "for (let index = 0; index < array.length; index +=1){ // método .length que retorna a soma dos indices do array\n",
    "    console.log(array[index])\n",
    "}"
   ]
  },
  {
   "cell_type": "markdown",
   "id": "949e6b7d",
   "metadata": {},
   "source": [
    "**For/in**  \n",
    "Realiza a estrutura de repetição apartir dos indices de um array ou das propriedades de um objeto.  \n",
    "**Exemplos:**\n"
   ]
  },
  {
   "cell_type": "code",
   "execution_count": 1,
   "id": "f380f0ce",
   "metadata": {},
   "outputs": [
    {
     "name": "stdout",
     "output_type": "stream",
     "text": [
      "console.log do array: 0\n",
      "console.log do array: 1\n",
      "console.log do array: 2\n",
      "console.log do array: 3\n",
      "console.log do objeto:  nome\n",
      "console.log do objeto:  ativo\n",
      "console.log do objeto:  idade\n",
      "console.log do objeto:  OBS\n"
     ]
    }
   ],
   "source": [
    "array = [\"string\", true, 15, null];\n",
    "objeto = {\n",
    "    nome: \"string\",\n",
    "    ativo: true,\n",
    "    idade: 15,\n",
    "    OBS: null\n",
    "}\n",
    " \n",
    "for(index in array){\n",
    "    console.log(\"console.log do array:\",index)\n",
    "}\n",
    "\n",
    "for(index in objeto){\n",
    "    console.log(\"console.log do objeto: \", index)\n",
    "}\n",
    "\n"
   ]
  },
  {
   "cell_type": "markdown",
   "id": "a62683c8",
   "metadata": {},
   "source": [
    "**for/in indice/valor**  \n",
    "Um método muito ultilizado para usar o for/in para os valores de um array, gerando o mesmo resultado de um for/of    "
   ]
  },
  {
   "cell_type": "code",
   "execution_count": 18,
   "id": "fa9a2529",
   "metadata": {},
   "outputs": [
    {
     "name": "stdout",
     "output_type": "stream",
     "text": [
      "console.log do counteúdo do array: string\n",
      "console.log do counteúdo do array: true\n",
      "console.log do counteúdo do array: 15\n",
      "console.log do counteúdo do array: null\n"
     ]
    }
   ],
   "source": [
    "for(index in array){\n",
    "    console.log(\"console.log do counteúdo do array:\", array[index]);\n",
    "}"
   ]
  },
  {
   "cell_type": "markdown",
   "id": "e8bd55e0",
   "metadata": {},
   "source": [
    "**for/in objeto/valor**  \n",
    "Um método muito ultilizado para usar o for/in para os valores de um objeto:  "
   ]
  },
  {
   "cell_type": "code",
   "execution_count": 21,
   "id": "73b9f43e",
   "metadata": {},
   "outputs": [
    {
     "name": "stdout",
     "output_type": "stream",
     "text": [
      "console.log valores do objeto: string\n",
      "console.log valores do objeto: true\n",
      "console.log valores do objeto: 15\n",
      "console.log valores do objeto: null\n"
     ]
    }
   ],
   "source": [
    "for(index in objeto){\n",
    "    console.log(\"console.log valores do objeto:\", objeto[index]);\n",
    "}"
   ]
  },
  {
   "cell_type": "markdown",
   "id": "53bdbcd8",
   "metadata": {},
   "source": [
    "**For/of para arrays**  \n",
    "Realiza a estrutura de repetição apartir do conteúdo de um array.  \n",
    "**Exemplo:**"
   ]
  },
  {
   "cell_type": "code",
   "execution_count": 5,
   "id": "80dbfc8b",
   "metadata": {},
   "outputs": [
    {
     "name": "stdout",
     "output_type": "stream",
     "text": [
      "console.log do array: string\n",
      "console.log do array: true\n",
      "console.log do array: 15\n",
      "console.log do array: null\n"
     ]
    }
   ],
   "source": [
    "array = [\"string\", true, 15, null];\n",
    "\n",
    "for(index of array){\n",
    "    console.log(\"console.log do array:\",index)\n",
    "}"
   ]
  },
  {
   "cell_type": "markdown",
   "id": "f9bc75d4",
   "metadata": {},
   "source": [
    "**For/of para objetos em string**  \n",
    "Realiza a estrutura de repetição, porem apenas para cada valor de uma propriedade de um objeto/string, não sendo muito recomendado.  \n",
    "**Exemplo:**"
   ]
  },
  {
   "cell_type": "code",
   "execution_count": 11,
   "id": "b25e49a1",
   "metadata": {},
   "outputs": [
    {
     "name": "stdout",
     "output_type": "stream",
     "text": [
      "console.log do objeto.nome:  s\n",
      "console.log do objeto.nome:  t\n",
      "console.log do objeto.nome:  r\n",
      "console.log do objeto.nome:  i\n",
      "console.log do objeto.nome:  n\n",
      "console.log do objeto.nome:  g\n"
     ]
    }
   ],
   "source": [
    "objeto = {\n",
    "    nome: \"string\",\n",
    "    ativo: true,\n",
    "    idade: 15,\n",
    "    OBS: null\n",
    "}\n",
    "\n",
    "for(index of objeto.nome){\n",
    "    console.log(\"console.log do objeto.nome: \", index)\n",
    "}\n"
   ]
  },
  {
   "cell_type": "markdown",
   "id": "f86068d9",
   "metadata": {},
   "source": [
    "**Estrutura de repetição While**  \n",
    "Essa estrutura realiza a repetição enquanto a condição passada for verdadeira, a verificação da condição é realizada antes da execução.  \n",
    "**Exemplo:**"
   ]
  },
  {
   "cell_type": "code",
   "execution_count": 7,
   "id": "45be5340",
   "metadata": {},
   "outputs": [
    {
     "name": "stdout",
     "output_type": "stream",
     "text": [
      "0\n",
      "1\n",
      "2\n",
      "3\n",
      "4\n"
     ]
    },
    {
     "data": {
      "text/plain": [
       "5"
      ]
     },
     "execution_count": 7,
     "metadata": {},
     "output_type": "execute_result"
    }
   ],
   "source": [
    "var a = 0;\n",
    "while(a < 5){\n",
    "    console.log(a)\n",
    "    a = a + 1\n",
    "}"
   ]
  },
  {
   "cell_type": "markdown",
   "id": "4e6e4b5f",
   "metadata": {},
   "source": [
    "**Estrutura de repetição Do/While**  \n",
    "Essa estrutura realiza a repetição enquanto a condição passada for verdadeira, a verificação da condição é realizada após à execução.  \n",
    "**Exemplo:**"
   ]
  },
  {
   "cell_type": "code",
   "execution_count": 31,
   "id": "23925cec",
   "metadata": {},
   "outputs": [
    {
     "name": "stdout",
     "output_type": "stream",
     "text": [
      "1\n",
      "2\n",
      "3\n",
      "4\n",
      "5\n"
     ]
    }
   ],
   "source": [
    "var a = 0;\n",
    "\n",
    "do{\n",
    "    a = a + 1\n",
    "    console.log(a)\n",
    "}\n",
    "while(a < 5)"
   ]
  },
  {
   "cell_type": "markdown",
   "id": "5b526eb9",
   "metadata": {},
   "source": [
    "<br>"
   ]
  },
  {
   "cell_type": "markdown",
   "id": "9cfd633b",
   "metadata": {},
   "source": [
    "**Estruturas de Decisões**  \n",
    "São estruturas usadas para realizar uma decisão do decorrer do programa.  \n",
    "A primeira será o **if** que decide sobre uma situação ou outra.  \n",
    "**Exemplo:**"
   ]
  },
  {
   "cell_type": "code",
   "execution_count": 35,
   "id": "3ce3680e",
   "metadata": {},
   "outputs": [
    {
     "name": "stdout",
     "output_type": "stream",
     "text": [
      "a é verdadeiro\n"
     ]
    }
   ],
   "source": [
    "var a = true; // Situação de uso de um if simples\n",
    "\n",
    "if (a == true){\n",
    "    console.log(\"a é verdadeiro\")\n",
    "}"
   ]
  },
  {
   "cell_type": "code",
   "execution_count": 36,
   "id": "257427ab",
   "metadata": {},
   "outputs": [
    {
     "name": "stdout",
     "output_type": "stream",
     "text": [
      "a é falso\n"
     ]
    }
   ],
   "source": [
    "var a = false; // Situação de uso de um if com else\n",
    "\n",
    "if (a == true){\n",
    "    console.log(\"a é verdadeiro\")\n",
    "} else{\n",
    "    console.log(\"a é falso\")\n",
    "}"
   ]
  },
  {
   "cell_type": "code",
   "execution_count": 38,
   "id": "947503a3",
   "metadata": {},
   "outputs": [
    {
     "name": "stdout",
     "output_type": "stream",
     "text": [
      "não sei o que é a\n"
     ]
    }
   ],
   "source": [
    "var a = null; // Situação de uso de um if composto com else if e else\n",
    "\n",
    "if (a == true){\n",
    "    console.log(\"a é verdadeiro\");\n",
    "} else if (a == false){\n",
    "    console.log(\"a é falso\");\n",
    "} else{\n",
    "    console.log(\"não sei o que é a\");\n",
    "}"
   ]
  },
  {
   "cell_type": "markdown",
   "id": "3915d715",
   "metadata": {},
   "source": [
    "<br>\n",
    "<em>É possivel usar if dentro de if, confome exemplo:</em>"
   ]
  },
  {
   "cell_type": "code",
   "execution_count": 43,
   "id": "910c53a1",
   "metadata": {},
   "outputs": [
    {
     "name": "stdout",
     "output_type": "stream",
     "text": [
      "pode ser nulo\n"
     ]
    }
   ],
   "source": [
    "var a = null;\n",
    "\n",
    "if (a == true){\n",
    "    console.log(\"a é verdadeiro\");\n",
    "} else if (a == false){\n",
    "    console.log(\"a é falso\");\n",
    "} else{\n",
    "    if (a === undefined){\n",
    "        console.log(\"a é indefinido\");\n",
    "    } else {\n",
    "        console.log(\"pode ser nulo\")\n",
    "    }\n",
    "}"
   ]
  },
  {
   "cell_type": "markdown",
   "id": "6f6354ca",
   "metadata": {},
   "source": [
    "**if ternário**  \n",
    "Podemos usar o if com apenas uma linha, essa sintaxe é chamada de ternário.  \n",
    "**Exemplo:**"
   ]
  },
  {
   "cell_type": "code",
   "execution_count": 45,
   "id": "7673456d",
   "metadata": {},
   "outputs": [
    {
     "name": "stdout",
     "output_type": "stream",
     "text": [
      "a não é true\n"
     ]
    }
   ],
   "source": [
    "var a = null;\n",
    "\n",
    "a == true ? console.log(\"a é true\") : console.log(\"a não é true\");"
   ]
  },
  {
   "cell_type": "markdown",
   "id": "745f6678",
   "metadata": {},
   "source": [
    "Agora passaremos para o **switch/case** que decide sobre uma situação entre varios elementos chamados case.  \n",
    "**Exemplo:**"
   ]
  },
  {
   "cell_type": "code",
   "execution_count": 1,
   "id": "cc7a0b61",
   "metadata": {},
   "outputs": [
    {
     "name": "stdout",
     "output_type": "stream",
     "text": [
      "é uma string\n"
     ]
    }
   ],
   "source": [
    "let variavel = \"string\";\n",
    "\n",
    "switch(variavel){\n",
    "    case 1:\n",
    "        console.log(\"é um number\");\n",
    "        break;\n",
    "    case true:\n",
    "        console.log(\"é um boleano\");\n",
    "        break;\n",
    "    case \"string\":\n",
    "        console.log(\"é uma string\");\n",
    "        break;\n",
    "    default:\n",
    "        console.log(\"não sei o que é!\")\n",
    "}"
   ]
  }
 ],
 "metadata": {
  "kernelspec": {
   "display_name": "JavaScript (Node.js)",
   "language": "javascript",
   "name": "javascript"
  },
  "language_info": {
   "file_extension": ".js",
   "mimetype": "application/javascript",
   "name": "javascript",
   "version": "16.14.2"
  }
 },
 "nbformat": 4,
 "nbformat_minor": 5
}
