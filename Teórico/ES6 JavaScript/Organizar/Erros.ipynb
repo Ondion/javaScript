{
 "cells": [
  {
   "cell_type": "code",
   "execution_count": 1,
   "id": "fb4343de",
   "metadata": {},
   "outputs": [
    {
     "ename": "TypeError",
     "evalue": "array is not iterable",
     "output_type": "error",
     "traceback": [
      "evalmachine.<anonymous>:3",
      "for(index of array){",
      "             ^",
      "",
      "TypeError: array is not iterable",
      "    at evalmachine.<anonymous>:3:14",
      "    at Script.runInThisContext (vm.js:134:12)",
      "    at Object.runInThisContext (vm.js:310:38)",
      "    at run ([eval]:1054:15)",
      "    at onRunRequest ([eval]:888:18)",
      "    at onMessage ([eval]:848:13)",
      "    at process.emit (events.js:400:28)",
      "    at emit (internal/child_process.js:912:12)",
      "    at processTicksAndRejections (internal/process/task_queues.js:83:21)"
     ]
    }
   ],
   "source": [
    "var array = 5;\n",
    "\n",
    "for(index of array){\n",
    "    console.log(\"console.log do array:\",index)\n",
    "}"
   ]
  },
  {
   "cell_type": "code",
   "execution_count": null,
   "id": "01606399",
   "metadata": {},
   "outputs": [],
   "source": []
  },
  {
   "cell_type": "code",
   "execution_count": null,
   "id": "f16c4d7f",
   "metadata": {},
   "outputs": [],
   "source": []
  }
 ],
 "metadata": {
  "kernelspec": {
   "display_name": "JavaScript (Node.js)",
   "language": "javascript",
   "name": "javascript"
  },
  "language_info": {
   "file_extension": ".js",
   "mimetype": "application/javascript",
   "name": "javascript",
   "version": "14.18.1"
  }
 },
 "nbformat": 4,
 "nbformat_minor": 5
}
