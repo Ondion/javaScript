{
 "cells": [
  {
   "cell_type": "markdown",
   "id": "6cf72667",
   "metadata": {},
   "source": [
    "<h1 style=\"text-align: center;\">Extras</h1>\n",
    "<hr>"
   ]
  }
 ],
 "metadata": {
  "language_info": {
   "name": "python"
  },
  "orig_nbformat": 4
 },
 "nbformat": 4,
 "nbformat_minor": 2
}
