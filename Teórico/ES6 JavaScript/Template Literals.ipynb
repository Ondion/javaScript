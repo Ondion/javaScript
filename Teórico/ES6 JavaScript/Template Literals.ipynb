{
 "cells": [
  {
   "cell_type": "markdown",
   "metadata": {},
   "source": [
    "<h1 style=\"text-align: center;\">Template Literals</h1>\n",
    "<hr>"
   ]
  },
  {
   "cell_type": "markdown",
   "metadata": {},
   "source": [
    "*_Template literals nos permite criar strings complexas de forma mais simplificada._*  \n",
    "**Exemplos:**"
   ]
  },
  {
   "cell_type": "code",
   "execution_count": 1,
   "metadata": {},
   "outputs": [
    {
     "name": "stdout",
     "output_type": "stream",
     "text": [
      "Welcome Isabella!\n"
     ]
    }
   ],
   "source": [
    "const myName = 'Marry';\n",
    "console.log(`Welcome ${myName}!`);"
   ]
  },
  {
   "cell_type": "markdown",
   "metadata": {},
   "source": [
    "*_A sintaxe do **template literals** usarmos o sinal de crases no início e no final da frase, e variáveis pu expressões dentro de um ${variável}._*  \n",
    "**Exemplo:**"
   ]
  },
  {
   "cell_type": "code",
   "execution_count": 1,
   "metadata": {},
   "outputs": [
    {
     "name": "stdout",
     "output_type": "stream",
     "text": [
      "Essa é uma string criada com template literals, já aqui temos uma expressão: 1 + 1 = 2\n"
     ]
    }
   ],
   "source": [
    "const a = 'string';\n",
    "const b = 1;\n",
    "const c = 1;\n",
    "\n",
    "console.log(`Essa é uma ${a} criada com template literals, já aqui temos uma expressão: 1 + 1 = ${b + c}`);"
   ]
  },
  {
   "cell_type": "markdown",
   "metadata": {},
   "source": [
    "*_Também podemos quebrar linhas dentro de uma template literals de forma mais simplificada._*  \n",
    "**Exemplo:**"
   ]
  },
  {
   "cell_type": "code",
   "execution_count": 2,
   "metadata": {},
   "outputs": [
    {
     "name": "stdout",
     "output_type": "stream",
     "text": [
      "Exemplo de \n",
      "quebras de linhas\n",
      "usando o template\n",
      "literals\n"
     ]
    }
   ],
   "source": [
    "console.log(`Exemplo de \n",
    "quebras de linhas\n",
    "usando o template\n",
    "literals`);"
   ]
  }
 ],
 "metadata": {
  "kernelspec": {
   "display_name": "JavaScript (Node.js)",
   "language": "javascript",
   "name": "javascript"
  },
  "language_info": {
   "file_extension": ".js",
   "mimetype": "application/javascript",
   "name": "javascript",
   "version": "14.18.3"
  }
 },
 "nbformat": 4,
 "nbformat_minor": 2
}
