{
 "cells": [
  {
   "cell_type": "markdown",
   "id": "e6346d2b",
   "metadata": {},
   "source": [
    "module.exports = funcaoParaExportar;"
   ]
  },
  {
   "cell_type": "markdown",
   "id": "c687a5d6",
   "metadata": {},
   "source": [
    "const funcoesParaImportar = require('./localDoArquivo');"
   ]
  }
 ],
 "metadata": {
  "kernelspec": {
   "display_name": "JavaScript (Node.js)",
   "language": "javascript",
   "name": "javascript"
  },
  "language_info": {
   "file_extension": ".js",
   "mimetype": "application/javascript",
   "name": "javascript",
   "version": "14.18.1"
  }
 },
 "nbformat": 4,
 "nbformat_minor": 5
}
