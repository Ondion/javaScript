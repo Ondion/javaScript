{
 "cells": [
  {
   "cell_type": "markdown",
   "id": "ffeed249",
   "metadata": {},
   "source": [
    "<h1 style=\"text-align:center;\">Introdução!</h1>\n",
    "<hr>"
   ]
  },
  {
   "cell_type": "markdown",
   "id": "6d38e306",
   "metadata": {},
   "source": [
    "*_Redux é um contêiner para armazenar estados de aplicativos JavaScript. Ele ajuda você a escrever aplicativos que se comportam de forma consistente, executados em diferentes ambientes (cliente, servidor e nativo) e são fáceis de testar. Você pode usar o Redux juntamente com o React ou com qualquer outra biblioteca frontend._*  \n",
    "  \n",
    "*_Redux é uma biblioteca com ampla adoção na comunidade React, além de contar com implementações que superam as fronteiras do JavaScript, como arquiteturas para desenvolvimento Android e iOS que se baseiam na estrutura de gerenciamento de estado que o Redux traz._*  "
   ]
  },
  {
   "cell_type": "markdown",
   "id": "bb84f479",
   "metadata": {},
   "source": [
    "**De forma básica, a operação do Reduz pode ser dividido em três partes:**"
   ]
  },
  {
   "cell_type": "markdown",
   "id": "10a8a1ec",
   "metadata": {},
   "source": [
    "*_**Store**  \n",
    "A store é onde o estado centralizado da aplicação fica registrado e protegido. As mudanças ou consultas feitas na store precisam estar definidas anteriormente numa action. Isso garante a integridade dos dados._*"
   ]
  },
  {
   "cell_type": "markdown",
   "id": "d95594c3",
   "metadata": {},
   "source": [
    "*_**Actions**  \n",
    "As actions são as possíveis ações, em forma de objeto, que seu sistema pode executar na store. Elas atuam para manter os dados dos estados da aplicação e as suas mudanças previsíveis e consistentes. É bem comum ouvirmos que as actions são intenções de mudança de estado._*"
   ]
  },
  {
   "cell_type": "markdown",
   "id": "63231bb1",
   "metadata": {},
   "source": [
    "*_**Reducers**  \n",
    "Os reducers são funçÕes responsáveis por manipular a store seguindo as regras definidas pelas actions. Os reducers são importantes para evitar a manipulação direta da store e facilitam a manutenção do código._*  \n",
    "*_Em sua manipulação, um reducer retorna um estado novo._*"
   ]
  },
  {
   "cell_type": "markdown",
   "id": "e3607e5f",
   "metadata": {},
   "source": [
    "<hr/>\n",
    "<br>  \n",
    "  "
   ]
  },
  {
   "cell_type": "markdown",
   "id": "fcf02924",
   "metadata": {},
   "source": [
    "*_Para instalar o Reduz, em um projeto JS já inicializado, via NPM, usamos o comando:_* ```npm install redux```  "
   ]
  }
 ],
 "metadata": {
  "kernelspec": {
   "display_name": "JavaScript (Node.js)",
   "language": "javascript",
   "name": "javascript"
  },
  "language_info": {
   "file_extension": ".js",
   "mimetype": "application/javascript",
   "name": "javascript",
   "version": "14.18.3"
  }
 },
 "nbformat": 4,
 "nbformat_minor": 5
}
