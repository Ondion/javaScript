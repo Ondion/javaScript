{
 "cells": [
  {
   "cell_type": "markdown",
   "id": "ffeed249",
   "metadata": {},
   "source": [
    "<h1 style=\"text-align:center;\">Comandos</h1>\n",
    "<hr>"
   ]
  },
  {
   "cell_type": "markdown",
   "id": "5ebbd9b2",
   "metadata": {},
   "source": [
    "const Redux = require('redux');"
   ]
  },
  {
   "cell_type": "markdown",
   "id": "3c7d7383",
   "metadata": {},
   "source": [
    "const store = Redux.createStore();"
   ]
  },
  {
   "cell_type": "markdown",
   "id": "9b45fd1b",
   "metadata": {},
   "source": [
    "const reducer = (state) => {\n",
    "return state;\n",
    "};\n",
    "\n",
    "const store = Redux.createStore(reducer);"
   ]
  },
  {
   "cell_type": "markdown",
   "id": "92530c8b",
   "metadata": {},
   "source": [
    "const ESTADO_INICIAL = {\n",
    "  login: false,\n",
    "  email: \"\",\n",
    "};\n",
    "\n",
    "const reducer = (state = ESTADO_INICIAL) => {\n",
    "  return state;\n",
    "};\n",
    "\n",
    "const store = Redux.createStore(reducer);\n",
    "\n",
    "console.log(store.getState());\n",
    "\n",
    "//{ login: false, email: '' }"
   ]
  },
  {
   "cell_type": "markdown",
   "id": "30607c0e",
   "metadata": {},
   "source": [
    "#### Apagar!!!"
   ]
  }
 ],
 "metadata": {
  "kernelspec": {
   "display_name": "JavaScript (Node.js)",
   "language": "javascript",
   "name": "javascript"
  },
  "language_info": {
   "file_extension": ".js",
   "mimetype": "application/javascript",
   "name": "javascript",
   "version": "14.18.3"
  }
 },
 "nbformat": 4,
 "nbformat_minor": 5
}
