{
 "cells": [
  {
   "cell_type": "markdown",
   "id": "ffeed249",
   "metadata": {},
   "source": [
    "<h1 style=\"text-align:center;\">Comandos</h1>\n",
    "<hr>"
   ]
  },
  {
   "cell_type": "code",
   "execution_count": 3,
   "id": "5ebbd9b2",
   "metadata": {},
   "outputs": [],
   "source": [
    "// Exemplo de criação de um store, no redux.\n",
    "\n",
    "const reducer = (state) => {\n",
    "  return state;\n",
    "}\n",
    "\n",
    "const store = Redux.createStore(reducer);"
   ]
  },
  {
   "cell_type": "code",
   "execution_count": null,
   "id": "9ae3a8ec",
   "metadata": {},
   "outputs": [],
   "source": [
    "// Exemplo de combinação de Reducers\n",
    "\n",
    "import { createStore, combineReducers } from \"redux\";\n",
    "\n",
    "const reducers = combineReducers({\n",
    "  nomeParaReducer: reducerFunction,\n",
    "  outroReducer: anotherReducerFunction,\n",
    "  // Porem ser combinados quantos reducers forem necessários.\n",
    "})\n",
    "\n",
    "const store = createStore(reducers);\n",
    "\n"
   ]
  },
  {
   "cell_type": "code",
   "execution_count": null,
   "id": "3c7d7383",
   "metadata": {},
   "outputs": [],
   "source": [
    "// Exemplo de leitura de uma store.\n",
    "\n",
    "const currentState = store.getState();"
   ]
  },
  {
   "cell_type": "code",
   "execution_count": null,
   "id": "9b45fd1b",
   "metadata": {},
   "outputs": [],
   "source": [
    "// Exemplo de criação de uma Action simples.\n",
    "\n",
    "const action = {\n",
    "  type: 'LOGIN'\n",
    "}"
   ]
  },
  {
   "cell_type": "code",
   "execution_count": null,
   "id": "305a849b",
   "metadata": {},
   "outputs": [],
   "source": [
    "// Exemplo de action com argumentos.\n",
    "\n",
    "const action = (send1, send2) => ({\n",
    "  type: 'ACTION_TEST',\n",
    "  payload: {\n",
    "    valor1: send1,\n",
    "    valor2: send2,\n",
    "  }\n",
    "});\n",
    "\n",
    "export default change;"
   ]
  },
  {
   "cell_type": "code",
   "execution_count": null,
   "id": "78b4a079",
   "metadata": {},
   "outputs": [],
   "source": [
    "// Exemplo de combinação de reduces.\n",
    "\n",
    "const reducerCombinado = combineReducers({ meuReducer, meuOutroReducer });"
   ]
  },
  {
   "cell_type": "code",
   "execution_count": null,
   "id": "a68facde",
   "metadata": {},
   "outputs": [],
   "source": [
    "// Chamada da extensão DevTools para trabalhar com o Redux em combinação com o navegador. Essa extensão deve está instalada no navegador também.\n",
    "\n",
    "import { composeWithDevTools } from 'redux-devtools-extension';\n",
    "const store = createStore((state = {}) => state, composeWithDevTools());"
   ]
  },
  {
   "cell_type": "code",
   "execution_count": null,
   "id": "d05b424f",
   "metadata": {},
   "outputs": [],
   "source": [
    "// Importação e aplicação do Provider, que é um componente utilizado para conectar as dependências do Redux ao código React. \n",
    "\n",
    "import { Provider } from 'react-redux';\n",
    "import store from './redux/store'; // <<< Local do arquivo JS com o store.\n",
    "\n",
    "<Provider store={ store }>\n",
    "\n",
    "</Provider>"
   ]
  },
  {
   "cell_type": "code",
   "execution_count": null,
   "id": "b426e9e9",
   "metadata": {},
   "outputs": [],
   "source": [
    "// Exemplo de uso do connect, em um componente React, lembrando que é necessário usar a função no momento de exportar o componente.\n",
    "\n",
    "import { connect } from 'react-redux';\n",
    "\n",
    "export default connect()(CommentReact); // A função connect executa sua lógica e retornar outra função, que será automaticamente executada no componente. Este tipo de ação é chamada de \"currying\"."
   ]
  },
  {
   "cell_type": "code",
   "execution_count": null,
   "id": "a6ee0b4c",
   "metadata": {},
   "outputs": [],
   "source": [
    "// Já aqui, temos um exemplo de como ler o store e passa-lo para as props do componente.\n",
    "\n",
    "function mapStateToProps(state) {\n",
    "  return state;\n",
    "}\n",
    "\n",
    "export default connect(mapStateToProps)(CommentReact);"
   ]
  },
  {
   "cell_type": "code",
   "execution_count": null,
   "id": "20e7f5bb",
   "metadata": {},
   "outputs": [],
   "source": [
    "// Exemplo de abstração do envio do dispatch  \n",
    "\n",
    "function mapDispatchToProps(dispatch){\n",
    "  return {\n",
    "    callDispatchOnProps: (send1, send2) => dispatch(actionFunction(send1, send2)),\n",
    "  }\n",
    "};"
   ]
  }
 ],
 "metadata": {
  "kernelspec": {
   "display_name": "JavaScript (Node.js)",
   "language": "javascript",
   "name": "javascript"
  },
  "language_info": {
   "file_extension": ".js",
   "mimetype": "application/javascript",
   "name": "javascript",
   "version": "16.14.2"
  }
 },
 "nbformat": 4,
 "nbformat_minor": 5
}
