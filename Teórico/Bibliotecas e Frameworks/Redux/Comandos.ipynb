{
 "cells": [
  {
   "cell_type": "markdown",
   "id": "ffeed249",
   "metadata": {},
   "source": [
    "<h1 style=\"text-align:center;\">Comandos</h1>\n",
    "<hr>"
   ]
  },
  {
   "cell_type": "code",
   "execution_count": 3,
   "id": "5ebbd9b2",
   "metadata": {},
   "outputs": [],
   "source": [
    "// Exemplo de criação de um store, no redux.\n",
    "\n",
    "const reducer = (state) => {\n",
    "  return state;\n",
    "}\n",
    "\n",
    "const store = Redux.createStore(reducer);"
   ]
  },
  {
   "cell_type": "code",
   "execution_count": null,
   "id": "3c7d7383",
   "metadata": {},
   "outputs": [],
   "source": [
    "// Exemplo de leitura de uma store.\n",
    "\n",
    "const currentState = store.getState();"
   ]
  },
  {
   "cell_type": "code",
   "execution_count": null,
   "id": "9b45fd1b",
   "metadata": {},
   "outputs": [],
   "source": [
    "// Exemplo de criação de uma Action simples.\n",
    "\n",
    "const action = {\n",
    "  type: 'LOGIN'\n",
    "}"
   ]
  },
  {
   "cell_type": "code",
   "execution_count": null,
   "id": "78b4a079",
   "metadata": {},
   "outputs": [],
   "source": [
    "// Exemplo de combinação de reduces.\n",
    "\n",
    "const reducerCombinado = combineReducers({ meuReducer, meuOutroReducer });"
   ]
  }
 ],
 "metadata": {
  "kernelspec": {
   "display_name": "JavaScript (Node.js)",
   "language": "javascript",
   "name": "javascript"
  },
  "language_info": {
   "file_extension": ".js",
   "mimetype": "application/javascript",
   "name": "javascript",
   "version": "16.14.2"
  }
 },
 "nbformat": 4,
 "nbformat_minor": 5
}
