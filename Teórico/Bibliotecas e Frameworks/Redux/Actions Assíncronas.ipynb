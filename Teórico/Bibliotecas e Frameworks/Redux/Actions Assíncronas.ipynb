{
 "cells": [
  {
   "cell_type": "markdown",
   "id": "ffeed249",
   "metadata": {},
   "source": [
    "<h1 style=\"text-align:center;\">Actions Assíncronas</h1>\n",
    "<hr>"
   ]
  },
  {
   "cell_type": "markdown",
   "id": "e3f5986b",
   "metadata": {},
   "source": [
    "*_Vamos utilizar um ```thunk```, que é uma operação ```middleware``` para passamos actions assíncronas._* "
   ]
  },
  {
   "cell_type": "markdown",
   "id": "d2ac2f0b",
   "metadata": {},
   "source": [
    "```thunk``` é uma função"
   ]
  },
  {
   "cell_type": "markdown",
   "id": "e065cb21",
   "metadata": {},
   "source": [
    "**Thunk Creator**  \n",
    "  \n",
    "*_É nois queiroz_*"
   ]
  },
  {
   "cell_type": "code",
   "execution_count": 3,
   "id": "21b9bcf5",
   "metadata": {},
   "outputs": [
    {
     "name": "stdout",
     "output_type": "stream",
     "text": [
      "teste\n"
     ]
    }
   ],
   "source": [
    "// Exemplo de função thunk creator:\n",
    "\n",
    "function thunkCreator() {\n",
    "  return function(dispatch) {\n",
    "  }\n",
    "}"
   ]
  }
 ],
 "metadata": {
  "kernelspec": {
   "display_name": "JavaScript (Node.js)",
   "language": "javascript",
   "name": "javascript"
  },
  "language_info": {
   "file_extension": ".js",
   "mimetype": "application/javascript",
   "name": "javascript",
   "version": "16.14.2"
  }
 },
 "nbformat": 4,
 "nbformat_minor": 5
}
