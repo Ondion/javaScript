{
 "cells": [
  {
   "cell_type": "markdown",
   "id": "f7eceb53",
   "metadata": {},
   "source": [
    "<h1 style=\"text-align: center;\">Instalação do React</h1>\n",
    "<hr>"
   ]
  },
  {
   "cell_type": "markdown",
   "id": "6a2988ec",
   "metadata": {},
   "source": [
    "Para realizamos a instalação do React, neste exemplo, usaremos o NPM, também é possivel usar outros gerenciados de pacote.  \n",
    "  \n",
    "Abaixo seguem os passos com explicações sobre cada um deles. é impotante garantir que o Node já esteja instalado."
   ]
  },
  {
   "cell_type": "markdown",
   "id": "61e037fc",
   "metadata": {},
   "source": [
    "**Checar o Node** - O comando ```npm --version``` que deve ser aplicado no terminal, retorna a versão instalada do Node, é a melhor maneira de verificar se o node está instalado."
   ]
  },
  {
   "cell_type": "markdown",
   "id": "5cc67758",
   "metadata": {},
   "source": [
    "**Iniciar o projeto Node** - Com o comando ```npm init -y``` podemos iniciar o projeto na pasta atual. O ```-y``` no comando é uma flag para responder y(yes) para todas as perguntas do instalador."
   ]
  },
  {
   "cell_type": "markdown",
   "id": "dc44950d",
   "metadata": {},
   "source": [
    "**Criando os pacotes React** - Agora usamos o comando ```npx create-react-app <nome_do_projeto>```. ultilizar o ```npx``` executa os pacotes de instalação e mantem apenas os arquivos necessários para o projeto, diferente do ```npm``` que alem de instalar mantem os pacotes de instalação."
   ]
  },
  {
   "cell_type": "markdown",
   "id": "5a423c23",
   "metadata": {},
   "source": [
    "**Executar o React** - Para executar o projeto React e usamos o comando ```npm start```, se houve algum problema durante a instalação dos pacores esse comando provavelmente não irar funcionar."
   ]
  }
 ],
 "metadata": {
  "kernelspec": {
   "display_name": "JavaScript (Node.js)",
   "language": "javascript",
   "name": "javascript"
  },
  "language_info": {
   "file_extension": ".js",
   "mimetype": "application/javascript",
   "name": "javascript",
   "version": "14.18.3"
  }
 },
 "nbformat": 4,
 "nbformat_minor": 5
}
