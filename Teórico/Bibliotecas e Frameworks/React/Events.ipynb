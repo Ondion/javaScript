{
 "cells": [
  {
   "cell_type": "markdown",
   "id": "ffeed249",
   "metadata": {},
   "source": [
    "<h1 style=\"text-align:center;\">Events</h1>\n",
    "<hr>"
   ]
  },
  {
   "cell_type": "markdown",
   "id": "7f716883",
   "metadata": {},
   "source": [
    "*_A sintaxe para adicionar eventos no React é parcialmente diferente do javaScript, sua declaração é feita em linha._*  \n",
    "**Exemplos:**"
   ]
  },
  {
   "cell_type": "code",
   "execution_count": null,
   "id": "23cdde94",
   "metadata": {},
   "outputs": [],
   "source": [
    "// Adicionando um evento de click ao botão que aciona um alert.\n",
    "\n",
    "const App = () => {\n",
    "    return(\n",
    "        <button onClick={funcExe} > Botão </button>\n",
    "    );\n",
    "}\n",
    "\n",
    "const funcExe = () => window.alert(\"Exemplo de Evento!\")\n",
    "\n",
    "// A função funcExe, sempre que houve um click no botão."
   ]
  },
  {
   "cell_type": "markdown",
   "id": "7eb3857d",
   "metadata": {},
   "source": [
    "<br>"
   ]
  },
  {
   "cell_type": "markdown",
   "id": "519757a2",
   "metadata": {},
   "source": [
    "*_Exemplo de evento declarado inline:_*"
   ]
  },
  {
   "cell_type": "code",
   "execution_count": null,
   "id": "a40bcb58",
   "metadata": {},
   "outputs": [],
   "source": [
    "const App = () => {\n",
    "    return(\n",
    "        <button onClick={() => window.alert(\"ok!\")} > Botão </button>\n",
    "    );\n",
    "}"
   ]
  },
  {
   "cell_type": "markdown",
   "id": "b07f1c0f",
   "metadata": {},
   "source": [
    "<br>"
   ]
  },
  {
   "cell_type": "markdown",
   "id": "29d681db",
   "metadata": {},
   "source": [
    "### Eventos com parâmetros  \n",
    "*_ Em a"
   ]
  }
 ],
 "metadata": {
  "kernelspec": {
   "display_name": "JavaScript (Node.js)",
   "language": "javascript",
   "name": "javascript"
  },
  "language_info": {
   "file_extension": ".js",
   "mimetype": "application/javascript",
   "name": "javascript",
   "version": "14.18.3"
  }
 },
 "nbformat": 4,
 "nbformat_minor": 5
}
