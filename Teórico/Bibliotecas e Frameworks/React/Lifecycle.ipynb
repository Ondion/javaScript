{
 "cells": [
  {
   "cell_type": "markdown",
   "id": "ffeed249",
   "metadata": {},
   "source": [
    "<h1 style=\"text-align:center;\">Lifecycle</h1>\n",
    "<hr>"
   ]
  },
  {
   "cell_type": "markdown",
   "id": "0e83082a",
   "metadata": {},
   "source": [
    "*_**Lifecycle** se refere ao ciclo de vida que os componentes react tem, é a forma que a biblioteca gerência a atividade desses componentes na página e nos dar as ferramentas para altera-los se vier a ser necessário._*"
   ]
  },
  {
   "cell_type": "markdown",
   "metadata": {},
   "source": [
    "![LifecycleReact](images/Lifecycle_01)"
   ]
  },
  {
   "cell_type": "markdown",
   "id": "61c74667",
   "metadata": {},
   "source": [
    "*_Existem funções específicas que são executadas ao final de cada fase do ciclo de vida de um componente, porém existem outras funções consideradas menos comuns, como é caso de shouldComponentUpdate, que pode ser chamada na fase de atualização._*  \n",
    "\n",
    "*_Os componentes React , possuem um ciclo de vida dividido em 3 etapas:_*  \n",
    "\n",
    " * Montagem - quando o componente é inicializado e inserido no DOM;\n",
    " * Atualização - quando os props ou estados do componente são alterados;\n",
    " * Desmontagem - quando o componente é excluído, sumindo do DOM.\n"
   ]
  },
  {
   "cell_type": "markdown",
   "id": "6079df19",
   "metadata": {},
   "source": [
    "*_O ciclo de vida é acessível por meio de métodos nativos dos class components. Como exemplo o render, que é chamado toda vez que uma atualização acontece. Ele possui características intrínsecas que permitem adicionar o componente no DOM. Assim como o render, outros métodos possuem suas próprias características e objetivos._*  \n",
    "  \n",
    "O ciclo de vida e os principais métodos funcionam da seguinte maneira:\n",
    "**Montagem:**\n",
    " * constructor - recebe as props e define o estado;\n",
    " * render - renderiza o componente, inserindo-o no DOM;\n",
    " * componentDidMount - dispara uma ou mais ações após o componente ser inserido no DOM (ideal para requisições);  \n",
    "\n",
    "\n",
    "**Atualização:**\n",
    " * shouldComponentUpdate - possibilita autorizar ou não o componente a atualizar;\n",
    " * componentDidUpdate - dispara uma ou mais ações após o componente ser atualizado;  \n",
    "   \n",
    "\n",
    "**Desmontagem:**\n",
    " * componentWillUnmount - dispara uma ou mais ações antes de o componente ser desmontado."
   ]
  },
  {
   "cell_type": "markdown",
   "id": "7f716883",
   "metadata": {},
   "source": [
    "```componentDidMount()```   \n",
    "*_É uma função invocada imediatamente após um componente ser montado (inserido no DOM). Quando solicitamos informações de APIs remotas, este é um bom lugar para instanciar sua requisição._*  \n",
    "**Exemplo de uso:**  "
   ]
  },
  {
   "cell_type": "code",
   "execution_count": null,
   "id": "65ea88ba",
   "metadata": {},
   "outputs": [],
   "source": [
    "componentDidMount()"
   ]
  },
  {
   "cell_type": "markdown",
   "id": "6cc4bc04",
   "metadata": {},
   "source": [
    "```shouldComponentUpdate()```  \n",
    "*_Essa função é usada para informar ao react que um componente deve ser atualizado, mesmo que suas props ou states não tenham sido alterados, ou, o contrário.  \n",
    "```shouldComponentUpdate()``` é executado antes da renderização, quando novas props ou state são recebidos. O valor default é ```true```._*  \n",
    "  \n",
    "*_Ou seja, se essa função retorna ```true``` o componente será atualizado, se retornar ```false``` o componente não será atualizado e o render, não será invocado._*  \n",
    "  \n",
    "*_Também é possível usar as: ```nextProps``` e ```nextState```, como argumentos da função._*  \n",
    "**Exemplo de uso:**  "
   ]
  },
  {
   "cell_type": "code",
   "execution_count": null,
   "id": "fb74c41c",
   "metadata": {},
   "outputs": [],
   "source": [
    "shouldComponentUpdate()"
   ]
  },
  {
   "cell_type": "markdown",
   "id": "835b375e",
   "metadata": {},
   "source": [
    "```componentDidUpdate()```  \n",
    "*_A função é invocada imediatamente após alguma atualização do componente, props, state, acontecer. A função não é chamada na primeira renderização.  \n",
    "  \n",
    "*_É um bom lugar para realizar requisições de rede enquanto compara as props atuais com as props anteriores._*  \n",
    "  \n",
    "*_Também é possível usar as: ```nextProps``` e ```nextState```, como argumentos da função._*  \n",
    "**Exemplo de uso:**  "
   ]
  },
  {
   "cell_type": "code",
   "execution_count": null,
   "id": "fbce263f",
   "metadata": {},
   "outputs": [],
   "source": [
    "componentDidUpdate()"
   ]
  },
  {
   "cell_type": "markdown",
   "id": "fd5d21a1",
   "metadata": {},
   "source": [
    "```componentWillUnmount()```  \n",
    "*_Invocado imediatamente antes que um componente seja desmontado e destruído. Qualquer limpeza necessária deve ser realizada neste método, como invalidar timers, cancelar requisições de rede, ou limpar qualquer subscrição que foi criada no componentDidMount()._*\n",
    "  \n",
    "*_Não devemos chamar o ```setState()``` no ```componentWillUnmount()``` pois o componente não irá será ser renderizado novamente. Uma vez que a instância do componente foi desmontada._*  \n",
    "**Exemplo de uso:**  "
   ]
  },
  {
   "cell_type": "code",
   "execution_count": null,
   "id": "6030b499",
   "metadata": {},
   "outputs": [],
   "source": [
    "componentWillUnmount()"
   ]
  }
 ],
 "metadata": {
  "kernelspec": {
   "display_name": "JavaScript (Node.js)",
   "language": "javascript",
   "name": "javascript"
  },
  "language_info": {
   "file_extension": ".js",
   "mimetype": "application/javascript",
   "name": "javascript",
   "version": "14.18.3"
  }
 },
 "nbformat": 4,
 "nbformat_minor": 5
}
