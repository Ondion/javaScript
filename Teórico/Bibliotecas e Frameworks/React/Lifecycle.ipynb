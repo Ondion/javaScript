{
 "cells": [
  {
   "cell_type": "markdown",
   "id": "ffeed249",
   "metadata": {},
   "source": [
    "<h1 style=\"text-align:center;\">Lifecycle</h1>\n",
    "<hr>"
   ]
  },
  {
   "cell_type": "markdown",
   "id": "0e83082a",
   "metadata": {},
   "source": []
  },
  {
   "cell_type": "markdown",
   "metadata": {},
   "source": [
    "![LifecycleReact](images/Lifecycle_01)"
   ]
  },
  {
   "cell_type": "markdown",
   "id": "7f716883",
   "metadata": {},
   "source": [
    "```componentDidMount()```"
   ]
  },
  {
   "cell_type": "markdown",
   "id": "835b375e",
   "metadata": {},
   "source": [
    "```componentDidUpdate()```"
   ]
  },
  {
   "cell_type": "markdown",
   "id": "fd5d21a1",
   "metadata": {},
   "source": [
    "```componentWillUnmount()```"
   ]
  },
  {
   "cell_type": "markdown",
   "id": "4a85ea3a",
   "metadata": {},
   "source": []
  }
 ],
 "metadata": {
  "kernelspec": {
   "display_name": "JavaScript (Node.js)",
   "language": "javascript",
   "name": "javascript"
  },
  "language_info": {
   "file_extension": ".js",
   "mimetype": "application/javascript",
   "name": "javascript",
   "version": "14.18.3"
  }
 },
 "nbformat": 4,
 "nbformat_minor": 5
}
