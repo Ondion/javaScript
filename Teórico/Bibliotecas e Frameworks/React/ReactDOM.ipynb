{
 "cells": [
  {
   "cell_type": "markdown",
   "metadata": {},
   "source": [
    "<h1 style=\"text-align: center;\">ReactDOM</h1>\n",
    "<hr>"
   ]
  },
  {
   "cell_type": "markdown",
   "metadata": {},
   "source": [
    "### ReactDOM.render  \n",
    "*_O **ReactDOM.render** é o responsável por renderizar e atualizar seu código dentro do HTML, exibindo seus elementos React.\n",
    "Todas as vezes que fizermos alguma alteração no código, o React DOM compara o elemento novo e seus elementos filhos com os anteriores e aplica mudanças somente onde é necessário para levar a aplicação ao estado desejado._*"
   ]
  },
  {
   "cell_type": "markdown",
   "metadata": {},
   "source": [
    "*_Exemplo de função que altera o conteúdo HTML pelo ReactDOM:_"
   ]
  },
  {
   "cell_type": "code",
   "execution_count": null,
   "metadata": {},
   "outputs": [],
   "source": [
    "// Arquivo JSX, com uso da função ReactDOM.render().\n",
    "\n",
    "import ReactDOM from 'react-dom';\n",
    "\n",
    "function tick() {\n",
    "  const element = (\n",
    "    <div>\n",
    "      <h1>It is !</h1>\n",
    "      <h2>{new Date().toLocaleTimeString('pt', { hour12: true })}.</h2>\n",
    "    </div>\n",
    "  );\n",
    "  ReactDOM.render(element, document.getElementById('root'));\n",
    "}\n",
    "\n",
    "setInterval(tick, 1000);"
   ]
  },
  {
   "cell_type": "markdown",
   "metadata": {},
   "source": [
    "*_A função **ReactDOM**, neste exemplo, recebe dois parâmetros, o primeiro é o que sera renderizado na página HTML e o segundo parâmento é aonde será renderizado._*"
   ]
  },
  {
   "cell_type": "markdown",
   "metadata": {},
   "source": [
    "<br>"
   ]
  },
  {
   "cell_type": "markdown",
   "metadata": {},
   "source": [
    "*_Diferente de elementos DOM do navegador, elementos React são objetos simples e utilizam menos recursos._*"
   ]
  }
 ],
 "metadata": {
  "interpreter": {
   "hash": "31f2aee4e71d21fbe5cf8b01ff0e069b9275f58929596ceb00d14d90e3e16cd6"
  },
  "kernelspec": {
   "display_name": "JavaScript (Node.js)",
   "language": "javascript",
   "name": "javascript"
  },
  "language_info": {
   "file_extension": ".js",
   "mimetype": "application/javascript",
   "name": "javascript",
   "version": "14.18.3"
  }
 },
 "nbformat": 4,
 "nbformat_minor": 2
}
