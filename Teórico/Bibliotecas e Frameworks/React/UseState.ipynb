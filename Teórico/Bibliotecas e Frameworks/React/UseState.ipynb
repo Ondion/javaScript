{
 "cells": [
  {
   "cell_type": "markdown",
   "id": "ffeed249",
   "metadata": {},
   "source": [
    "<h1 style=\"text-align:center;\">UseState</h1>\n",
    "<hr>"
   ]
  },
  {
   "cell_type": "markdown",
   "id": "bd924730",
   "metadata": {},
   "source": [
    "*_O Estado de um componente é o lugar que todo componente tem para armazenar informações que devem persistir enquanto a tela não for fechada ou atualizada._*  \n",
    "*_Usamos a função ```useState```, que faz parte da biblioteca do React para monitoramos mudanças em uma variável e acionamos o render para manter a página atualizada com o valor dessa variável._*"
   ]
  },
  {
   "cell_type": "markdown",
   "id": "bf710d6c",
   "metadata": {},
   "source": [
    "**O uso do useState e qualquer outro \"hook\" precisa está no corpo da função.**"
   ]
  },
  {
   "cell_type": "markdown",
   "id": "7f716883",
   "metadata": {},
   "source": [
    "*_Podemos invocar o useState usando a função: ```React.useState``` ou devemos desestruturar._* ```import { useState } from 'react';```    \n",
    "**Exemplos de uso:**"
   ]
  },
  {
   "cell_type": "code",
   "execution_count": null,
   "id": "be6417ab",
   "metadata": {},
   "outputs": [],
   "source": [
    "import React, { useState } from 'react';\n",
    "\n",
    "const TestUseState = () => {\n",
    "  \n",
    "  const [text, setText] = useState('<<< text, entrada do valor')\n",
    "\n",
    "    const click = () => {\n",
    "        setText('alterei o valor de text');    \n",
    "    }\n",
    "\n",
    "  return (\n",
    "    <>\n",
    "    <button onClick={click}>{text}</button>\n",
    "    </>\n",
    "  );\n",
    "}"
   ]
  },
  {
   "cell_type": "markdown",
   "id": "3a201a94",
   "metadata": {},
   "source": [
    "**Nesta função, ao clicar no botão o valor de text será alterado.**"
   ]
  },
  {
   "cell_type": "code",
   "execution_count": null,
   "id": "c92e294f",
   "metadata": {},
   "outputs": [],
   "source": [
    "// Exemplo com múltiplas chamadas e outro tipo de import do react.\n",
    "\n",
    "  const [text, setText] = React.useState(\"UseState\")\n",
    "  const [flag, setFlag] = React.useState(true)\n",
    "  const [button, setButton] = React.useState(\"Start\")\n",
    "  const [onoff, setOnOff] = React.useState(\"btn btn-primary\")\n",
    "\n",
    "    const click = () => {\n",
    "      if(flag) {\n",
    "        setText(\"UseState ON\");\n",
    "        setFlag(false);\n",
    "        setButton('OFF')\n",
    "        setOnOff(\"btn btn-danger\")\n",
    "      } else {\n",
    "        setText (\"UseState OFF\");\n",
    "        setFlag(true);\n",
    "        setButton(\"ON\")\n",
    "        setOnOff(\"btn btn-success\")\n",
    "      }\n",
    "    }\n"
   ]
  },
  {
   "cell_type": "markdown",
   "id": "125fbe2a",
   "metadata": {},
   "source": [
    "<br>"
   ]
  },
  {
   "cell_type": "markdown",
   "id": "d1022f0d",
   "metadata": {},
   "source": [
    "### Exemplo de useState com array"
   ]
  },
  {
   "cell_type": "code",
   "execution_count": null,
   "id": "e7a55fdb",
   "metadata": {},
   "outputs": [],
   "source": [
    "const UseStateArray = () => {\n",
    "  const array = [{name: \"exemplo\"}, {name: \"exemplo\"},];\n",
    "\n",
    "  // Aqui estamos preparando a função que irá monitorar os valores do array.\n",
    "  const [info, setInfo] = useState(array);  \n",
    "\n",
    "  // Função para o click, que limpa a lista de elementos do array.\n",
    "  const removeAll = () => setInfo([])\n",
    "  \n",
    "  // Função para o click, que remove um elemento da lista.\n",
    "  const removeOne = (index) => {\n",
    "    setInfo(info.filter((element) => element.id !== id))\n",
    "  } // A função filter retorna todos os elementos menos o id passado.\n",
    "\n",
    "\n",
    "  return (\n",
    "    <div>\n",
    "\n",
    "    {/* Chamada da função que remove todos os elementos. */}\n",
    "    <button onClick={removeAll}>Remove All</button>\n",
    "\n",
    "    {/* Renderização de todos os elementos. */}\n",
    "    {info.map((element, index) => {\n",
    "      const { name } = element;\n",
    "      return (\n",
    "        <div key={index}>\n",
    "          <p> {name} </p>\n",
    "\n",
    "          {/* Chamada da função que remove apenas um elemento. */}\n",
    "          <button onClick={() => removeOne(index)}>Remove</button>\n",
    "\n",
    "        </div>\n",
    "      );\n",
    "    })}\n",
    "  \n",
    "    </div>\n",
    "  );\n",
    "}"
   ]
  },
  {
   "cell_type": "markdown",
   "id": "c3988248",
   "metadata": {},
   "source": [
    "<br>"
   ]
  },
  {
   "cell_type": "markdown",
   "id": "207d2035",
   "metadata": {},
   "source": [
    "### Exemplo de useState com objeto"
   ]
  },
  {
   "cell_type": "code",
   "execution_count": null,
   "id": "3f6a96ff",
   "metadata": {},
   "outputs": [],
   "source": [
    "// Diferente do exemplo anterior, neste cado precisamos usar o spread operator.\n",
    "const UseStateObject = () => {\n",
    "  const object = {\n",
    "      name: \"Exemplo\",\n",
    "      source:\n",
    "        \"https://exemplo.com\",\n",
    "    };\n",
    "  \n",
    "  // Passando os valores do objeto para a monitoria do \"hook\".\n",
    "  const [info, setInfo] = useState(object);\n",
    "\n",
    "  // Função para alterar o valor da propriedade \"name\" do objeto.\n",
    "  const manu = () => {\n",
    "    setInfo({...info, name: \"alterei apenas o valor de name\"})\n",
    "  }\n",
    "  // Aqui é necessário o uso do spread, quando em manipulação de objetos com o useState.\n",
    "\n",
    "  return (\n",
    "    <>\n",
    "    <button type='button' onClick={manu}>Mudar</button>\n",
    "    </>\n",
    "  );\n",
    "}\n",
    "\n",
    "export default UseStateObject;"
   ]
  },
  {
   "cell_type": "markdown",
   "id": "f44074c8",
   "metadata": {},
   "source": []
  }
 ],
 "metadata": {
  "kernelspec": {
   "display_name": "JavaScript (Node.js)",
   "language": "javascript",
   "name": "javascript"
  },
  "language_info": {
   "file_extension": ".js",
   "mimetype": "application/javascript",
   "name": "javascript",
   "version": "14.18.3"
  }
 },
 "nbformat": 4,
 "nbformat_minor": 5
}
