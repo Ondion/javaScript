{
 "cells": [
  {
   "cell_type": "markdown",
   "id": "ffeed249",
   "metadata": {},
   "source": [
    "<h1 style=\"text-align:center;\">UseState</h1>\n",
    "<hr>"
   ]
  },
  {
   "cell_type": "markdown",
   "id": "bd924730",
   "metadata": {},
   "source": [
    "*_Usamos a função ```useState```, que faz parte da biblioteca do React para monitoramos mudanças em uma variável e acionamos o render para manter a página atualizada com o valor dessa variável._*"
   ]
  },
  {
   "cell_type": "markdown",
   "id": "bf710d6c",
   "metadata": {},
   "source": [
    "**O uso do useState e qualquer outro \"hook\" precisa está no corpo da função.**"
   ]
  },
  {
   "cell_type": "markdown",
   "id": "7f716883",
   "metadata": {},
   "source": [
    "*_Podemos invocar o useState usando a função: ```React.useState``` ou devemos desestruturar._* ```import { useState } from 'react';```    \n",
    "**Exemplos de uso:**"
   ]
  },
  {
   "cell_type": "code",
   "execution_count": null,
   "id": "be6417ab",
   "metadata": {},
   "outputs": [],
   "source": [
    "import React, { useState } from 'react';\n",
    "\n",
    "const TestUseState = () => {\n",
    "  \n",
    "  const [text, setText] = useState('<<< text, entrada do valor')\n",
    "\n",
    "    const click = () => {\n",
    "        setText('alterei o valor de text');    \n",
    "    }\n",
    "\n",
    "  return (\n",
    "    <>\n",
    "    <button onClick={click}>{text}</button>\n",
    "    </>\n",
    "  );\n",
    "}"
   ]
  },
  {
   "cell_type": "markdown",
   "id": "3a201a94",
   "metadata": {},
   "source": [
    "**Nesta função, ao clicar no botão o valor de text será alterado.**"
   ]
  },
  {
   "cell_type": "markdown",
   "id": "b352d67f",
   "metadata": {},
   "source": [
    "<br>"
   ]
  },
  {
   "cell_type": "markdown",
   "id": "c92e294f",
   "metadata": {},
   "source": []
  }
 ],
 "metadata": {
  "kernelspec": {
   "display_name": "JavaScript (Node.js)",
   "language": "javascript",
   "name": "javascript"
  },
  "language_info": {
   "file_extension": ".js",
   "mimetype": "application/javascript",
   "name": "javascript",
   "version": "14.18.3"
  }
 },
 "nbformat": 4,
 "nbformat_minor": 5
}
