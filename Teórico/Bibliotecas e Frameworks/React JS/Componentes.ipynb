{
 "cells": [
  {
   "cell_type": "markdown",
   "metadata": {},
   "source": [
    "<h1 style=\"text-align: center;\">Componentes</h1>\n",
    "<hr>"
   ]
  },
  {
   "cell_type": "markdown",
   "metadata": {},
   "source": [
    "*_**componentes** no React nos permitem segmentar uma página web em blocos de códigos independentes e reutilizáveis, além de tornarem o desenvolvimento mais organizado. Conceitualmente, componentes React são funções ou classes JavaScript**._*  \n",
    "*_os componentes podem aceitar parâmetros, chamados de props, e retornam elementos React responsáveis por determinarem o que será renderizado na tela._*  \n",
    "**Exemplos:**"
   ]
  },
  {
   "cell_type": "markdown",
   "metadata": {},
   "source": [
    "*_A sintaxe para criar um componente com classes:_*"
   ]
  },
  {
   "cell_type": "code",
   "execution_count": null,
   "metadata": {},
   "outputs": [],
   "source": [
    "import React from \"react\";\n",
    "\n",
    "class App extends React.Component {\n",
    "  render() {\n",
    "    return (\n",
    "      <li>{}</li>\n",
    "    );\n",
    "  }\n",
    "}\n",
    "\n",
    "export default App;"
   ]
  },
  {
   "cell_type": "markdown",
   "metadata": {},
   "source": [
    "*_A sintaxe para criar um componente com classes, **com o props**:_*"
   ]
  },
  {
   "cell_type": "code",
   "execution_count": null,
   "metadata": {},
   "outputs": [],
   "source": [
    "import React from \"react\";\n",
    "\n",
    "class App extends React.Component {\n",
    "  render(props) {\n",
    "    return (\n",
    "      <li>{props}</li>\n",
    "    );\n",
    "  }\n",
    "}\n",
    "\n",
    "export default App;"
   ]
  },
  {
   "cell_type": "markdown",
   "metadata": {},
   "source": [
    "*_A sintaxe para criar um componente por função:_*"
   ]
  },
  {
   "cell_type": "code",
   "execution_count": null,
   "metadata": {},
   "outputs": [],
   "source": [
    "const App = () => {\n",
    "  return (\n",
    "    <button>{}</button>\n",
    "  )\n",
    "}\n",
    "\n",
    "export default BGen;"
   ]
  },
  {
   "cell_type": "markdown",
   "metadata": {},
   "source": [
    "*_A sintaxe para criar um componente por função, com props:_*"
   ]
  },
  {
   "cell_type": "code",
   "execution_count": null,
   "metadata": {},
   "outputs": [],
   "source": [
    "const App = (props) => {\n",
    "  return (\n",
    "    <button>{props}</button>\n",
    "  )\n",
    "}\n",
    "\n",
    "export default BGen;"
   ]
  },
  {
   "cell_type": "markdown",
   "metadata": {},
   "source": [
    "<br>"
   ]
  }
 ],
 "metadata": {
  "interpreter": {
   "hash": "31f2aee4e71d21fbe5cf8b01ff0e069b9275f58929596ceb00d14d90e3e16cd6"
  },
  "kernelspec": {
   "display_name": "JavaScript (Node.js)",
   "language": "javascript",
   "name": "javascript"
  },
  "language_info": {
   "file_extension": ".js",
   "mimetype": "application/javascript",
   "name": "javascript",
   "version": "14.18.3"
  }
 },
 "nbformat": 4,
 "nbformat_minor": 2
}
