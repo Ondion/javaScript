{
 "cells": [
  {
   "cell_type": "markdown",
   "metadata": {},
   "source": [
    "<h1 style=\"text-align: center;\">Componentes</h1>\n",
    "<hr>"
   ]
  },
  {
   "cell_type": "markdown",
   "metadata": {},
   "source": [
    "*_**componentes** no React nos permitem segmentar uma página web em blocos de códigos independentes e reutilizáveis, além de tornarem o desenvolvimento mais organizado. Conceitualmente, componentes React são funções ou classes JavaScript._*  \n",
    "*_os componentes podem aceitar parâmetros, chamados de props, e retornam elementos React responsáveis por determinarem o que será renderizado na tela._*  \n",
    "**Exemplos:**"
   ]
  },
  {
   "cell_type": "markdown",
   "metadata": {},
   "source": [
    "*_A sintaxe para criar um componente com classes:_*"
   ]
  },
  {
   "cell_type": "code",
   "execution_count": null,
   "metadata": {},
   "outputs": [],
   "source": [
    "import React from \"react\";\n",
    "\n",
    "class App extends React.Component {\n",
    "  render() {\n",
    "    return (\n",
    "      <li>{}</li>\n",
    "    );\n",
    "  }\n",
    "}\n",
    "\n",
    "export default App;"
   ]
  },
  {
   "cell_type": "markdown",
   "metadata": {},
   "source": [
    "*_A sintaxe para criar um componente com classes, **com recebimento de props**:_*"
   ]
  },
  {
   "cell_type": "code",
   "execution_count": null,
   "metadata": {},
   "outputs": [],
   "source": [
    "import React from \"react\";\n",
    "\n",
    "class App extends React.Component {\n",
    "  render(props) {\n",
    "    return (\n",
    "      <li>{props}</li>\n",
    "    );\n",
    "  }\n",
    "}\n",
    "\n",
    "export default App;"
   ]
  },
  {
   "cell_type": "markdown",
   "metadata": {},
   "source": [
    "*_A sintaxe para criar um componente funcional:_*"
   ]
  },
  {
   "cell_type": "code",
   "execution_count": null,
   "metadata": {},
   "outputs": [],
   "source": [
    "const App = () => {\n",
    "  return (\n",
    "    <button>{}</button>\n",
    "  )\n",
    "}\n",
    "\n",
    "export default BGen;"
   ]
  },
  {
   "cell_type": "markdown",
   "metadata": {},
   "source": [
    "*_A sintaxe para criar um componente funcional, com props:_*"
   ]
  },
  {
   "cell_type": "code",
   "execution_count": null,
   "metadata": {},
   "outputs": [],
   "source": [
    "const App = (props) => {\n",
    "  return (\n",
    "    <button>{props}</button>\n",
    "  )\n",
    "}\n",
    "\n",
    "export default BGen;"
   ]
  },
  {
   "cell_type": "markdown",
   "metadata": {},
   "source": [
    "<br>"
   ]
  },
  {
   "cell_type": "markdown",
   "metadata": {},
   "source": [
    "*_É importante lembrar que componentes React, sempre tem seus nomes iniciados com letras maiúsculas e quando chamados no contexto do JSX, precisam ter a tag de fechamento, conforme o exemplo abaixo:_*  \n",
    "```<Component />```  \n",
    "  \n",
    "*_Componentes React também devem apenas retornar um único elemento:_*  \n",
    "```\n",
    "return(\n",
    "  <div>\n",
    "    <p>...</p>\n",
    "    <span>...</span>\n",
    "    <article>...</article>\n",
    "  </div>\n",
    ")\n",
    "```  \n",
    "  \n",
    "*_Atributos HTML dentro do JSX devem ter notação camelCase, e a notação para passar classe HTML para um componente passa a ser ```className```._*  \n",
    "  \n",
    "*_TAGs HTML de auto fechamento devem ter a anotação explicita no código:_*  \n",
    "```\n",
    "<img src='' alt='' />\n",
    "<input type='text' />\n",
    "```  \n",
    "  \n"
   ]
  },
  {
   "cell_type": "markdown",
   "metadata": {},
   "source": []
  }
 ],
 "metadata": {
  "interpreter": {
   "hash": "31f2aee4e71d21fbe5cf8b01ff0e069b9275f58929596ceb00d14d90e3e16cd6"
  },
  "kernelspec": {
   "display_name": "JavaScript (Node.js)",
   "language": "javascript",
   "name": "javascript"
  },
  "language_info": {
   "file_extension": ".js",
   "mimetype": "application/javascript",
   "name": "javascript",
   "version": "14.18.3"
  }
 },
 "nbformat": 4,
 "nbformat_minor": 2
}
