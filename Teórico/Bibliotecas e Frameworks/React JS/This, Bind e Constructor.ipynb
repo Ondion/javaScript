{
 "cells": [
  {
   "cell_type": "markdown",
   "id": "ffeed249",
   "metadata": {},
   "source": [
    "<h1 style=\"text-align:center;\">This, Bind e Constructor</h1>\n",
    "<hr>"
   ]
  },
  {
   "cell_type": "markdown",
   "id": "7f716883",
   "metadata": {},
   "source": [
    "*_```this``` é um objeto criado pelo DOM que representa a classe local. No contexto do React, o ```this``` é o objeto que armazena todos os valores do componente._*"
   ]
  },
  {
   "cell_type": "markdown",
   "id": "f4abbb81",
   "metadata": {},
   "source": [
    "*_```bind```_*"
   ]
  },
  {
   "cell_type": "markdown",
   "id": "d9aae53c",
   "metadata": {},
   "source": [
    "*_```constructor``` é um método que toda classe javaScript tem acesso._*  \n",
    "*_Quando um componente React é criado a primeira coisa que é executada é a função ```constructor()```._*  \n",
    "*_No JavaScript, o ```super()``` refere-se ao construtor da classe pai, é importante lembrar que não podemos usar o ```this``` em um construtor até que ele tenha sido chamado na classe pai. Para usar o ```this``` dentro do ```constructor()``` é preciso chamar o ```super()``` antes._*"
   ]
  },
  {
   "cell_type": "markdown",
   "id": "0d003e74",
   "metadata": {},
   "source": [
    "**Exemplo de classe construída e fazendo uso dos elementos citados acima.** "
   ]
  },
  {
   "cell_type": "code",
   "execution_count": null,
   "id": "fe62a5fd",
   "metadata": {},
   "outputs": [],
   "source": [
    "import React, { Component } from 'react';\n",
    "\n",
    "class thisBindConst extends Component {\n",
    "  constructor(props) { // Chamando o método constructor ***PROPS É OPCIONAL**\n",
    "    super() // Necessário chamar o super() Antes de usar o this.\n",
    "    \n",
    "    this.func = this.func.bind(this) // o bind aqui serve para ligar o conteúdo do this a função.\n",
    "  }\n",
    "\n",
    "  // A partir daqui temos uma função que aciona um evento. \n",
    "\n",
    "  func() {\n",
    "    alert(\"Constructor\")\n",
    "  }\n",
    "\n",
    "  render() {\n",
    "    return (\n",
    "      <>\n",
    "        <button type='button' className=\"btn btn-primary\" onClick={this.func}>\n",
    "          Constructor\n",
    "        </button>\n",
    "      </>\n",
    "    );\n",
    "  }\n",
    "}\n",
    "\n",
    "export default thisBindConst;\n"
   ]
  }
 ],
 "metadata": {
  "kernelspec": {
   "display_name": "JavaScript (Node.js)",
   "language": "javascript",
   "name": "javascript"
  },
  "language_info": {
   "file_extension": ".js",
   "mimetype": "application/javascript",
   "name": "javascript",
   "version": "14.18.3"
  }
 },
 "nbformat": 4,
 "nbformat_minor": 5
}
