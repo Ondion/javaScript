{
 "cells": [
  {
   "cell_type": "markdown",
   "id": "ffeed249",
   "metadata": {},
   "source": [
    "<h1 style=\"text-align:center;\">List!</h1>\n",
    "<hr>"
   ]
  },
  {
   "cell_type": "markdown",
   "id": "7f716883",
   "metadata": {},
   "source": [
    "*_Seguiremos com exemplos de listas no React que tem uma forma diferente de integração quando comparada ao javaScript._*"
   ]
  },
  {
   "cell_type": "markdown",
   "id": "9e6f3e6a",
   "metadata": {},
   "source": [
    "**Vamos considerar o seguinte objeto e array para os exemplos:**  "
   ]
  },
  {
   "cell_type": "code",
   "execution_count": 1,
   "id": "f5db86c8",
   "metadata": {},
   "outputs": [],
   "source": [
    "const array = ['array', 'exemplo', 'react'];\n",
    "const objeto = {\n",
    "    valor1: 'objeto',\n",
    "    valor2: 'exemplo',\n",
    "    valor3: 'react',\n",
    "}"
   ]
  },
  {
   "cell_type": "markdown",
   "id": "e26ffb5b",
   "metadata": {},
   "source": [
    "*_Se tentamos iterar um objeto diretamente, vamos receber um erro, pois **o react não consegue iterar, um objeto javaScript.**_*  \n",
    "**Exemplo:**  "
   ]
  },
  {
   "cell_type": "code",
   "execution_count": null,
   "id": "c3faecda",
   "metadata": {},
   "outputs": [],
   "source": [
    "const component = () => <p> valor do objeto: {objeto}!</p>\n",
    "\n",
    "// Esse código irar retornar um erro: Objects are not valid!"
   ]
  },
  {
   "cell_type": "markdown",
   "id": "0af807cb",
   "metadata": {},
   "source": [
    "*_Porém, **para um array**, o resultado é alcançado._*  \n",
    "**Exemplo:**  "
   ]
  },
  {
   "cell_type": "code",
   "execution_count": 5,
   "id": "bdf785ac",
   "metadata": {},
   "outputs": [],
   "source": [
    "const component = () => <p> valor do array: {array}!</p>\n",
    "\n",
    "//Agora o retorno seria um paragrafo: <p>arrayexemploreact</p>"
   ]
  },
  {
   "cell_type": "markdown",
   "id": "5123b2bb",
   "metadata": {},
   "source": [
    "<br>"
   ]
  },
  {
   "cell_type": "markdown",
   "id": "e741050e",
   "metadata": {},
   "source": [
    "### List com Hof  \n",
    "*_Podemos usar funções para interar objetos e arrays em conjunto com elementos JSX._*  \n",
    "**Exemplos:**  "
   ]
  },
  {
   "cell_type": "code",
   "execution_count": 7,
   "id": "2f54fe8d",
   "metadata": {},
   "outputs": [],
   "source": [
    "const component = () => array.map((e) => <h1>{e}</h1>)\n",
    "\n",
    "/* Neste exemplo, temos o retorno de 3 <h1> com os valores\n",
    "do array em cada momento de interação:\n",
    "\n",
    "<h1>array</h1>\n",
    "<h1>exemplo</h1>\n",
    "<h1>react</h1>\n",
    "\n",
    "*/"
   ]
  },
  {
   "cell_type": "markdown",
   "id": "057b666c",
   "metadata": {},
   "source": [
    "*_**Para a interação com objetos** devemos estrair os valores por meio dos métodos ```Object.values()```, ```Object.keys()```, ```Object.entries()``` ou qualquer outro modo de manipulação de objeto ou **destruturação**, afim de satisfazer a sintaxe do javaScript._*  \n",
    "**Exemplos:**  "
   ]
  },
  {
   "cell_type": "code",
   "execution_count": null,
   "id": "cb42125a",
   "metadata": {},
   "outputs": [],
   "source": [
    "const component = () => Object.values(array).map((e) => <h1>{e}</h1>)\n",
    "\n",
    "/* Esse exemplo é equivalente ao exemplo anterior, porém dessa vez\n",
    "foi usada uma Hof em conjunto com manipulação de objeto, para realizar\n",
    "a interação necessária:\n",
    "\n",
    "<h1>objeto</h1>\n",
    "<h1>exemplo</h1>\n",
    "<h1>react</h1>\n",
    "\n",
    "*/"
   ]
  },
  {
   "cell_type": "code",
   "execution_count": null,
   "id": "9243b7bd",
   "metadata": {},
   "outputs": [],
   "source": [
    "const component = () => Object.values(array).map((e) => {\n",
    "  const { valor1, valor2, valor3 } = e;  \n",
    "    return(\n",
    "        <div>\n",
    "          <p>{valor1}</p>\n",
    "          <p>{valor2}</p>\n",
    "          <p>{valor3}</p>\n",
    "        </div>\n",
    "    );\n",
    "});\n",
    "\n",
    "/* Aqui usamos a desestruturação para obter os valores do objeto de\n",
    "uma forma mais simplificada, porém o resultado dessa função pode ser\n",
    "um pouco redundante, visto que o array tem 3 indices e a função map\n",
    "irar iterar essas 3 vezes, imprimindo o 9 vezes o <h1>. */"
   ]
  },
  {
   "cell_type": "markdown",
   "id": "226901ac",
   "metadata": {},
   "source": [
    "<br>"
   ]
  },
  {
   "cell_type": "markdown",
   "id": "5e601f87",
   "metadata": {},
   "source": [
    "**Agora vamos realizar exemplos com um array de objetos.**  \n",
    "*_O objetivo dos exemplos é mostrar uma maneira mais efetiva de passar argumentos para o props._*"
   ]
  },
  {
   "cell_type": "code",
   "execution_count": null,
   "id": "746d2711",
   "metadata": {},
   "outputs": [],
   "source": [
    "/* a função abaixo itera no array de objetos e retorna um paragrafo\n",
    "com a chamada do componente Listarender, que irá receber como props\n",
    "cada elemento do array.*/\n",
    "\n",
    "function exemploLista() {\n",
    "    return (\n",
    "        <p> {arrayObjeto.map((e) => <ListaRender props={e}/>)} </p>\n",
    "    )\n",
    "}\n",
    "\n",
    "/*Agora iremos receber e fazer a desestruturação dos objetos na função.*/\n",
    "\n",
    "function ListaRender (props) {\n",
    "    const { valor1, valor2, valor3 } = props.e;\n",
    "    return(\n",
    "        <div>\n",
    "          <p>{valor1}</p>\n",
    "          <p>{valor2}</p>\n",
    "          <p>{valor3}</p>\n",
    "        </div>\n",
    "    )\n",
    "}"
   ]
  },
  {
   "cell_type": "markdown",
   "id": "f61e618b",
   "metadata": {},
   "source": [
    "<br>"
   ]
  },
  {
   "cell_type": "markdown",
   "id": "cf6fc6da",
   "metadata": {},
   "source": [
    "### Spread Operator  \n",
    "*_O seguir irei exemplificar o uso do **spread operator** para a passagem de props._*"
   ]
  },
  {
   "cell_type": "code",
   "execution_count": null,
   "id": "dab6b9a7",
   "metadata": {},
   "outputs": [],
   "source": [
    "// Considerando o exemplo anterior.\n",
    "\n",
    "function exemploLista() {\n",
    "    return (\n",
    "        <p> {arrayObjeto.map((element) => {\n",
    "        return <ListaRender {...element}/> \n",
    "    })} \n",
    "        </p>\n",
    "    )\n",
    "}\n",
    "\n",
    "\n",
    "\n",
    "function ListaRender ({ valor1, valor2, valor3 }) {\n",
    "    \n",
    "    return(\n",
    "        <div>\n",
    "          <p>{valor1}</p>\n",
    "          <p>{valor2}</p>\n",
    "          <p>{valor3}</p>\n",
    "        </div>\n",
    "    )\n",
    "}"
   ]
  },
  {
   "cell_type": "markdown",
   "id": "d75716ed",
   "metadata": {},
   "source": [
    "<br>"
   ]
  },
  {
   "cell_type": "markdown",
   "id": "c9751793",
   "metadata": {},
   "source": [
    "### IDs  \n",
    "*_Para manter o controle de elementos de forma precisa, o react precisa que cada elemento de uma lista, tenha um valor único atrelado a ele, passamos esse valor como um parametro do componente que cria a lista e o chamamos de_* ```key```  \n",
    "**Exemplo:**  "
   ]
  },
  {
   "cell_type": "code",
   "execution_count": null,
   "id": "5a2af6dd",
   "metadata": {},
   "outputs": [],
   "source": [
    "function exemploLista() {\n",
    "    return (\n",
    "        <p> {arrayObjeto.map((element, index) => {\n",
    "        return <ListaRender key={index} props={element}/> \n",
    "    })} \n",
    "        </p>\n",
    "    )\n",
    "}"
   ]
  },
  {
   "cell_type": "markdown",
   "id": "6456645a",
   "metadata": {},
   "source": [
    "*_Usamos um elemento da Hof, o index, para gerar números ordernados que irão servir de ```key``` para minha lista, porém, **não é recomendado realizar esse tipo de ação**, lista podem mudar com frequênia a depender da aplicação e, tais mudanças, podem quebrar o código e seus identificações._*  \n",
    "*_**A melhor pratica** é achar no objeto algum valor que seja único, como as IDs de APIs, SKU numbers de produtos, username dos usuários, etc..._* "
   ]
  }
 ],
 "metadata": {
  "kernelspec": {
   "display_name": "JavaScript (Node.js)",
   "language": "javascript",
   "name": "javascript"
  },
  "language_info": {
   "file_extension": ".js",
   "mimetype": "application/javascript",
   "name": "javascript",
   "version": "14.18.3"
  }
 },
 "nbformat": 4,
 "nbformat_minor": 5
}
