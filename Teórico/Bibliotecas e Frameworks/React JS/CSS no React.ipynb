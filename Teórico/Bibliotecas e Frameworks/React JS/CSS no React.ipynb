{
 "cells": [
  {
   "cell_type": "markdown",
   "id": "ffeed249",
   "metadata": {},
   "source": [
    "<h1 style=\"text-align:center;\">CSS no React</h1>\n",
    "<hr>"
   ]
  },
  {
   "cell_type": "markdown",
   "id": "7f716883",
   "metadata": {},
   "source": [
    "*_Para adicionarmos estilos ao componente em edição, um dos meios é importar o arquivo CSS: ```import \"./style.css\"``` é claro que é necessário alterar o caminho conforma cada arquivo._*  \n",
    "**Exemplo:**"
   ]
  },
  {
   "cell_type": "code",
   "execution_count": null,
   "id": "03cb46ca",
   "metadata": {},
   "outputs": [],
   "source": [
    "import React from \"react\";\n",
    "import \"../src/App.css\""
   ]
  },
  {
   "cell_type": "markdown",
   "id": "c1cf72b0",
   "metadata": {},
   "source": [
    "<br>"
   ]
  },
  {
   "cell_type": "markdown",
   "id": "84edb294",
   "metadata": {},
   "source": [
    "*_Também é possivel adicionar o **style inline**, no corpo da declaração do componente:_*  \n",
    "**Exemplo:**"
   ]
  },
  {
   "cell_type": "code",
   "execution_count": null,
   "id": "fd11915c",
   "metadata": {},
   "outputs": [],
   "source": [
    "function Exemplo() {\n",
    "  return(\n",
    "    <>\n",
    "     <section className=\"myClass\" style={{backgroundColor: \"#e8e9ed\"}}>\n",
    "      \n",
    "      </section>\n",
    "    </>"
   ]
  },
  {
   "cell_type": "markdown",
   "id": "85de1354",
   "metadata": {},
   "source": [
    "*_Repare que no momento da alteração de valor do **style** foi aberto dois pares de chaves, o primeiro par diz respeito a \"sair do dominio do HTML e entrar no javaScript\" e o segundo par de chaves diz respeito ao objeto que passamos como atributo para o elemento CSS._*"
   ]
  }
 ],
 "metadata": {
  "kernelspec": {
   "display_name": "JavaScript (Node.js)",
   "language": "javascript",
   "name": "javascript"
  },
  "language_info": {
   "file_extension": ".js",
   "mimetype": "application/javascript",
   "name": "javascript",
   "version": "14.18.3"
  }
 },
 "nbformat": 4,
 "nbformat_minor": 5
}
