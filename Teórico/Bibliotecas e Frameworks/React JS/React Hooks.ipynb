{
 "cells": [
  {
   "cell_type": "markdown",
   "id": "f7eceb53",
   "metadata": {},
   "source": [
    "<h1 style=\"text-align: center;\">React Hooks</h1>\n",
    "<hr>"
   ]
  },
  {
   "cell_type": "markdown",
   "id": "bf894dcd",
   "metadata": {},
   "source": [
    "*_Hooks são funções javaScript que são funcionais para:_*  \n",
    " * Adicionar e manipular o estado.\n",
    " * Adicionar e acessar o ciclo de vida.\n",
    " * Reutilizar lógica."
   ]
  },
  {
   "cell_type": "markdown",
   "id": "b832dd45",
   "metadata": {},
   "source": [
    "### Regras dos Hooks  \n",
    "  \n",
    "*_Hooks podem ser usados apenas no nível superior do código, ou seja, não é recomendado usa-los em condicionais ou funções aninhadas._*  \n",
    "  \n",
    "*_Hooks apenas funcionam em funções do React, outras condições de javaScript, fora do React, não iram gerar resultados com Hooks._*"
   ]
  },
  {
   "cell_type": "markdown",
   "id": "b3606539",
   "metadata": {},
   "source": []
  },
  {
   "cell_type": "code",
   "execution_count": null,
   "id": "eedba932",
   "metadata": {},
   "outputs": [],
   "source": [
    "//\n",
    "\n",
    "useEffect(() => {\n",
    "  effect\n",
    "  return () => {\n",
    "    cleanup\n",
    "  };\n",
    "}, [input]);"
   ]
  },
  {
   "cell_type": "markdown",
   "id": "6e6b3402",
   "metadata": {},
   "source": []
  }
 ],
 "metadata": {
  "kernelspec": {
   "display_name": "JavaScript (Node.js)",
   "language": "javascript",
   "name": "javascript"
  },
  "language_info": {
   "file_extension": ".js",
   "mimetype": "application/javascript",
   "name": "javascript",
   "version": "14.18.3"
  }
 },
 "nbformat": 4,
 "nbformat_minor": 5
}
