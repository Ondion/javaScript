{
 "cells": [
  {
   "cell_type": "markdown",
   "id": "f7eceb53",
   "metadata": {},
   "source": [
    "<h1 style=\"text-align: center;\">React Hooks</h1>\n",
    "<hr>"
   ]
  },
  {
   "cell_type": "markdown",
   "id": "bf894dcd",
   "metadata": {},
   "source": [
    "*_Os Hooks foram implementados na versão 16.8 do React e trazem diversas facilidades para a construção de componentes e para a lógica de aplicações React._*\n",
    "  \n",
    "*_Hooks são funções javaScript que são funcionais para:_*  \n",
    " * Adicionar e manipular o estado.\n",
    " * Adicionar e acessar o ciclo de vida.\n",
    " * Reutilizar lógica."
   ]
  },
  {
   "cell_type": "markdown",
   "id": "b832dd45",
   "metadata": {},
   "source": [
    "### Regras dos Hooks  \n",
    "  \n",
    "*_Hooks podem ser usados apenas no nível superior do código, ou seja, não é recomendado usa-los em condicionais ou funções aninhadas._*  \n",
    "  \n",
    "*_Hooks apenas funcionam em funções do React, outras condições de javaScript, fora do React, não iram gerar resultados com Hooks._*"
   ]
  },
  {
   "cell_type": "markdown",
   "id": "9df28645",
   "metadata": {},
   "source": [
    "</br>"
   ]
  },
  {
   "cell_type": "markdown",
   "id": "820fbbb1",
   "metadata": {},
   "source": [
    "### useState  \n",
    "\n",
    "*_O ```useState``` é usado para ter acesso ao estado de um **componente funcional**, em substituição ao state do construtor em componentes de classe._*  \n",
    "  \n",
    "*_Ao chamar o Hook ```setState``` temos a seguinte sintaxe:_*  \n",
    "```\n",
    "const [state, setState] = useState('valor do state');\n",
    "```\n",
    "  \n",
    "*_Onde a primeiro valor do retorno de array é o estado, e o seguindo retorno do array é a função que altera esse estado, por fim, o valor passado para a função ```useState``` será o valor default do state._*"
   ]
  },
  {
   "cell_type": "code",
   "execution_count": null,
   "id": "82e9b6e4",
   "metadata": {},
   "outputs": [],
   "source": [
    "// Exemplo de declaração e uso do Hook, useState;\n",
    "\n",
    "import React, { useState } from 'react';\n",
    "\n",
    "const [estado, setEstado] = useState({ // Declaração do estado!\n",
    "  valor1: 'valor Teste',\n",
    "  valor2: 'Outro valor teste',\n",
    "})\n",
    "\n",
    "setEstado({...estado, valor3: 'adicionando outra chave ao estado'}); // Fazendo uso e adicionando valores ao estado."
   ]
  },
  {
   "cell_type": "markdown",
   "id": "20e88b66",
   "metadata": {},
   "source": [
    "</br>"
   ]
  },
  {
   "cell_type": "markdown",
   "id": "2886cb2b",
   "metadata": {},
   "source": [
    "### useContext  \n",
    "  \n",
    "*_O ```useContext``` é usado para ter acesso a leitura do estado de um **componente funcional**, a forma de construção do ```provider``` permanece o mesmo, porém o acesso a informação é simplificado._*  \n",
    "  \n",
    "*_Ao chamar o Hook ```useContext``` temos a seguinte sintaxe:_*  \n",
    "```\n",
    "const { valor no estado } = useContext(contextAPI);\n",
    "```\n",
    "  \n",
    "*_É necessário importar o elemento que recebeu a declaração do ```contextAPI```, depois disso podemos usar a desestruturação ou receber o estado por completo._*"
   ]
  },
  {
   "cell_type": "code",
   "execution_count": null,
   "id": "65dfd15a",
   "metadata": {},
   "outputs": [],
   "source": [
    "// Exemplo de declaração e uso do Hook, useContext;\n",
    "\n",
    "import React, { useContext } from 'react';\n",
    "import contextAPI from './somewhere';\n",
    "\n",
    "const estado = useState(contextAPI); // Exemplo de leitura de estado.\n",
    "const { desestruturado } = useState(contextAPI); // Exemplo de leitura de estado com desestruturação."
   ]
  },
  {
   "cell_type": "markdown",
   "id": "acdf1f81",
   "metadata": {},
   "source": [
    "</br>"
   ]
  },
  {
   "cell_type": "markdown",
   "id": "6e4c1c20",
   "metadata": {},
   "source": [
    "### useEffect  \n",
    "  \n",
    "*_O proposito do ```useEffect``` é trazer aos componentes funcionais as funcionalidades dos componentes de classe, como por exemplo o uso do Lifecycle methods : ```componentDidMount``` , ```componentWillUnmount``` , ```componentDidUpdate```. Para esses três comportamentos, usamos o ```useEffect```._*  \n",
    "  \n",
    "*_O ```useEffect``` basicamente, tem a seguinte sintaxe:_*  \n",
    "```useEffect(() => {}, [])``` - Recebemos uma callback e um array;  \n",
    "A depender da configuração dessa chamada de função temos um dos efeitos, conforme já citado, dos componentes de classe. Abaixo seque cada um dos casos:  \n",
    "\n",
    "```useEffect(() => {})``` - **Função com a callback e sem o array** - Executará a função toda vez que o componente sofrer qualquer tipo de alteração e renderizar, neste cenário pode resulta em **loops infinitos** se não for usada de forma correta. Similar ao ```componentDidUpdate```.  \n",
    "  \n",
    "```useEffect(() => {}, [])``` - **Função com a callback e array vazio** - Neste cenário, a função será executada apenas uma vez na montagem do componente. Similar ao ```componentDidMount```.  \n",
    "  \n",
    "```useEffect(() => {}, [valor])``` - **Função com a callback e array com valores** - Executará a função sempre que houver mudança no valor ou valores passados como argumento para o array. Similar ao ```componentDidUpdate``` de uma forma mais controlada.  \n",
    "  \n",
    "```useEffect(() => return)``` - **Retorno da função callback** - Ao passar uma função como retorno da callback, ela é executada quando o componente for desmontado. Ideal para limpar timers por exemplo ou disparar eventos no momento de mudança de página. Similar ao ```componentWillUnmount```."
   ]
  },
  {
   "cell_type": "code",
   "execution_count": null,
   "id": "eedba932",
   "metadata": {},
   "outputs": [],
   "source": [
    "// Exemplos de usos do useEffect;\n",
    "\n",
    "useEffect((value) => value + 1); // Essa função será executada sempre que o componente como um todo atualizar e renderizar.\n",
    "\n",
    "useEffect((value) => value + 1, []); // Essa função será executada apenas na montagem inicial do componente.\n",
    "\n",
    "useEffect((value) => value + 1, [a, b, c]); // Essa função será executada sempre que houve qualquer alteração nos valores passados no array.\n",
    "\n",
    "useEffect((value) => {\n",
    "  value + 1\n",
    "  return () => clearInterval();\n",
    "}, [a, b, c]); // A função irá executar normalmente conforme a configuração de caso e, no momento que o componente for desmontado, ira executar a outra função passada como retorno."
   ]
  },
  {
   "cell_type": "markdown",
   "id": "1d8086f9",
   "metadata": {},
   "source": [
    "</br>"
   ]
  },
  {
   "cell_type": "markdown",
   "id": "83aa6051",
   "metadata": {},
   "source": [
    "### Custom Hooks  \n",
    "  \n",
    "*_Podemos criar hooks personalizados para nos ajudar a atingir efeitos não previstos pelos hooks nativos ou na reutilização de código em nossas aplicações. Para se criar um hook personalizado é necessário que em seu interior exista um hook nativo, pois sem essa condição, não existiria diferente entre hook personalizado e uma função comum javaScript._*  \n",
    "\n",
    "*_Segue exemplo de um hook personalizado:_*  \n",
    "```\n",
    "function useCustomHook(defaultValue) {\n",
    "  const [value, setValue] = useState(defaultValue);\n",
    "\n",
    "  useEffect(() => console.log('value'), [value]);\n",
    "\n",
    "  return setValue;\n",
    "}\n",
    "```\n",
    "*_Neste exemplo, fazemos uso de dois hooks nativos para criar um hook personalizado._*"
   ]
  }
 ],
 "metadata": {
  "kernelspec": {
   "display_name": "JavaScript (Node.js)",
   "language": "javascript",
   "name": "javascript"
  },
  "language_info": {
   "file_extension": ".js",
   "mimetype": "application/javascript",
   "name": "javascript",
   "version": "14.18.3"
  }
 },
 "nbformat": 4,
 "nbformat_minor": 5
}
