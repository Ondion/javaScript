{
 "cells": [
  {
   "cell_type": "markdown",
   "metadata": {},
   "source": [
    "<h1 style=\"text-align: center;\">Props</h1>\n",
    "<hr>"
   ]
  },
  {
   "cell_type": "markdown",
   "metadata": {},
   "source": [
    "*_**Props** São por onde passamos os valores para o componente, e é como o torna reutilizável em diferentes contextos. Elas são como os parâmetros de uma função. Observe o exemplo abaixo:_*  "
   ]
  },
  {
   "cell_type": "code",
   "execution_count": 1,
   "metadata": {},
   "outputs": [],
   "source": [
    "// Declaração da função com uso do parâmetro props.\n",
    "\n",
    "<exemploFunction arg={value} />\n",
    "\n",
    "//- - - - - - - - - - - - - - - - - - - - - - - - - //\n",
    "\n",
    "const exemploFunction = (props) => {\n",
    "    return(\n",
    "        <div>\n",
    "            <p>Valor da props: {props.arg}</p>\n",
    "        </div>\n",
    "    );\n",
    "}"
   ]
  },
  {
   "cell_type": "markdown",
   "metadata": {},
   "source": [
    "<br>"
   ]
  },
  {
   "cell_type": "markdown",
   "metadata": {},
   "source": [
    "*_Aqui estamos gerando o espaço reservado para o ```props.name``` e o ```props.lastName```, que poderão ser passados em outro momento de chamada dessa função._*  \n",
    "**Exemplo:**"
   ]
  },
  {
   "cell_type": "code",
   "execution_count": null,
   "metadata": {},
   "outputs": [],
   "source": [
    "//Exemplo para uso do props por meio de classes.\n",
    "\n",
    "<Greeting name=\"Samuel\" lastName=\"Silva\"/>\n",
    "\n",
    "// - - - - - - - - - - - - - - - - - - - - - - - - - - - - - //\n",
    "\n",
    "class Greeting extends React.Component {\n",
    "  render() {\n",
    "    return <h1>Hello, {this.props.name} {this.props.lastName}</h1>;\n",
    "  }\n",
    "}\n",
    "\n",
    "export default Greeting;"
   ]
  },
  {
   "cell_type": "markdown",
   "metadata": {},
   "source": [
    "*_Nesta chamada de função o React, de forma automática, armazena os valores passados como um objeto: ```props = { name: 'Samuel', lastName: 'Silva' }```, que por sua vez é passado como argumento para a função._*  \n",
    "\n",
    "**É importante lembrar que** *_esse exemplo se aplica para componentes declarados por meio de classes, por esse motivo usamos o ```this``` para fazer a chamada dos argumentos do props_*."
   ]
  },
  {
   "cell_type": "markdown",
   "metadata": {},
   "source": [
    "*_Segue mais um exemplo da passagem de argumentos via props em combinação com um objeto, que é a maneira mais comum de uso._*"
   ]
  },
  {
   "cell_type": "code",
   "execution_count": null,
   "metadata": {},
   "outputs": [],
   "source": [
    "const obj = {\n",
    "    prop1: \"valor 1\",\n",
    "    prop2: \"valor 2\",\n",
    "}\n",
    "\n",
    "const outroExemplo = () => {\n",
    "  return(\n",
    "      <div>\n",
    "        <Greeting name={obj.prop1} lastName={obj.prop2}/>\n",
    "      </div>\n",
    "  );\n",
    "}"
   ]
  },
  {
   "cell_type": "markdown",
   "metadata": {},
   "source": [
    "*_E, finalmente, com o uso do destructure, para evitar repetições._*"
   ]
  },
  {
   "cell_type": "code",
   "execution_count": null,
   "metadata": {},
   "outputs": [],
   "source": [
    "const Greeting = (props) => {\n",
    "    return(\n",
    "        <h1>Hello, {props.prop1} {props.prop2}</h1>\n",
    "    )\n",
    "}\n",
    "\n",
    "// Ou, de uma forma ainda mais \"elegante\"\n",
    "\n",
    "const Greeting = ({ prop1, prop2 }) => {\n",
    "    return(\n",
    "        <h1>Hello, {prop1} {prop2}</h1>\n",
    "    )\n",
    "}"
   ]
  },
  {
   "cell_type": "markdown",
   "metadata": {},
   "source": [
    "<br>"
   ]
  },
  {
   "cell_type": "markdown",
   "metadata": {},
   "source": [
    "### Props Children  \n",
    "*_Chamamos de children o elemento ou componente que é adicionado entre a abertura e fechamento de TAG de outro componente._*  \n",
    "**Exemplo:**  "
   ]
  },
  {
   "cell_type": "code",
   "execution_count": null,
   "metadata": {},
   "outputs": [],
   "source": [
    "function exemploPropsChildren() {\n",
    "  return (\n",
    "    <>\n",
    "\n",
    "    <ComponentA> // Podemos passar elemento HTML como children.\n",
    "        <p>Element Children</p>\n",
    "    </ComponentA>\n",
    "      \n",
    "    <ComponentMain> // Outro componente como children.\n",
    "        <ComponentA/>\n",
    "    </ComponentMain>\n",
    "\n",
    "    <ComponentB> // Ou qualquer outra combinação de elementos.\n",
    "        <ComponentA/>\n",
    "        <p>Element Children</p>\n",
    "        {\"javaScript\"}\n",
    "    </ComponentB>\n",
    "\n",
    "    </>\n",
    "     );\n",
    "}"
   ]
  },
  {
   "cell_type": "markdown",
   "metadata": {},
   "source": [
    "*_Esse elemento ```children``` é recebido como um array, que irar numerar todos os elementos passados entre a abertura e fechamento do componente._*"
   ]
  }
 ],
 "metadata": {
  "interpreter": {
   "hash": "31f2aee4e71d21fbe5cf8b01ff0e069b9275f58929596ceb00d14d90e3e16cd6"
  },
  "kernelspec": {
   "display_name": "JavaScript (Node.js)",
   "language": "javascript",
   "name": "javascript"
  },
  "language_info": {
   "file_extension": ".js",
   "mimetype": "application/javascript",
   "name": "javascript",
   "version": "14.18.3"
  }
 },
 "nbformat": 4,
 "nbformat_minor": 2
}
