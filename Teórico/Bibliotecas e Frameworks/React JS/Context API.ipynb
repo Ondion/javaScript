{
 "cells": [
  {
   "cell_type": "markdown",
   "id": "ffeed249",
   "metadata": {},
   "source": [
    "<h1 style=\"text-align:center;\">Context API</h1>\n",
    "<hr>"
   ]
  },
  {
   "cell_type": "markdown",
   "id": "b465a04e",
   "metadata": {},
   "source": [
    "*_O ```Context API``` é uma solução nativa do React para lidar com gerenciamento de estado de um componente e de todos os seus filhos na arvore de montagem. Com ele é possível alterar o estado de um componente \"pai\" a partir de seus \"filhos\" não importa quantas camadas se desça entre componente a componente._*  \n",
    "\n",
    "*_Em resumo, podemos alterar o estado de qualquer componente, não importa o nível hierárquico desde componente, sendo necessário apenas pertencer a mesma familia._*   "
   ]
  },
  {
   "cell_type": "markdown",
   "id": "3dfa9e54",
   "metadata": {},
   "source": []
  },
  {
   "cell_type": "code",
   "execution_count": null,
   "id": "9094fd7e",
   "metadata": {},
   "outputs": [],
   "source": [
    "// Exemplo de criação de context.\n",
    "\n",
    "import { createContext } from 'react';\n",
    "\n",
    "const contextAPI = createContext(defaultValue); // 'defaultValue' é o valor padrão a ser recebido caso nenhum valor seja passado ao contextAPI em outros momentos.\n",
    "\n",
    "export default contextAPI;"
   ]
  },
  {
   "cell_type": "code",
   "execution_count": null,
   "id": "0fb31d26",
   "metadata": {},
   "outputs": [],
   "source": [
    "import contextAPI from './MyContext';\n",
    "\n",
    "Provider \n",
    "\n",
    "<MyContext.Provider value={/* algum valor a ser compartilhado */}>\n",
    "  <MyComponent>\n",
    "    <MyOtherComponent>\n",
    "      ...\n",
    "    </MyOtherComponent>\n",
    "  <MyComponent>\n",
    "</MyContext.Provider>"
   ]
  },
  {
   "cell_type": "code",
   "execution_count": null,
   "id": "c2112fb2",
   "metadata": {},
   "outputs": [],
   "source": [
    "import contextAPI from './MyContext';\n",
    "\n",
    "Consumer \n",
    "\n",
    "<MyContext.Consumer>\n",
    "{(value) => {\n",
    "  /* renderiza algo utilizando o valor recebido do contexto */\n",
    "}}\n",
    "</MyContext.Consumer>"
   ]
  },
  {
   "cell_type": "code",
   "execution_count": null,
   "id": "aa5616be",
   "metadata": {},
   "outputs": [],
   "source": [
    "// Exemplo de "
   ]
  }
 ],
 "metadata": {
  "kernelspec": {
   "display_name": "JavaScript (Node.js)",
   "language": "javascript",
   "name": "javascript"
  },
  "language_info": {
   "file_extension": ".js",
   "mimetype": "application/javascript",
   "name": "javascript",
   "version": "14.18.3"
  }
 },
 "nbformat": 4,
 "nbformat_minor": 5
}
