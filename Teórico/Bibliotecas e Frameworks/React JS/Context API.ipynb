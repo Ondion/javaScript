{
 "cells": [
  {
   "cell_type": "markdown",
   "id": "ffeed249",
   "metadata": {},
   "source": [
    "<h1 style=\"text-align:center;\">Context API</h1>\n",
    "<hr>"
   ]
  },
  {
   "cell_type": "markdown",
   "id": "b465a04e",
   "metadata": {},
   "source": [
    "*_O ```Context API``` é uma solução nativa do React para lidar com gerenciamento de estado de um componente e de todos os seus filhos na arvore de montagem. Com ele é possível alterar o estado de um componente \"pai\" a partir de seus \"filhos\" não importa quantas camadas se desça entre componente a componente._*  \n",
    "\n",
    "*_Em resumo, podemos alterar o estado de qualquer componente, não importa o nível hierárquico desde componente, sendo necessário apenas pertencer a mesma familia._*   "
   ]
  },
  {
   "cell_type": "markdown",
   "id": "3dfa9e54",
   "metadata": {},
   "source": [
    "*_```O Context API``` - basicamente é uma alternativa ao Redux ou outros bibliotecas de gerenciamento de estado, uma vez que é nativo do React e, em teoria, é mais leve._*  \n",
    "</br>  "
   ]
  },
  {
   "cell_type": "markdown",
   "id": "a39c5dbb",
   "metadata": {},
   "source": [
    "*_O ```createContext``` retorna um objeto que possui dois componentes como propriedades: ```Provider``` e ```Consumer```. O valor passado como parâmetro para createContext será utilizado como o valor padrão do contexto, caso nenhum valor seja especificado ao utilizar o ```Provider```._*"
   ]
  },
  {
   "cell_type": "code",
   "execution_count": null,
   "id": "9094fd7e",
   "metadata": {},
   "outputs": [],
   "source": [
    "// Exemplo de criação de context.\n",
    "\n",
    "import { createContext } from 'react';\n",
    "\n",
    "const contextAPI = createContext(defaultValue); // 'defaultValue' é o valor padrão a ser recebido caso nenhum valor seja passado ao contextAPI em outros momentos.\n",
    "\n",
    "export default contextAPI;"
   ]
  },
  {
   "cell_type": "markdown",
   "id": "5e9ea051",
   "metadata": {},
   "source": [
    "</br>"
   ]
  },
  {
   "cell_type": "markdown",
   "id": "010dfee7",
   "metadata": {},
   "source": [
    "*_```Provider``` é responsável por \"prover\" os dados para os componentes que estão nos níveis abaixo dele na árvore de componentes. Ele aceita uma prop obrigatória ```value``` com os dados que serão compartilhados. Esse valor pode ser qualquer valor JavaScript, como um número, string, array ou objeto._*"
   ]
  },
  {
   "cell_type": "code",
   "execution_count": null,
   "id": "0fb31d26",
   "metadata": {},
   "outputs": [],
   "source": [
    "import contextAPI from './contextAPI';\n",
    "\n",
    "// Exemplo de uso do Provider em conjunto com passagem de um value. \n",
    "\n",
    "<contextAPI.Provider value={0} >\n",
    "  <Component />\n",
    "</contextAPI.Provider>"
   ]
  },
  {
   "cell_type": "markdown",
   "id": "2cf0c0dc",
   "metadata": {},
   "source": [
    "</br>"
   ]
  },
  {
   "cell_type": "markdown",
   "id": "d5e3ace8",
   "metadata": {},
   "source": [
    "*_```Consumer``` é utilizado sempre que um componente precisa de um valor do contexto._*"
   ]
  },
  {
   "cell_type": "code",
   "execution_count": null,
   "id": "c2112fb2",
   "metadata": {},
   "outputs": [],
   "source": [
    "import contextAPI from './contextAPI';\n",
    "\n",
    "function Component() {\n",
    "  return (\n",
    "    <contextAPI.Consumer>\n",
    "      {(value) => ({\n",
    "        // Utiliza o valor passado no provide, dentro de um componente.\n",
    "      })}\n",
    "    </contextAPI.Consumer>\n",
    "  )\n",
    "}"
   ]
  },
  {
   "cell_type": "markdown",
   "id": "499ecf09",
   "metadata": {},
   "source": [
    "</br>"
   ]
  },
  {
   "cell_type": "markdown",
   "id": "1f616ed4",
   "metadata": {},
   "source": [
    "*_Ao utiliza um consumer, o React encontrará o provider correspondente mais próximo e utilizará seu valor. Caso não seja encontrado um provider, o valor do contexto utilizado será o valor passado para createContext quando o contexto foi criado._*"
   ]
  },
  {
   "cell_type": "markdown",
   "id": "c5263b94",
   "metadata": {},
   "source": [
    "</br>"
   ]
  },
  {
   "cell_type": "markdown",
   "id": "c4bfea46",
   "metadata": {},
   "source": [
    "## Render props"
   ]
  },
  {
   "cell_type": "markdown",
   "id": "e7cd367c",
   "metadata": {},
   "source": [
    "*_Um componente consumer deve receber como ```children``` uma função. Essa função recebe como parâmetro o valor passado na prop value do ```Provider``` e posteriormente retorna algo a ser renderizado, esse é um pattern em React conhecido como render props._*"
   ]
  },
  {
   "cell_type": "code",
   "execution_count": null,
   "id": "bfffb2f8",
   "metadata": {},
   "outputs": [],
   "source": [
    "// Exemplo...\n",
    "\n",
    "function ComponentFunction() {\n",
    "  return (\n",
    "    <Context.Consumer>\n",
    "      {(values) => (\n",
    "        <div>\n",
    "          { values }\n",
    "        </div>\n",
    "      )}\n",
    "    </Context.Consumer>\n",
    "  );\n",
    "}"
   ]
  },
  {
   "cell_type": "markdown",
   "id": "098d2956",
   "metadata": {},
   "source": [
    "</br>"
   ]
  },
  {
   "cell_type": "markdown",
   "id": "9d35f35b",
   "metadata": {},
   "source": [
    "*_Em componentes de classe é possível utilizar a propriedade ```contextType``` que é uma propriedade disponível para fazer com que seja possível acessar o valor de um contexto através de ```this.context```, sem a necessidade de utilizar um consumer, em qualquer lifecycle method do componente, incluindo a função render._*  \n",
    "  \n",
    "*_**Somente um contexto** pode ser atribuído a ```contextType```. Caso um componente de classe precise acessar mais de um contexto, será necessário utilizar um consumer._*"
   ]
  },
  {
   "cell_type": "code",
   "execution_count": null,
   "id": "67f478b1",
   "metadata": {},
   "outputs": [],
   "source": [
    "const Context = createContext();\n",
    "\n",
    "class Component extends React.Component {\n",
    "  componentDidMount() {\n",
    "    const value = this.context;\n",
    "    // Exemplo de uso do context no lifecycle.\n",
    "  }\n",
    "\n",
    "  render() {\n",
    "    const value = this.context;\n",
    "    // Exemplo de uso no render, antes do return.\n",
    "  }\n",
    "}\n",
    "\n",
    "Component.contextType = Context;"
   ]
  }
 ],
 "metadata": {
  "kernelspec": {
   "display_name": "JavaScript (Node.js)",
   "language": "javascript",
   "name": "javascript"
  },
  "language_info": {
   "file_extension": ".js",
   "mimetype": "application/javascript",
   "name": "javascript",
   "version": "14.18.3"
  }
 },
 "nbformat": 4,
 "nbformat_minor": 5
}
