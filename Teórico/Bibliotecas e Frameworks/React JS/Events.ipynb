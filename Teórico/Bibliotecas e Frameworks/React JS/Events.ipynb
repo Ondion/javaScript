{
 "cells": [
  {
   "cell_type": "markdown",
   "id": "ffeed249",
   "metadata": {},
   "source": [
    "<h1 style=\"text-align:center;\">Events</h1>\n",
    "<hr>"
   ]
  },
  {
   "cell_type": "markdown",
   "id": "7f716883",
   "metadata": {},
   "source": [
    "*_A sintaxe para adicionar eventos no React é parcialmente diferente do javaScript, sua declaração é feita em linha._*  \n",
    "**Exemplos:**"
   ]
  },
  {
   "cell_type": "code",
   "execution_count": null,
   "id": "23cdde94",
   "metadata": {},
   "outputs": [],
   "source": [
    "// Adicionando um evento de click ao botão que aciona um alert.\n",
    "\n",
    "const App = () => {\n",
    "    return(\n",
    "        <button onClick={funcExe} > Botão </button>\n",
    "    );\n",
    "}\n",
    "\n",
    "const funcExe = () => window.alert(\"Exemplo de Evento!\")\n",
    "\n",
    "// A função funcExe, sempre que houve um click no botão."
   ]
  },
  {
   "cell_type": "markdown",
   "id": "519757a2",
   "metadata": {},
   "source": [
    "*_Exemplo de evento declarado inline:_*"
   ]
  },
  {
   "cell_type": "code",
   "execution_count": null,
   "id": "a40bcb58",
   "metadata": {},
   "outputs": [],
   "source": [
    "const App = () => {\n",
    "    return(\n",
    "        <button onClick={() => window.alert(\"ok!\")} > Botão </button>\n",
    "    );\n",
    "}"
   ]
  },
  {
   "cell_type": "markdown",
   "id": "b07f1c0f",
   "metadata": {},
   "source": [
    "<br>"
   ]
  },
  {
   "cell_type": "markdown",
   "id": "29d681db",
   "metadata": {},
   "source": [
    "### Eventos com parâmetros  \n",
    "*_Em funções que recebem parâmentros, quando adicionadas em eventos, é necessários chama-las dentro de outra função que não recebe parâmetro (arrow function), para evitar o efeito indesejado de executar a função no momento de renderização dos elementos._*  \n",
    "**Exemplos:**  "
   ]
  },
  {
   "cell_type": "code",
   "execution_count": null,
   "id": "e4e00eb0",
   "metadata": {},
   "outputs": [],
   "source": [
    "// Neste exemplo, a função será executada no momento da renderização da página.\n",
    "\n",
    "const App = () => {\n",
    "    return(\n",
    "        <button onClick={funcExe(\"Essa função será executada no carregamento.\")} > Botão </button>\n",
    "    );\n",
    "}\n",
    "\n",
    "const funcExe = (parâmetro) => console.log(parâmetro);"
   ]
  },
  {
   "cell_type": "code",
   "execution_count": null,
   "id": "62267172",
   "metadata": {},
   "outputs": [],
   "source": [
    "// Função que, será executada no evento de clique.\n",
    "\n",
    "const App = () => {\n",
    "    return(\n",
    "        <button onClick={() => funcExe(\"Essa função somente será executada no evento.\")} > Botão </button>\n",
    "    );\n",
    "}\n",
    "\n",
    "const funcExe = (parâmetro) => console.log(parâmetro);"
   ]
  },
  {
   "cell_type": "markdown",
   "id": "7d3f967c",
   "metadata": {},
   "source": [
    "<br/>"
   ]
  },
  {
   "cell_type": "markdown",
   "id": "9cd72d8f",
   "metadata": {},
   "source": []
  }
 ],
 "metadata": {
  "kernelspec": {
   "display_name": "JavaScript (Node.js)",
   "language": "javascript",
   "name": "javascript"
  },
  "language_info": {
   "file_extension": ".js",
   "mimetype": "application/javascript",
   "name": "javascript",
   "version": "14.18.3"
  }
 },
 "nbformat": 4,
 "nbformat_minor": 5
}
