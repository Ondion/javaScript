{
 "cells": [
  {
   "cell_type": "markdown",
   "id": "ffeed249",
   "metadata": {},
   "source": [
    "<h1 style=\"text-align:center;\">Comandos</h1>\n",
    "<hr>"
   ]
  },
  {
   "cell_type": "markdown",
   "id": "af984710",
   "metadata": {},
   "source": [
    "*_Segue lista de comandos e exemplos de testes:_*"
   ]
  },
  {
   "cell_type": "markdown",
   "id": "f907eae4",
   "metadata": {},
   "source": [
    "*_Temos a biblioteca: ```@testing-library/jest-dom``` que adiciona ao nossos testes de códigos os ```matches``` personalizados para usar em extensão ao Jest. Isso ira fazer os códigos de testes mais claros e simples de manter;_*  \n",
    "\n",
    "Para instalar nas dependências via npm:  \n",
    "```npm install --save-dev @testing-library/jest-dom```  \n",
    "\n",
    "*_Depois de instalado, basta fazer o import:_*  \n",
    "```import '@testing-library/jest-dom'```"
   ]
  },
  {
   "cell_type": "code",
   "execution_count": null,
   "id": "d741c06e",
   "metadata": {},
   "outputs": [],
   "source": [
    "test('Descrição do teste', (/*função com os testes e parâmetros para sua execução.*/) => {}) "
   ]
  },
  {
   "cell_type": "code",
   "execution_count": 2,
   "id": "20dc6786",
   "metadata": {},
   "outputs": [],
   "source": [
    "test('Testa o input tipo email', () => {\n",
    "  render(<App />);\n",
    "  const valorHTML = screen.getByLabelText('Editar!!!');\n",
    "  expect(valorHTML.type).toBe('email'); // Aqui a variável \"valorHTML\" é testada para seu tipo, com a chamada do .type\n",
    "})"
   ]
  },
  {
   "cell_type": "markdown",
   "id": "c953ffa9",
   "metadata": {},
   "source": [
    "## Seletores RTL"
   ]
  },
  {
   "cell_type": "markdown",
   "id": "69f4b958",
   "metadata": {},
   "source": [
    "```getByText()```  \n",
    "*_Seletor para pegar um elemento por um texto explicito no mesmo._*"
   ]
  },
  {
   "cell_type": "markdown",
   "id": "1427635a",
   "metadata": {},
   "source": [
    "```getByLabelText()```  \n",
    "*_Seletor para pegar um elemento baseado na label associada a ele._*"
   ]
  },
  {
   "cell_type": "markdown",
   "id": "367fbfc9",
   "metadata": {},
   "source": [
    "```getByRole()```  \n",
    "*_Seletor para buscar um elemento pelo type ou por sua tag HTML. Lembrando que ele espera receber **apenas um elemento na busca**, dois ou mais elementos com a mesma role, resultará em falha no teste._*"
   ]
  },
  {
   "cell_type": "markdown",
   "id": "367fbfc9",
   "metadata": {},
   "source": [
    "```getAllByRole()```  \n",
    "*_Seletor para buscar um elemento pelo type ou por sua tag HTML. Ele pode receber dois ou mais elementos com a mesma role, armazenado os resultados em um array._*"
   ]
  },
  {
   "cell_type": "markdown",
   "id": "04f9e4a4",
   "metadata": {},
   "source": []
  },
  {
   "cell_type": "markdown",
   "id": "4bdd741c",
   "metadata": {},
   "source": [
    "## Tests RTL"
   ]
  },
  {
   "cell_type": "markdown",
   "id": "561c26dd",
   "metadata": {},
   "source": [
    "```toBeInTheDocument()```  \n",
    "*_Testa se o elemento passado está no documento testado._*"
   ]
  },
  {
   "cell_type": "markdown",
   "id": "b902366c",
   "metadata": {},
   "source": [
    "```toHaveProperty()```  \n",
    "*_Testa se o elemento passado tem a propriedade e valor passados como parâmetros._*  \n",
    "**Exemplo:**  \n",
    "```\n",
    "expect(HTML-Button-Element).toHaveProperty('type', 'button');\n",
    "```"
   ]
  },
  {
   "cell_type": "markdown",
   "id": "54edfa25",
   "metadata": {},
   "source": [
    "```toHaveValue()```  \n",
    "*_Testa se o elemento passado tem o valor indicado no parâmetro da função._*"
   ]
  },
  {
   "cell_type": "markdown",
   "id": "a91ef44b",
   "metadata": {},
   "source": []
  },
  {
   "cell_type": "markdown",
   "id": "e7b42dbd",
   "metadata": {},
   "source": [
    "##  userEvent\n",
    "*_A biblioteca ```userEvent``` trás diversos métodos para simular a interação de um usuário na aplicação e realizar testes após essa interação._*  \n",
    "*_Para importar nos testes a função utilizamos o seguinte import: ```import userEvent from '@testing-library/user-event'```_*  \n",
    "*_Case seja necessário instalar manualmente a biblioteca: ```npm install --save-dev @testing-library/user-event```_*\n",
    "\n",
    "*_A maioria dos métodos do ```userEvent``` são síncronos, exceto quando utilizar o ```userEvent.type```, pois ele aguarda a informação que será testada. O type possui três parâmetros, sendo o terceiro parâmetro opcional, type(element, text, [options]) , esse terceiro parâmetro pode ser utilizado para passar um **delay, em milissegundos**, que será o tempo esperado entre dois caracteres digitados para realizar a ação do teste. O valor default para o delay é 0. O ```userEvent.type``` é um evento que retorna uma **Promise**, porém, como valor default é 0, você só precisará aguardar o retorno dessa Promise caso passe algum valor para a option delay, do contrário o ```userEvent.type``` funcionará de modo síncrono._*"
   ]
  },
  {
   "cell_type": "markdown",
   "id": "29a8704d",
   "metadata": {},
   "source": []
  }
 ],
 "metadata": {
  "kernelspec": {
   "display_name": "JavaScript (Node.js)",
   "language": "javascript",
   "name": "javascript"
  },
  "language_info": {
   "file_extension": ".js",
   "mimetype": "application/javascript",
   "name": "javascript",
   "version": "16.14.2"
  }
 },
 "nbformat": 4,
 "nbformat_minor": 5
}
