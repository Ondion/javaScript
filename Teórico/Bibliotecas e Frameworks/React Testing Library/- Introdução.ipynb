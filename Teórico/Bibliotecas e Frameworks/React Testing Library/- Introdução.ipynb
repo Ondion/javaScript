{
 "cells": [
  {
   "cell_type": "markdown",
   "id": "ffeed249",
   "metadata": {},
   "source": [
    "<h1 style=\"text-align:center;\">Introdução!</h1>\n",
    "<hr>"
   ]
  },
  {
   "cell_type": "markdown",
   "id": "759820ff",
   "metadata": {},
   "source": [
    "**O principal objetivo da cobertura de testes, é evidenciar quais linhas do código foram testadas e quais não estão sendo exploradas nos testes, existem diversos softwares que checam a cobertura de código, os resultados podem evidenciar:**  \n",
    " - A proporção de linhas do seu código que são executadas;\n",
    " - Se há linhas que “nunca” serão executadas;\n",
    " - A quantidade de funções externas que são chamadas;\n",
    " - Blocos de código repetitivos e/ou códigos inalcançáveis.  \n",
    "  \n",
    "**Se o resultado nos mostra que há uma cobertura alta, podemos dizer que o código foi bastante testado e tem uma chance menor de conter erros, mas não diz nada sobre a qualidade do código, o que só pode ser medido pela cobertura dos casos de uso.**  \n",
    "  "
   ]
  },
  {
   "cell_type": "markdown",
   "id": "3b012a01",
   "metadata": {},
   "source": [
    "*_No RTL o objetivo é testar comportamento, como se algo aparece ou não na tela. Por exemplo:_*  \n",
    " - Testamos se a página tem um titulo especifico.\n",
    " - Testamos se ao clicar em um componente, algo aparece ou desaparece da tela.\n",
    " - Testamos se as rotas de navegação são alteradas corretamente."
   ]
  },
  {
   "cell_type": "markdown",
   "id": "f667358a",
   "metadata": {},
   "source": [
    "**Exemplo:**"
   ]
  },
  {
   "cell_type": "code",
   "execution_count": null,
   "id": "cc2b7fce",
   "metadata": {},
   "outputs": [],
   "source": [
    "// Exemplo de teste em RTL, esse é o teste padrão que sempre acompanha o aplicativo react, quando criado pelo npx.\n",
    "\n",
    "import React from 'react';\n",
    "import { render, screen } from '@testing-library/react';\n",
    "import App from './App';\n",
    "\n",
    "test('renders learn react link', () => {\n",
    "  render(<App />);\n",
    "  const linkElement = screen.getByText(/learn react/i);\n",
    "  expect(linkElement).toBeInTheDocument();\n",
    "});"
   ]
  },
  {
   "cell_type": "markdown",
   "id": "e1af716b",
   "metadata": {},
   "source": [
    "**Renderização**  ```render()```  \n",
    "*_Para testar um componente do React, temos que renderizá-lo em um browser real ou numa simulação de um browser. Na RTL , é necessário o uso da função render() para fazer isso. A função render() faz a renderização de um componente em memória para que se possa simular as interações com esse componente._*"
   ]
  },
  {
   "cell_type": "markdown",
   "id": "e1af716b",
   "metadata": {},
   "source": [
    "**Seletores**  \n",
    "*_Para usar o seletor/query como o ```getByText```, precisamos usar o ```screen.getByText```. Observe que ele é muito parecido com os seletores do DOM, como o ```document.getElementById(), document.querySelector()```. Seguindo a mesma lógica, ao usar o ```screen.getByText()```, ele retornará um elemento html. A vantagem de utilizar o screen é que você não precisará atualizar e desestruturar a chamada do render para todo teste que você fizer, pois é possível consultar e utilizar todos os elementos do DOM através do próprio screen, os atributos e propriedades também são acessíveis._*   \n",
    "\n",
    "*_Seletores ou Queries são métodos que usamos para indicar ao RTL algum elemento da nossa aplicação._*"
   ]
  },
  {
   "cell_type": "markdown",
   "id": "2a9d86b9",
   "metadata": {},
   "source": []
  }
 ],
 "metadata": {
  "kernelspec": {
   "display_name": "JavaScript (Node.js)",
   "language": "javascript",
   "name": "javascript"
  },
  "language_info": {
   "file_extension": ".js",
   "mimetype": "application/javascript",
   "name": "javascript",
   "version": "14.18.3"
  }
 },
 "nbformat": 4,
 "nbformat_minor": 5
}
