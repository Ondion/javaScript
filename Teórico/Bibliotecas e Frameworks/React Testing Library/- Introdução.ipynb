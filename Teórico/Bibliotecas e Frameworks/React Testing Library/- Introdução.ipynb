{
 "cells": [
  {
   "cell_type": "markdown",
   "id": "ffeed249",
   "metadata": {},
   "source": [
    "<h1 style=\"text-align:center;\">Introdução!</h1>\n",
    "<hr>"
   ]
  },
  {
   "cell_type": "markdown",
   "id": "759820ff",
   "metadata": {},
   "source": [
    "**O principal objetivo da cobertura de testes, é evidenciar quais linhas do código foram testadas e quais não estão sendo exploradas nos testes, existem diversos softwares que checam a cobertura de código, os resultados podem evidenciar:**  \n",
    " - A proporção de linhas do seu código que são executadas;\n",
    " - Se há linhas que “nunca” serão executadas;\n",
    " - A quantidade de funções externas que são chamadas;\n",
    " - Blocos de código repetitivos e/ou códigos inalcançáveis.  \n",
    "  \n",
    "**Se o resultado nos mostra que há uma cobertura alta, podemos dizer que o código foi bastante testado e tem uma chance menor de conter erros, mas não diz nada sobre a qualidade do código, o que só pode ser medido pela cobertura dos casos de uso.**  \n",
    "  "
   ]
  },
  {
   "cell_type": "markdown",
   "id": "3b012a01",
   "metadata": {},
   "source": [
    "*_No RTL o objetivo é testar comportamento, como se algo aparece ou não na tela. Por exemplo:_*  \n",
    " - Testamos se a página tem um titulo especifico.\n",
    " - Testamos se ao clicar em um componente, algo aparece ou desaparece da tela.\n",
    " - Testamos se as rotas de navegação são alteradas corretamente."
   ]
  },
  {
   "cell_type": "code",
   "execution_count": null,
   "id": "cc2b7fce",
   "metadata": {},
   "outputs": [],
   "source": [
    "// Exemplo de teste em RTL\n",
    "\n",
    "import React from 'react';\n",
    "import { render, screen } from '@testing-library/react';\n",
    "import App from './App';\n",
    "\n",
    "test('renders learn react link', () => {\n",
    "  render(<App />);\n",
    "  const linkElement = screen.getByText(/learn react/i);\n",
    "  expect(linkElement).toBeInTheDocument();\n",
    "});"
   ]
  },
  {
   "cell_type": "code",
   "execution_count": null,
   "id": "d07fbca3",
   "metadata": {},
   "outputs": [],
   "source": []
  }
 ],
 "metadata": {
  "kernelspec": {
   "display_name": "JavaScript (Node.js)",
   "language": "javascript",
   "name": "javascript"
  },
  "language_info": {
   "file_extension": ".js",
   "mimetype": "application/javascript",
   "name": "javascript",
   "version": "14.18.3"
  }
 },
 "nbformat": 4,
 "nbformat_minor": 5
}
