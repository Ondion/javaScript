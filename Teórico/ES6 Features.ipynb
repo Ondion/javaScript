{
 "cells": [
  {
   "cell_type": "markdown",
   "metadata": {},
   "source": [
    "# JavaScript ES6 Features\n",
    "<hr>"
   ]
  },
  {
   "cell_type": "markdown",
   "metadata": {},
   "source": [
    "*_Algumas das features introduzidas na atualização ES6 do JavaScript._*  \n",
    "<br>"
   ]
  },
  {
   "cell_type": "markdown",
   "metadata": {},
   "source": [
    "**Spread Operador p/ Arrays**  \n",
    "*_Essa operação retorna um novo array que é a junção dos valores passados, na mesma ordem._*  \n",
    "**Exemplo:**  "
   ]
  },
  {
   "cell_type": "code",
   "execution_count": 1,
   "metadata": {},
   "outputs": [
    {
     "name": "stdout",
     "output_type": "stream",
     "text": [
      "[ 'valor1', 'valor2', 'valor3', 'prop1', 'prop2', 'prop3' ]\n"
     ]
    }
   ],
   "source": [
    "const array = [\"valor1\", \"valor2\", \"valor3\"];\n",
    "const prop = [\"prop1\", \"prop2\", \"prop3\"];\n",
    "\n",
    "const arrayProp = [...array, ...prop];\n",
    "\n",
    "console.log(arrayProp)"
   ]
  },
  {
   "cell_type": "code",
   "execution_count": 2,
   "metadata": {},
   "outputs": [
    {
     "name": "stdout",
     "output_type": "stream",
     "text": [
      "[\n",
      "  'novo valor!',\n",
      "  'prop1',\n",
      "  'prop2',\n",
      "  'prop3',\n",
      "  'valor1',\n",
      "  'valor2',\n",
      "  'valor3'\n",
      "]\n"
     ]
    }
   ],
   "source": [
    "// Também é possivel adicionar outros valores na operação.\n",
    "\n",
    "const arrayProp2 = [\"novo valor!\", ...prop, ...array]\n",
    "\n",
    "console.log(arrayProp2)"
   ]
  },
  {
   "cell_type": "markdown",
   "metadata": {},
   "source": [
    "**Spread Operador p/ Objetos**  \n",
    "*_Essa operação retorna um novo array que é a junção dos valores passados, na mesma ordem._*  \n",
    "**Exemplo:**  "
   ]
  },
  {
   "cell_type": "code",
   "execution_count": null,
   "metadata": {},
   "outputs": [],
   "source": []
  }
 ],
 "metadata": {
  "kernelspec": {
   "display_name": "JavaScript (Node.js)",
   "language": "javascript",
   "name": "javascript"
  },
  "language_info": {
   "file_extension": ".js",
   "mimetype": "application/javascript",
   "name": "javascript",
   "version": "14.18.3"
  }
 },
 "nbformat": 4,
 "nbformat_minor": 4
}
