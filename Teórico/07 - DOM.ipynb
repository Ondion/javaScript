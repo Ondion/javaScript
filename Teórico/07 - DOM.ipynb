{
 "cells": [
  {
   "cell_type": "markdown",
   "id": "f76df45c",
   "metadata": {},
   "source": [
    "<h1 style=\"text-align: center;\">DOM</h1>"
   ]
  },
  {
   "cell_type": "markdown",
   "id": "9d2bd68b",
   "metadata": {},
   "source": [
    "<br>  "
   ]
  },
  {
   "cell_type": "markdown",
   "id": "ed2fecd1",
   "metadata": {},
   "source": [
    "### getElementById"
   ]
  },
  {
   "cell_type": "markdown",
   "id": "8709fb0d",
   "metadata": {},
   "source": [
    "```document.getElementById(\"ID\")```  \n",
    " *_Retorna o elemento HTML que contenha a ID passada. Por se tratar de uma ID sempre será apenas um retorno em HTML._*"
   ]
  },
  {
   "cell_type": "markdown",
   "id": "1f440413",
   "metadata": {},
   "source": [
    "```document.getElementById(\"ID\").innerHTML = <div>alterado!</div>```  \n",
    "*_Conteúdo HTML é alterado diretamente pelo document_*"
   ]
  },
  {
   "cell_type": "markdown",
   "id": "f708445d",
   "metadata": {},
   "source": [
    "```var variavel = document.getElementById(\"ID\")```  \n",
    "*_Neste caso o retorno do método é passado para a variavel_*"
   ]
  },
  {
   "cell_type": "markdown",
   "id": "17dbe93b",
   "metadata": {},
   "source": [
    "```variavel.innerHTML = <div>alterado</div>```  \n",
    "*_Alterando o conteúdo HTML por variavel_*"
   ]
  },
  {
   "cell_type": "markdown",
   "id": "cfb17e69",
   "metadata": {},
   "source": [
    "<br>"
   ]
  },
  {
   "cell_type": "markdown",
   "id": "4184e0ce",
   "metadata": {},
   "source": [
    "### getElementsByClassName  "
   ]
  },
  {
   "cell_type": "markdown",
   "id": "5a99d252",
   "metadata": {},
   "source": [
    "```document.getElementsByClassName(\"class\")```  \n",
    "*_Retorna uma HTMLCollection, que é uma lista com todos os valores da classe passada. Mesmo que exista apenas uma ocorrência para a classe, o retorno sempre será uma lista._*  "
   ]
  },
  {
   "cell_type": "markdown",
   "id": "de5be1c2",
   "metadata": {},
   "source": [
    "```document.getElementsByClassName(\"class\")[0].innerText = \"alterado!\"```  \n",
    "*_O conteúdo de texto da primeira chamada dessa classe foi alterado_*  "
   ]
  },
  {
   "cell_type": "markdown",
   "id": "35ec8348",
   "metadata": {},
   "source": [
    "```var variavel = document.getElementsByClassName(\"class\")```  \n",
    "*_Armazena a lista HTML na variavel_*  "
   ]
  },
  {
   "cell_type": "markdown",
   "id": "9b314845",
   "metadata": {},
   "source": [
    "```variavel[0].innerText = \"alterado!\"```  \n",
    "*_O conteúdo de texto do primeiro item da lista foi alterado_*  "
   ]
  },
  {
   "cell_type": "code",
   "execution_count": null,
   "id": "dc37c099",
   "metadata": {},
   "outputs": [],
   "source": []
  }
 ],
 "metadata": {
  "kernelspec": {
   "display_name": "JavaScript (Node.js)",
   "language": "javascript",
   "name": "javascript"
  },
  "language_info": {
   "file_extension": ".js",
   "mimetype": "application/javascript",
   "name": "javascript",
   "version": "14.18.1"
  }
 },
 "nbformat": 4,
 "nbformat_minor": 5
}
