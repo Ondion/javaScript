{
 "cells": [
  {
   "cell_type": "markdown",
   "id": "f76df45c",
   "metadata": {},
   "source": [
    "<h1 style=\"text-align: center;\">DOM Seletores</h1>"
   ]
  },
  {
   "cell_type": "markdown",
   "id": "9d2bd68b",
   "metadata": {},
   "source": [
    "<br>  "
   ]
  },
  {
   "cell_type": "markdown",
   "id": "ed2fecd1",
   "metadata": {},
   "source": [
    "### getElementById"
   ]
  },
  {
   "cell_type": "markdown",
   "id": "8709fb0d",
   "metadata": {},
   "source": [
    "```document.getElementById(\"ID\")```  \n",
    " *_Retorna o elemento HTML que contenha a ID passada. Por se tratar de uma ID sempre será apenas um retorno em HTML._*"
   ]
  },
  {
   "cell_type": "markdown",
   "id": "1f440413",
   "metadata": {},
   "source": [
    "```document.getElementById(\"ID\").innerHTML = <div>alterado!</div>```  \n",
    "*_Conteúdo HTML é alterado diretamente pelo document_*"
   ]
  },
  {
   "cell_type": "markdown",
   "id": "f708445d",
   "metadata": {},
   "source": [
    "```var variavel = document.getElementById(\"ID\")```  \n",
    "*_Neste caso o retorno do método é passado para a variavel_*"
   ]
  },
  {
   "cell_type": "markdown",
   "id": "17dbe93b",
   "metadata": {},
   "source": [
    "```variavel.innerHTML = <div>alterado</div>```  \n",
    "*_Alterando o conteúdo HTML por variavel_*"
   ]
  },
  {
   "cell_type": "markdown",
   "id": "cfb17e69",
   "metadata": {},
   "source": [
    "<br>"
   ]
  },
  {
   "cell_type": "markdown",
   "id": "081dd17c",
   "metadata": {},
   "source": [
    "### getElementsByClassName  "
   ]
  },
  {
   "cell_type": "markdown",
   "id": "5a99d252",
   "metadata": {},
   "source": [
    "```document.getElementsByClassName(\"class\")```  \n",
    "*_Retorna uma HTMLCollection, que é uma lista com todos os valores da classe passada. Mesmo que exista apenas uma ocorrência para a classe, o retorno sempre será uma lista._*  "
   ]
  },
  {
   "cell_type": "markdown",
   "id": "de5be1c2",
   "metadata": {},
   "source": [
    "```document.getElementsByClassName(\"class\")[0].innerText = \"alterado!\"```  \n",
    "*_O conteúdo de texto da primeira chamada dessa classe foi alterado_*  "
   ]
  },
  {
   "cell_type": "markdown",
   "id": "35ec8348",
   "metadata": {},
   "source": [
    "```var variavel = document.getElementsByClassName(\"class\")```  \n",
    "*_Armazena a lista HTML na variavel_*  "
   ]
  },
  {
   "cell_type": "markdown",
   "id": "9b314845",
   "metadata": {},
   "source": [
    "```variavel[0].innerText = \"alterado!\"```  \n",
    "*_O conteúdo de texto do primeiro item da lista foi alterado_*  "
   ]
  },
  {
   "cell_type": "markdown",
   "id": "e9412ed6",
   "metadata": {},
   "source": [
    "<br>"
   ]
  },
  {
   "cell_type": "markdown",
   "id": "d1ff1e0d",
   "metadata": {},
   "source": [
    "### getElementsByTagName  "
   ]
  },
  {
   "cell_type": "markdown",
   "id": "7a0f122e",
   "metadata": {},
   "source": [
    "```document.getElementsByTagName(\"div\")```  \n",
    "*_Retorna uma lista HTMLCollection com todas as ocorrências da TAG HTML passada. Esse retorno sempre será uma lista, mesmo que exista apenas um elemento._*  "
   ]
  },
  {
   "cell_type": "markdown",
   "id": "865419bc",
   "metadata": {},
   "source": [
    "```document.getElementsByTagName(\"div\")[0].innerText = \"alterado!\"```  \n",
    "*_O conteúdo de texto da primeira chamada 'div' foi alterado_*  "
   ]
  },
  {
   "cell_type": "markdown",
   "id": "1be56eaa",
   "metadata": {},
   "source": [
    "```var variavel = document.getElementsByTagName(\"div\")```  \n",
    "*_Armazena a lista HTML na variavel_*  "
   ]
  },
  {
   "cell_type": "markdown",
   "id": "0eab209c",
   "metadata": {},
   "source": [
    "```variavel[0].innerText = \"alterado!\"```  \n",
    "*_O conteúdo de texto do primeiro item da lista foi alterado_*  "
   ]
  },
  {
   "cell_type": "markdown",
   "id": "ae5a90b9",
   "metadata": {},
   "source": [
    "<br>"
   ]
  },
  {
   "cell_type": "markdown",
   "id": "8752cd70",
   "metadata": {},
   "source": [
    "### querySelector  "
   ]
  },
  {
   "cell_type": "markdown",
   "id": "62726e47",
   "metadata": {},
   "source": [
    "```document.querySelector(\".class\")```  \n",
    "*_Retorna a primeira ocorrência da classe passada. O querySelector tem uma abrangência muito maior do que os getElements, então é necessário passar a classe ou o ID conforme é usado em seletores CSS._*  \n",
    "```document.querySelector(\"#ID\")```  \n",
    "*_Neste segundo exemplo, estamos recebendo o conteúdo HTML do 'ID' passado como parâmetro._*  \n",
    "```document.querySelector(\"p\")```  \n",
    "*_Retorna o conteúdo HTML do primeiro paragrafo da página._*  "
   ]
  },
  {
   "cell_type": "markdown",
   "id": "4b883fc9",
   "metadata": {},
   "source": [
    "```document.querySelector(\"*\").style.backgroundColor = \"green\"```  \n",
    "*_Altera o plano de fundo de todos os elementos HTML, neste exemplo._*  "
   ]
  },
  {
   "cell_type": "markdown",
   "id": "2c0136b7",
   "metadata": {},
   "source": [
    "```document.querySelector(\"body header span\").style.color = \"green\"```  \n",
    "*_Altera a cor do texto do span, filho de um header que por sua vez é filho do body, conforme seletores CSS._*  "
   ]
  },
  {
   "cell_type": "markdown",
   "id": "65df2b99",
   "metadata": {},
   "source": [
    "```var variavel = document.querySelector(\"p\")```  \n",
    "*_Armazena na variavel o conteúdo HTML do primeiro paragrafo da página._*  "
   ]
  },
  {
   "cell_type": "markdown",
   "id": "2ad2f672",
   "metadata": {},
   "source": [
    "```variavel.style.color = \"blue\"```  \n",
    "*_Altera a cor do conteúdo da variavel._*  "
   ]
  },
  {
   "cell_type": "markdown",
   "id": "15903f63",
   "metadata": {},
   "source": [
    "<br>"
   ]
  },
  {
   "cell_type": "markdown",
   "id": "fdc0a7c5",
   "metadata": {},
   "source": [
    "### querySelectorAll"
   ]
  },
  {
   "cell_type": "markdown",
   "id": "a6ad3c68",
   "metadata": {},
   "source": [
    "```document.querySelectorAll(\"p\")```  \n",
    "*_Retorna um array com todas as ocorrências do seletor CSS passado._*  "
   ]
  },
  {
   "cell_type": "markdown",
   "id": "2ecb37db",
   "metadata": {},
   "source": [
    "```document.querySelectorAll(\"span\")[1].innerHTML = \"<div>ok</div>\"```  \n",
    "*_Conteúdo HTML da segunda span foi alterado neste exemplo._*"
   ]
  },
  {
   "cell_type": "markdown",
   "id": "1fafb5d8",
   "metadata": {},
   "source": [
    "```var variavel = document.querySelectorAll(\"p\")```  \n",
    "*_Armazena uma lista node, com todos os paragrafos da página._*  "
   ]
  },
  {
   "cell_type": "markdown",
   "id": "cf4add65",
   "metadata": {},
   "source": [
    "```variavel[0].innerText = \"alterado!\"```  \n",
    "*_O conteúdo de texto do primeiro item da lista foi alterado_*  "
   ]
  },
  {
   "cell_type": "markdown",
   "id": "b7a1d8a6",
   "metadata": {},
   "source": [
    "<br>"
   ]
  },
  {
   "cell_type": "markdown",
   "id": "2cf68228",
   "metadata": {},
   "source": [
    "<h1 style=\"text-align: center;\">DOM Navegação</h1>"
   ]
  },
  {
   "cell_type": "markdown",
   "id": "985cf71d",
   "metadata": {},
   "source": [
    "<br>"
   ]
  },
  {
   "cell_type": "markdown",
   "id": "c585eceb",
   "metadata": {},
   "source": [
    "```parentNode```  \n",
    "*_Retorna o nó pai._*  "
   ]
  },
  {
   "cell_type": "markdown",
   "id": "2e127deb",
   "metadata": {},
   "source": [
    "```parentElement```  \n",
    "*_Retorna o elemento pai._*  "
   ]
  },
  {
   "cell_type": "markdown",
   "id": "44589e5d",
   "metadata": {},
   "source": [
    "```childNodes```  \n",
    "*_Retorna um NodeList com todos os nós filhos._*  "
   ]
  },
  {
   "cell_type": "markdown",
   "id": "7b1b25a6",
   "metadata": {},
   "source": [
    "```children```  \n",
    "*_Retorna um HTMLCollection com todos os elementos filhos._*  "
   ]
  },
  {
   "cell_type": "markdown",
   "id": "8cd96878",
   "metadata": {},
   "source": [
    "```firstChild```  \n",
    "*_Retorna o primeiro nó filho._*  "
   ]
  },
  {
   "cell_type": "markdown",
   "id": "bd483e16",
   "metadata": {},
   "source": [
    "```firstElementChild```  \n",
    "*_Retorna o primeiro elemento filho._*  "
   ]
  },
  {
   "cell_type": "markdown",
   "id": "450a8816",
   "metadata": {},
   "source": [
    "```lastChild```  \n",
    "*_Retorna o último nó filho._*  "
   ]
  },
  {
   "cell_type": "markdown",
   "id": "5eeab2e4",
   "metadata": {},
   "source": [
    "```lastElementChild```  \n",
    "*_Retorna o último elemento filho._*  "
   ]
  },
  {
   "cell_type": "markdown",
   "id": "d6c24e8c",
   "metadata": {},
   "source": [
    "```nextSibling```  \n",
    "*_Retorna o próximo nó._*  "
   ]
  },
  {
   "cell_type": "markdown",
   "id": "eef91f19",
   "metadata": {},
   "source": [
    "```nextElementSibling```  \n",
    "*_Retorna o próximo elemento._*  "
   ]
  },
  {
   "cell_type": "markdown",
   "id": "6ea666e8",
   "metadata": {},
   "source": [
    "```previousSibling```  \n",
    "*_retorna o nó anterior._*  "
   ]
  },
  {
   "cell_type": "markdown",
   "id": "3e822ad2",
   "metadata": {},
   "source": [
    "```previousElementSibling```  \n",
    "*_Retorna o elemento anterior._*  "
   ]
  },
  {
   "cell_type": "markdown",
   "id": "b3564b13",
   "metadata": {},
   "source": [
    "<br>"
   ]
  },
  {
   "cell_type": "markdown",
   "id": "c50f14d8",
   "metadata": {},
   "source": [
    "<br>"
   ]
  }
 ],
 "metadata": {
  "kernelspec": {
   "display_name": "JavaScript (Node.js)",
   "language": "javascript",
   "name": "javascript"
  },
  "language_info": {
   "file_extension": ".js",
   "mimetype": "application/javascript",
   "name": "javascript",
   "version": "14.18.1"
  }
 },
 "nbformat": 4,
 "nbformat_minor": 5
}
