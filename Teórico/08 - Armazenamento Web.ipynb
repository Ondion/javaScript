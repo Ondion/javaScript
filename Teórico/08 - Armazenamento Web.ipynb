{
 "cells": [
  {
   "cell_type": "markdown",
   "id": "25d20719",
   "metadata": {},
   "source": [
    "<h1 style=\"text-align: center;\">Cookies</h1>"
   ]
  },
  {
   "cell_type": "markdown",
   "id": "a07f32fd",
   "metadata": {},
   "source": [
    "```document.cookie```  \n",
    "*_X, ao ler um cookie com mais de uma chave/valor, os mesmos serão separados por \";\" ponto-virgula_*  "
   ]
  },
  {
   "cell_type": "markdown",
   "id": "0d44b90a",
   "metadata": {},
   "source": [
    "```var variavel = document.cookie```   \n",
    "*_Atribui a uma variavel  "
   ]
  },
  {
   "cell_type": "markdown",
   "id": "4b6dda9b",
   "metadata": {},
   "source": [
    "```document.cookie = \"chave=valor\"```  \n",
    "*_X_*  "
   ]
  },
  {
   "cell_type": "markdown",
   "id": "d14873ea",
   "metadata": {},
   "source": [
    "```document.cookie = \"chave=valorAlterado\"```  \n",
    "*_Altera um valor contido numa chave ao chamar essa chave novamente no document.cookie_*  "
   ]
  },
  {
   "cell_type": "markdown",
   "id": "65075fb5",
   "metadata": {},
   "source": [
    "```document.cookie = \"chave=valor; expires=Thu, 17 Dec 2020 12:00:00 UTC\"```  \n",
    "*_Xxxx, especifica a data para a expiração do cookie, evitando assim que o mesmo seja deletado ao fim da sessão._*  "
   ]
  },
  {
   "cell_type": "markdown",
   "id": "d1488592",
   "metadata": {},
   "source": [
    "```document.cookie = \"chave=valor; path=/\"```  \n",
    "*_X, especifica o caminho para o cookie._*  "
   ]
  },
  {
   "cell_type": "markdown",
   "id": "37910405",
   "metadata": {},
   "source": [
    "```document.cookie = \"chave=valor; expires=Thu, 17 Dec 1980 12:00:00 UTC\"```  \n",
    "*_Deleta o cookie ao especifica uma data já expirada._*  "
   ]
  },
  {
   "cell_type": "markdown",
   "id": "cf2301bd",
   "metadata": {},
   "source": [
    "<br>"
   ]
  },
  {
   "cell_type": "markdown",
   "id": "ad307171",
   "metadata": {},
   "source": [
    "<h1 style=\"text-align: center;\">Local Storage</h1>"
   ]
  },
  {
   "cell_type": "markdown",
   "id": "0777f41a",
   "metadata": {},
   "source": [
    "*_salva dados sem data de expiração. Os dados não serão removidos quando o browser for fechado, ficarão disponíveis enquanto não forem explicitamente removidos._*  "
   ]
  },
  {
   "cell_type": "markdown",
   "id": "648c6f7a",
   "metadata": {},
   "source": [
    "```localStorage```    \n",
    "*_X_*  "
   ]
  },
  {
   "cell_type": "markdown",
   "id": "3ee78880",
   "metadata": {},
   "source": [
    "```localStorage.setItem('chave', 'valor')```   \n",
    "*_X_*  "
   ]
  },
  {
   "cell_type": "markdown",
   "id": "3daf2123",
   "metadata": {},
   "source": [
    "```localStorage.getItem('chave')```  \n",
    "*_Retorna o valor da chave passada como parâmetro._*  "
   ]
  },
  {
   "cell_type": "markdown",
   "id": "1945f870",
   "metadata": {},
   "source": [
    "```localStorage.length```  \n",
    "*_Retorna o número de entradas armazenadas._*  "
   ]
  },
  {
   "cell_type": "markdown",
   "id": "4d210dca",
   "metadata": {},
   "source": [
    "```localStorage.removeItem('chave')```  \n",
    "*_Remove a entrada passada como parâmetro._*  "
   ]
  },
  {
   "cell_type": "markdown",
   "id": "85f7a956",
   "metadata": {},
   "source": [
    "```localStorage.clear()```  \n",
    "*_Limpa todas as entradas armazenadas._*  "
   ]
  },
  {
   "cell_type": "markdown",
   "id": "5251b176",
   "metadata": {},
   "source": [
    "<h1 style=\"text-align: center;\">Session Storage</h1>"
   ]
  },
  {
   "cell_type": "markdown",
   "id": "882fe543",
   "metadata": {},
   "source": [
    "*_salva dados apenas para a sessão atual. Os dados serão removidos quando o browser/aba for fechado._*  "
   ]
  },
  {
   "cell_type": "markdown",
   "id": "d03abda6",
   "metadata": {},
   "source": [
    "```sessionStorage```    \n",
    "*_X_*  "
   ]
  },
  {
   "cell_type": "markdown",
   "id": "1b65de5f",
   "metadata": {},
   "source": [
    "```sessionStorage.setItem('chave', 'valor')```   \n",
    "*_X_*  "
   ]
  },
  {
   "cell_type": "markdown",
   "id": "056dceb8",
   "metadata": {},
   "source": [
    "```sessionStorage.getItem('chave')```  \n",
    "*_Retorna o valor da chave passada como parâmetro._*  "
   ]
  },
  {
   "cell_type": "markdown",
   "id": "8f878f0f",
   "metadata": {},
   "source": [
    "```sessionStorage.length```  \n",
    "*_Retorna o número de entradas armazenadas._*  "
   ]
  },
  {
   "cell_type": "markdown",
   "id": "a4c6930a",
   "metadata": {},
   "source": [
    "```sessionStorage.removeItem('chave')```  \n",
    "*_Remove a entrada passada como parâmetro._*  "
   ]
  },
  {
   "cell_type": "markdown",
   "id": "7ff63e87",
   "metadata": {},
   "source": [
    "```sessionStorage.clear()```  \n",
    "*_Limpa todas as entradas armazenadas._*  "
   ]
  }
 ],
 "metadata": {
  "kernelspec": {
   "display_name": "JavaScript (Node.js)",
   "language": "javascript",
   "name": "javascript"
  },
  "language_info": {
   "file_extension": ".js",
   "mimetype": "application/javascript",
   "name": "javascript",
   "version": "14.18.1"
  }
 },
 "nbformat": 4,
 "nbformat_minor": 5
}
