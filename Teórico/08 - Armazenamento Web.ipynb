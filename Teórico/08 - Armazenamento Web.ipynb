{
 "cells": [
  {
   "cell_type": "markdown",
   "id": "07c5d1ca",
   "metadata": {},
   "source": [
    "<h1 style=\"text-align: center;\">Cookies</h1>"
   ]
  },
  {
   "cell_type": "markdown",
   "id": "4db3a2cf",
   "metadata": {},
   "source": [
    "```document.cookie```  \n",
    "*_X, ao ler um cookie com mais de uma chave/valor, os mesmos serão separados por \";\" ponto-virgula_*  "
   ]
  },
  {
   "cell_type": "markdown",
   "id": "405ea905",
   "metadata": {},
   "source": [
    "```var variavel = document.cookie```   \n",
    "*_Atribui a uma variavel  "
   ]
  },
  {
   "cell_type": "markdown",
   "id": "f8ba5b4b",
   "metadata": {},
   "source": [
    "```document.cookie = \"chave=valor\"```  \n",
    "*_X_*  "
   ]
  },
  {
   "cell_type": "markdown",
   "id": "9f7e449e",
   "metadata": {},
   "source": [
    "```document.cookie = \"chave=valorAlterado\"```  \n",
    "*_Altera um valor contido numa chave ao chamar essa chave novamente no document.cookie_*  "
   ]
  },
  {
   "cell_type": "markdown",
   "id": "c37fc6a2",
   "metadata": {},
   "source": [
    "```document.cookie = \"chave=valor; expires=Thu, 17 Dec 2020 12:00:00 UTC\"```  \n",
    "*_Xxxx, especifica a data para a expiração do cookie, evitando assim que o mesmo seja deletado ao fim da sessão._*  "
   ]
  },
  {
   "cell_type": "markdown",
   "id": "cb813c1c",
   "metadata": {},
   "source": [
    "```document.cookie = \"chave=valor; path=/\"```  \n",
    "*_X, especifica o caminho para o cookie._*  "
   ]
  },
  {
   "cell_type": "markdown",
   "id": "2e157500",
   "metadata": {},
   "source": [
    "```document.cookie = \"chave=valor; expires=Thu, 17 Dec 1980 12:00:00 UTC\"```  \n",
    "*_Deleta o cookie ao especifica uma data já expirada._*  "
   ]
  },
  {
   "cell_type": "markdown",
   "id": "c767e528",
   "metadata": {},
   "source": [
    "<br>"
   ]
  },
  {
   "cell_type": "markdown",
   "id": "962110a6",
   "metadata": {},
   "source": [
    "<h1 style=\"text-align: center;\">Local Storage</h1>"
   ]
  },
  {
   "cell_type": "markdown",
   "id": "6db0b455",
   "metadata": {},
   "source": [
    "*_salva dados sem data de expiração. Os dados não serão removidos quando o browser for fechado, ficarão disponíveis enquanto não forem explicitamente removidos._*  "
   ]
  },
  {
   "cell_type": "markdown",
   "id": "4c9bf889",
   "metadata": {},
   "source": [
    "```localStorage```    \n",
    "*_X_*  "
   ]
  },
  {
   "cell_type": "markdown",
   "id": "584b722f",
   "metadata": {},
   "source": [
    "```localStorage.setItem('chave', 'valor');``   \n",
    "*_X_*  "
   ]
  },
  {
   "cell_type": "markdown",
   "id": "2446a571",
   "metadata": {},
   "source": [
    "```X```  \n",
    "*_X_*  "
   ]
  },
  {
   "cell_type": "markdown",
   "id": "f861b848",
   "metadata": {},
   "source": [
    "```X```  \n",
    "*_X_*  "
   ]
  },
  {
   "cell_type": "markdown",
   "id": "e8ed75e3",
   "metadata": {},
   "source": [
    "```X```  \n",
    "*_X_*  "
   ]
  },
  {
   "cell_type": "markdown",
   "id": "b37c801a",
   "metadata": {},
   "source": [
    "```X```  \n",
    "*_X_*  "
   ]
  },
  {
   "cell_type": "markdown",
   "id": "6367285c",
   "metadata": {},
   "source": [
    "```X```  \n",
    "*_X_*  "
   ]
  },
  {
   "cell_type": "markdown",
   "id": "4b6b1158",
   "metadata": {},
   "source": [
    "<h1 style=\"text-align: center;\">Session Storage</h1>"
   ]
  },
  {
   "cell_type": "markdown",
   "id": "a7d6a39e",
   "metadata": {},
   "source": [
    "*_salva dados apenas para a sessão atual. Os dados serão removidos quando o browser/aba for fechado._*  "
   ]
  },
  {
   "cell_type": "markdown",
   "id": "8d1a70a5",
   "metadata": {},
   "source": [
    "```X```  \n",
    "*_X_*  "
   ]
  },
  {
   "cell_type": "markdown",
   "id": "427f18d5",
   "metadata": {},
   "source": [
    "```X```  \n",
    "*_X_*  "
   ]
  },
  {
   "cell_type": "markdown",
   "id": "d51fda93",
   "metadata": {},
   "source": [
    "```X```  \n",
    "*_X_*  "
   ]
  },
  {
   "cell_type": "markdown",
   "id": "8c172e5a",
   "metadata": {},
   "source": [
    "```X```  \n",
    "*_X_*  "
   ]
  },
  {
   "cell_type": "markdown",
   "id": "52f11efb",
   "metadata": {},
   "source": [
    "```X```  \n",
    "*_X_*  "
   ]
  },
  {
   "cell_type": "markdown",
   "id": "495a5138",
   "metadata": {},
   "source": [
    "```X```  \n",
    "*_X_*  "
   ]
  },
  {
   "cell_type": "markdown",
   "id": "f0d27799",
   "metadata": {},
   "source": [
    "```X```  \n",
    "*_X_*  "
   ]
  }
 ],
 "metadata": {
  "kernelspec": {
   "display_name": "JavaScript (Node.js)",
   "language": "javascript",
   "name": "javascript"
  },
  "language_info": {
   "file_extension": ".js",
   "mimetype": "application/javascript",
   "name": "javascript",
   "version": "14.18.1"
  }
 },
 "nbformat": 4,
 "nbformat_minor": 5
}
