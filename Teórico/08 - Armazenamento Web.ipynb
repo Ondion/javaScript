{
 "cells": [
  {
   "cell_type": "markdown",
   "id": "4cd1d3c9",
   "metadata": {},
   "source": [
    "<h1 style=\"text-align: center;\">Cookies</h1>"
   ]
  },
  {
   "cell_type": "markdown",
   "id": "339f6dfe",
   "metadata": {},
   "source": [
    "```document.cookie```  \n",
    "*_X_*  "
   ]
  },
  {
   "cell_type": "markdown",
   "id": "d058d340",
   "metadata": {},
   "source": [
    "```var variavel = document.cookie```   \n",
    "*_Atribui a uma variavel  "
   ]
  },
  {
   "cell_type": "markdown",
   "id": "9c435df6",
   "metadata": {},
   "source": [
    "```document.cookie = \"chave=valor\"```  \n",
    "*_Xxxx, por padrão é deletado ao fim da sessão._*  "
   ]
  },
  {
   "cell_type": "markdown",
   "id": "16cd15c2",
   "metadata": {},
   "source": [
    "```document.cookie = \"chave= valor; expires=Thu, 17 Dec 2020 12:00:00 UTC\"```  \n",
    "*_Xxxx, especifica a data para a expiração do cookie, evitando assim que o mesmo seja deletado ao fim da sessão._*  "
   ]
  },
  {
   "cell_type": "markdown",
   "id": "259dee6d",
   "metadata": {},
   "source": [
    "```document.cookie = \"chave = valor; path=/\"```  \n",
    "*_X, especifica o caminho para o cookie._*  "
   ]
  },
  {
   "cell_type": "markdown",
   "id": "2cbedfd6",
   "metadata": {},
   "source": []
  },
  {
   "cell_type": "markdown",
   "id": "4187dd9e",
   "metadata": {},
   "source": []
  },
  {
   "cell_type": "markdown",
   "id": "9dc89fca",
   "metadata": {},
   "source": []
  },
  {
   "cell_type": "markdown",
   "id": "db139585",
   "metadata": {},
   "source": []
  }
 ],
 "metadata": {
  "kernelspec": {
   "display_name": "JavaScript (Node.js)",
   "language": "javascript",
   "name": "javascript"
  },
  "language_info": {
   "file_extension": ".js",
   "mimetype": "application/javascript",
   "name": "javascript",
   "version": "14.18.1"
  }
 },
 "nbformat": 4,
 "nbformat_minor": 5
}
