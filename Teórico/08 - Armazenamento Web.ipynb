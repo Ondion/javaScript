{
 "cells": [
  {
   "cell_type": "markdown",
   "id": "a0712563",
   "metadata": {},
   "source": [
    "<h1 style=\"text-align: center;\">Cookies</h1>"
   ]
  },
  {
   "cell_type": "markdown",
   "id": "81edf0cd",
   "metadata": {},
   "source": [
    "```document.cookie```  \n",
    "*_X, ao ler um cookie com mais de uma chave/valor, os mesmos serão separados por \";\" ponto-virgula_*  "
   ]
  },
  {
   "cell_type": "markdown",
   "id": "9e0a3567",
   "metadata": {},
   "source": [
    "```var variavel = document.cookie```   \n",
    "*_Atribui a uma variavel  "
   ]
  },
  {
   "cell_type": "markdown",
   "id": "1bb5c7b7",
   "metadata": {},
   "source": [
    "```document.cookie = \"chave=valor\"```  \n",
    "*_X_*  "
   ]
  },
  {
   "cell_type": "markdown",
   "id": "fb465e57",
   "metadata": {},
   "source": [
    "```document.cookie = \"chave=valorAlterado\"```  \n",
    "*_Altera um valor contido numa chave ao chamar essa chave novamente no document.cookie_*  "
   ]
  },
  {
   "cell_type": "markdown",
   "id": "efd5db99",
   "metadata": {},
   "source": [
    "```document.cookie = \"chave=valor; expires=Thu, 17 Dec 2020 12:00:00 UTC\"```  \n",
    "*_Xxxx, especifica a data para a expiração do cookie, evitando assim que o mesmo seja deletado ao fim da sessão._*  "
   ]
  },
  {
   "cell_type": "markdown",
   "id": "d40cd3d3",
   "metadata": {},
   "source": [
    "```document.cookie = \"chave=valor; path=/\"```  \n",
    "*_X, especifica o caminho para o cookie._*  "
   ]
  },
  {
   "cell_type": "markdown",
   "id": "b726b756",
   "metadata": {},
   "source": [
    "```document.cookie = \"chave=valor; expires=Thu, 17 Dec 1980 12:00:00 UTC\"```  \n",
    "*_Deleta o cookie ao especifica uma data já expirada._*  "
   ]
  },
  {
   "cell_type": "markdown",
   "id": "00db75a4",
   "metadata": {},
   "source": [
    "<br>"
   ]
  },
  {
   "cell_type": "markdown",
   "id": "066e464f",
   "metadata": {},
   "source": [
    "<h1 style=\"text-align: center;\">Session Storage</h1>"
   ]
  },
  {
   "cell_type": "markdown",
   "id": "7314a0f6",
   "metadata": {},
   "source": []
  },
  {
   "cell_type": "markdown",
   "id": "cc178751",
   "metadata": {},
   "source": []
  },
  {
   "cell_type": "markdown",
   "id": "6bc212e0",
   "metadata": {},
   "source": [
    "<h1 style=\"text-align: center;\">Local e Session Storage</h1>"
   ]
  },
  {
   "cell_type": "markdown",
   "id": "2d5fb235",
   "metadata": {},
   "source": []
  },
  {
   "cell_type": "markdown",
   "id": "62bde5fa",
   "metadata": {},
   "source": []
  }
 ],
 "metadata": {
  "kernelspec": {
   "display_name": "JavaScript (Node.js)",
   "language": "javascript",
   "name": "javascript"
  },
  "language_info": {
   "file_extension": ".js",
   "mimetype": "application/javascript",
   "name": "javascript",
   "version": "14.18.1"
  }
 },
 "nbformat": 4,
 "nbformat_minor": 5
}
