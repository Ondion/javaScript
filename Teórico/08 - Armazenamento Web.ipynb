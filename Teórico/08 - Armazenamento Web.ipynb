{
 "cells": [
  {
   "cell_type": "markdown",
   "id": "4b3441b2",
   "metadata": {},
   "source": [
    "<h1 style=\"text-align: center;\">Cookies</h1>"
   ]
  },
  {
   "cell_type": "markdown",
   "id": "f5b0a450",
   "metadata": {},
   "source": [
    "```document.cookie```  \n",
    "*_X_*"
   ]
  },
  {
   "cell_type": "markdown",
   "id": "79749829",
   "metadata": {},
   "source": [
    "```document.cookie"
   ]
  },
  {
   "cell_type": "markdown",
   "id": "82deb200",
   "metadata": {},
   "source": []
  },
  {
   "cell_type": "markdown",
   "id": "6750d4b1",
   "metadata": {},
   "source": []
  },
  {
   "cell_type": "markdown",
   "id": "7715672b",
   "metadata": {},
   "source": []
  },
  {
   "cell_type": "markdown",
   "id": "ae2e7efe",
   "metadata": {},
   "source": []
  },
  {
   "cell_type": "markdown",
   "id": "ac0ebd3b",
   "metadata": {},
   "source": []
  },
  {
   "cell_type": "code",
   "execution_count": null,
   "id": "f7bfaaf1",
   "metadata": {},
   "outputs": [],
   "source": []
  }
 ],
 "metadata": {
  "kernelspec": {
   "display_name": "JavaScript (Node.js)",
   "language": "javascript",
   "name": "javascript"
  },
  "language_info": {
   "file_extension": ".js",
   "mimetype": "application/javascript",
   "name": "javascript",
   "version": "14.18.1"
  }
 },
 "nbformat": 4,
 "nbformat_minor": 5
}
