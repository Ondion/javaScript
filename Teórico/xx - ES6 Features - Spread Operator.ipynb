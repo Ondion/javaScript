{
 "cells": [
  {
   "cell_type": "markdown",
   "metadata": {},
   "source": [
    "# ES6 Features - Spread Operator\n",
    "<hr>"
   ]
  },
  {
   "cell_type": "markdown",
   "metadata": {},
   "source": [
    "*_Algumas das features introduzidas na atualização ES6 do JavaScript._*  \n",
    "<br>"
   ]
  },
  {
   "cell_type": "markdown",
   "metadata": {},
   "source": [
    "**Spread Operador p/ Arrays**  \n",
    "*_Essa operação retorna um novo array que é a junção dos valores passados, na mesma ordem._*  \n",
    "**Exemplo:**  "
   ]
  },
  {
   "cell_type": "code",
   "execution_count": 1,
   "metadata": {},
   "outputs": [
    {
     "name": "stdout",
     "output_type": "stream",
     "text": [
      "[ 'valor1', 'valor2', 'valor3', 'prop1', 'prop2', 'prop3' ]\n"
     ]
    }
   ],
   "source": [
    "const array = [\"valor1\", \"valor2\", \"valor3\"];\n",
    "const prop = [\"prop1\", \"prop2\", \"prop3\"];\n",
    "\n",
    "const arrayProp = [...array, ...prop];\n",
    "\n",
    "console.log(arrayProp)"
   ]
  },
  {
   "cell_type": "code",
   "execution_count": 2,
   "metadata": {},
   "outputs": [
    {
     "name": "stdout",
     "output_type": "stream",
     "text": [
      "[\n",
      "  'novo valor!',\n",
      "  'prop1',\n",
      "  'prop2',\n",
      "  'prop3',\n",
      "  'valor1',\n",
      "  'valor2',\n",
      "  'valor3'\n",
      "]\n"
     ]
    }
   ],
   "source": [
    "// Também é possivel adicionar outros valores na operação.\n",
    "\n",
    "const arrayProp2 = [\"novo valor!\", ...prop, ...array]\n",
    "\n",
    "console.log(arrayProp2)"
   ]
  },
  {
   "cell_type": "markdown",
   "metadata": {},
   "source": [
    "**Spread Operador p/ Objetos**  \n",
    "*_Essa operação retorna um novo objeto que é a junção dos valores passados, na mesma ordem._*  \n",
    "**Exemplo:**  "
   ]
  },
  {
   "cell_type": "code",
   "execution_count": 3,
   "metadata": {
    "scrolled": true
   },
   "outputs": [
    {
     "name": "stdout",
     "output_type": "stream",
     "text": [
      "{\n",
      "  valor1: 1,\n",
      "  valor2: 2,\n",
      "  valor3: 3,\n",
      "  prop1: 1,\n",
      "  prop2: 2,\n",
      "  prop3: 3,\n",
      "  outroValor: 'Valor!'\n",
      "}\n"
     ]
    }
   ],
   "source": [
    "const obj = {\n",
    "    valor1: 1,\n",
    "    valor2: 2,\n",
    "    valor3: 3,\n",
    "};\n",
    "const eto = {\n",
    "    prop1: 1,\n",
    "    prop2: 2,\n",
    "    prop3: 3,\n",
    "};\n",
    "\n",
    "const objEto = {\n",
    "    ...obj,\n",
    "    ...eto,\n",
    "    outroValor: \"Valor!\", // Assim como o spread de arrays, é possivel adicionar um novo valor ao novo objeto.\n",
    "};\n",
    "\n",
    "console.log(objEto)"
   ]
  },
  {
   "cell_type": "markdown",
   "metadata": {},
   "source": [
    "### Exemplos de uso de Spreads:  "
   ]
  },
  {
   "cell_type": "code",
   "execution_count": 2,
   "metadata": {},
   "outputs": [
    {
     "name": "stdout",
     "output_type": "stream",
     "text": [
      "Fulando Beltrano de Sicrano\n"
     ]
    }
   ],
   "source": [
    "// Passar valores de um array em uma função.\n",
    "\n",
    "const nomeCompleto = (nome, sobrenome) => nome + \" \" + sobrenome;\n",
    "const pessoa = [\"Fulando\", \"Beltrano de Sicrano\"];\n",
    "\n",
    "console.log(nomeCompleto(...pessoa));"
   ]
  },
  {
   "cell_type": "code",
   "execution_count": 3,
   "metadata": {},
   "outputs": [
    {
     "name": "stdout",
     "output_type": "stream",
     "text": [
      "[\n",
      "  'JAN', 'FEV', 'MAR',\n",
      "  'ABR', 'MAI', 'JUN',\n",
      "  'JUL', 'AGO', 'SET',\n",
      "  'OUT', 'NOV', 'DEZ'\n",
      "]\n"
     ]
    }
   ],
   "source": [
    "// Juntar grupos relevantes.\n",
    "\n",
    "const spring = ['OUT', 'NOV', 'DEZ'];\n",
    "const summer = ['JAN', 'FEV', 'MAR'];\n",
    "const fall = ['ABR', 'MAI', 'JUN'];\n",
    "const winter = ['JUL', 'AGO', 'SET'];\n",
    "\n",
    "const months = [...summer, ...fall, ...winter, ...spring];\n",
    "console.log(months);"
   ]
  },
  {
   "cell_type": "code",
   "execution_count": null,
   "metadata": {},
   "outputs": [],
   "source": []
  }
 ],
 "metadata": {
  "kernelspec": {
   "display_name": "JavaScript (Node.js)",
   "language": "javascript",
   "name": "javascript"
  },
  "language_info": {
   "file_extension": ".js",
   "mimetype": "application/javascript",
   "name": "javascript",
   "version": "14.18.3"
  }
 },
 "nbformat": 4,
 "nbformat_minor": 4
}
