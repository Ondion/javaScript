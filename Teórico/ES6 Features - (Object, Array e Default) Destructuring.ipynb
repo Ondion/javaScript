{
 "cells": [
  {
   "cell_type": "markdown",
   "metadata": {},
   "source": [
    "# ES6 Features - (Object, Array e Default) Destructuring\n",
    "<hr>"
   ]
  },
  {
   "cell_type": "markdown",
   "metadata": {},
   "source": [
    "*_Algumas das features introduzidas na atualização ES6 do JavaScript._*  \n",
    "*_O **Object Destructuring**, retorna valores de objetos de uma forma mais simplificada e facil de escalonar._*  \n",
    "<br>"
   ]
  },
  {
   "cell_type": "code",
   "execution_count": 1,
   "metadata": {},
   "outputs": [
    {
     "name": "stdout",
     "output_type": "stream",
     "text": [
      "Recuperando um valor do objeto: string\n",
      "Recuperando mais de um valor do objeto: 2 null true undefined\n"
     ]
    }
   ],
   "source": [
    "const exemploObjDes = {\n",
    "    valor1: \"string\",\n",
    "    valor2: 2,\n",
    "    valor3: null,\n",
    "    valor4: true,\n",
    "    valor5: undefined,\n",
    "};\n",
    "      \n",
    "const {valor1} = exemploObjDes; // Recuperando um valor do objeto.\n",
    "console.log('Recuperando um valor do objeto:', valor1)\n",
    "\n",
    "const {valor2, valor3, valor4, valor5} = exemploObjDes; // Recuperando mais de um valor do objeto.\n",
    "console.log('Recuperando mais de um valor do objeto:',valor2, valor3, valor4, valor5)"
   ]
  },
  {
   "cell_type": "markdown",
   "metadata": {},
   "source": [
    "<br>"
   ]
  },
  {
   "cell_type": "markdown",
   "metadata": {},
   "source": [
    "    \n",
    "**Usando o Object Destructuring em uma chave de objeto que contem outro objeto como valor.**"
   ]
  },
  {
   "cell_type": "code",
   "execution_count": 1,
   "metadata": {},
   "outputs": [
    {
     "name": "stdout",
     "output_type": "stream",
     "text": [
      "Variáveis: Luke SkyWalker, 53, Tatooine, true\n"
     ]
    }
   ],
   "source": [
    "const character = {\n",
    "  name: 'Luke SkyWalker',\n",
    "  age: '53',\n",
    "  description: {\n",
    "    specieName: 'Human',\n",
    "    jedi: true,\n",
    "  },\n",
    "  homeWorld: {\n",
    "    name: 'Tatooine',\n",
    "    population: '200000',\n",
    "  },\n",
    "};\n",
    "\n",
    "const { name, age, homeWorld: { name: planetName }, description: { jedi } } = character;\n",
    "\n",
    "console.log(`Variáveis: ${name}, ${age}, ${planetName}, ${jedi}`);"
   ]
  },
  {
   "cell_type": "markdown",
   "metadata": {},
   "source": [
    "<br>"
   ]
  },
  {
   "cell_type": "markdown",
   "metadata": {},
   "source": [
    "**Object Destructuring em conjundo com Spread Operator.**"
   ]
  },
  {
   "cell_type": "code",
   "execution_count": 1,
   "metadata": {
    "scrolled": false
   },
   "outputs": [
    {
     "name": "stdout",
     "output_type": "stream",
     "text": [
      "[ 'Monday', 'Tuesday', 'Wednesday', 'Thursday', 'Friday' ]\n",
      "[ 'Saturday', 'Sunday' ]\n",
      "[\n",
      "  'Monday',\n",
      "  'Tuesday',\n",
      "  'Wednesday',\n",
      "  'Thursday',\n",
      "  'Friday',\n",
      "  'Saturday',\n",
      "  'Sunday'\n",
      "]\n"
     ]
    }
   ],
   "source": [
    "const daysOfWeek = {\n",
    "  workDays: ['Monday', 'Tuesday', 'Wednesday', 'Thursday', 'Friday'],\n",
    "  weekend: ['Saturday', 'Sunday'],\n",
    "};\n",
    "\n",
    "const { workDays, weekend } = daysOfWeek;\n",
    "console.log(workDays);\n",
    "console.log(weekend);\n",
    "\n",
    "const weekdays = [...workDays, ...weekend]; // Juntando tudo!\n",
    "console.log(weekdays);"
   ]
  },
  {
   "cell_type": "markdown",
   "metadata": {},
   "source": [
    "<br>"
   ]
  },
  {
   "cell_type": "markdown",
   "metadata": {},
   "source": [
    "**É possivel nomear a variável que irar receber o valor do objeto.**"
   ]
  },
  {
   "cell_type": "code",
   "execution_count": 1,
   "metadata": {},
   "outputs": [
    {
     "name": "stdout",
     "output_type": "stream",
     "text": [
      "{ a: 'Maria', b: 'Turma B', c: 'Matematica' }\n",
      "Maria Turma B Matematica\n"
     ]
    }
   ],
   "source": [
    "const student = {\n",
    "  a: 'Maria',\n",
    "  b: 'Turma B',\n",
    "  c: 'Matematica',\n",
    "};\n",
    "\n",
    "const { a: name, b: classAssigned, c: subject } = student;\n",
    "\n",
    "console.log(student);\n",
    "console.log(name, classAssigned, subject);"
   ]
  },
  {
   "cell_type": "markdown",
   "metadata": {},
   "source": [
    "<br>"
   ]
  },
  {
   "cell_type": "markdown",
   "metadata": {},
   "source": [
    "**Passando valores para uma função por meio de Object Destructuring**"
   ]
  },
  {
   "cell_type": "code",
   "execution_count": 1,
   "metadata": {
    "scrolled": true
   },
   "outputs": [
    {
     "name": "stdout",
     "output_type": "stream",
     "text": [
      "Esses parâmetros foram passados via Object Destructuring\n"
     ]
    }
   ],
   "source": [
    "const teste = {\n",
    "    valor1: \"Esses parâmetros\",\n",
    "    valor2: \"foram passados\",\n",
    "    valor3: \"via Object Destructuring\",\n",
    "};\n",
    "\n",
    "const função = ({ valor1, valor2, valor3 }) => console.log(valor1, valor2, valor3);\n",
    "\n",
    "função (teste)"
   ]
  },
  {
   "cell_type": "markdown",
   "metadata": {},
   "source": [
    "<br>"
   ]
  },
  {
   "cell_type": "markdown",
   "metadata": {},
   "source": [
    "### Usando o O.D. em arrays.  \n",
    "<hr>\n"
   ]
  },
  {
   "cell_type": "code",
   "execution_count": 1,
   "metadata": {},
   "outputs": [
    {
     "name": "stdout",
     "output_type": "stream",
     "text": [
      "Esses parâmetros foram passados via Object Destructuring\n"
     ]
    }
   ],
   "source": [
    "const teste = [\"Esses parâmetros\", \"foram passados\", \"via Object Destructuring\"];\n",
    "\n",
    "const função = ([valor1, valor2, valor3]) => console.log(valor1, valor2, valor3);\n",
    "\n",
    "função (teste)"
   ]
  },
  {
   "cell_type": "markdown",
   "metadata": {},
   "source": [
    "**Como foi exemplificado, o O.D. funciona exatamente igual em arrays.**"
   ]
  },
  {
   "cell_type": "code",
   "execution_count": 2,
   "metadata": {},
   "outputs": [
    {
     "name": "stdout",
     "output_type": "stream",
     "text": [
      "Brazil\n",
      "Japan\n",
      "China\n",
      "Canada\n"
     ]
    }
   ],
   "source": [
    "const arrayCountries = ['Brazil', 'Japan', 'China', 'Canada'];\n",
    "const [firstCountry, secondCountry, thirdCountry, fourthCountry] = arrayCountries;\n",
    "\n",
    "console.log(firstCountry);\n",
    "console.log(secondCountry);\n",
    "console.log(thirdCountry);\n",
    "console.log(fourthCountry);"
   ]
  },
  {
   "cell_type": "markdown",
   "metadata": {},
   "source": [
    "### Default Destructuring.  \n",
    "<hr>\n"
   ]
  },
  {
   "cell_type": "markdown",
   "metadata": {},
   "source": [
    "*_O Default Destructuring nos permite adicionar um valor novo a um objeto ou array._*   "
   ]
  },
  {
   "cell_type": "code",
   "execution_count": 1,
   "metadata": {},
   "outputs": [
    {
     "name": "stdout",
     "output_type": "stream",
     "text": [
      "Brazilian\n"
     ]
    }
   ],
   "source": [
    "const person = {\n",
    "  name: 'João',\n",
    "  lastName: 'Jr',\n",
    "  age: 34,\n",
    "};\n",
    "\n",
    "const { nationality = 'Brazilian' } = person;\n",
    "console.log(nationality);"
   ]
  },
  {
   "cell_type": "code",
   "execution_count": 1,
   "metadata": {},
   "outputs": [
    {
     "name": "stdout",
     "output_type": "stream",
     "text": [
      "1 4\n"
     ]
    }
   ],
   "source": [
    "const array = [1, 2, 3];\n",
    "const [valor1, valor2, valor3, valor4 = 4] = array;\n",
    "\n",
    "console.log(valor1, valor4);"
   ]
  },
  {
   "cell_type": "markdown",
   "metadata": {},
   "source": [
    "**Adicionar parâmetro em função**"
   ]
  },
  {
   "cell_type": "code",
   "execution_count": 2,
   "metadata": {},
   "outputs": [
    {
     "name": "stdout",
     "output_type": "stream",
     "text": [
      "Ivan is Russian\n",
      "João is Brazilian\n"
     ]
    }
   ],
   "source": [
    "const person = {\n",
    "  firstName: 'João',\n",
    "  lastName: 'Jr II',\n",
    "};\n",
    "\n",
    "const { nationality = 'Brazilian' } = person;\n",
    "\n",
    "const otherPerson = {\n",
    "  firstName: 'Ivan',\n",
    "  lastName: 'Ivanovich',\n",
    "  nationality: 'Russian',\n",
    "};\n",
    "\n",
    "const getNationality = ({ firstName, nationality = \"Brazilian\" }) => `${firstName} is ${nationality}`;\n",
    "\n",
    "console.log(getNationality(otherPerson));\n",
    "console.log(getNationality(person));"
   ]
  }
 ],
 "metadata": {
  "kernelspec": {
   "display_name": "JavaScript (Node.js)",
   "language": "javascript",
   "name": "javascript"
  },
  "language_info": {
   "file_extension": ".js",
   "mimetype": "application/javascript",
   "name": "javascript",
   "version": "14.18.3"
  }
 },
 "nbformat": 4,
 "nbformat_minor": 4
}
