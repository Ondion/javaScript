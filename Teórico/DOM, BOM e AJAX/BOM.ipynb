{
 "cells": [
  {
   "cell_type": "markdown",
   "metadata": {},
   "source": [
    "<h1 style=\"text-align: center;\">DOM Seletores</h1>\n",
    "<hr>"
   ]
  },
  {
   "cell_type": "markdown",
   "metadata": {},
   "source": [
    "*_**DOM** Significa Document Object Model"
   ]
  },
  {
   "cell_type": "markdown",
   "metadata": {},
   "source": [
    "### getElementById"
   ]
  },
  {
   "cell_type": "markdown",
   "metadata": {},
   "source": [
    "```document.getElementById(\"ID\")```  \n",
    " *_Retorna o elemento HTML que contenha a ID passada. Por se tratar de uma ID sempre será apenas um retorno em HTML._*"
   ]
  },
  {
   "cell_type": "markdown",
   "metadata": {},
   "source": [
    "```document.getElementById(\"ID\").innerHTML = <div>alterado!</div>```  \n",
    "*_Conteúdo HTML é alterado diretamente pelo document_*"
   ]
  },
  {
   "cell_type": "markdown",
   "metadata": {},
   "source": [
    "```var variavel = document.getElementById(\"ID\")```  \n",
    "*_Neste caso o retorno do método é passado para a variavel_*"
   ]
  },
  {
   "cell_type": "markdown",
   "metadata": {},
   "source": [
    "```variavel.innerHTML = <div>alterado</div>```  \n",
    "*_Alterando o conteúdo HTML por variavel_*"
   ]
  },
  {
   "cell_type": "markdown",
   "metadata": {},
   "source": [
    "<br>"
   ]
  },
  {
   "cell_type": "markdown",
   "metadata": {},
   "source": [
    "### getElementsByClassName  "
   ]
  },
  {
   "cell_type": "markdown",
   "metadata": {},
   "source": [
    "```document.getElementsByClassName(\"class\")```  \n",
    "*_Retorna uma HTMLCollection, que é uma lista com todos os valores da classe passada. Mesmo que exista apenas uma ocorrência para a classe, o retorno sempre será uma lista._*  "
   ]
  },
  {
   "cell_type": "markdown",
   "metadata": {},
   "source": [
    "```document.getElementsByClassName(\"class\")[0].innerText = \"alterado!\"```  \n",
    "*_O conteúdo de texto da primeira chamada dessa classe foi alterado_*  "
   ]
  },
  {
   "cell_type": "markdown",
   "metadata": {},
   "source": [
    "```var variavel = document.getElementsByClassName(\"class\")```  \n",
    "*_Armazena a lista HTML na variavel_*  "
   ]
  },
  {
   "cell_type": "markdown",
   "metadata": {},
   "source": [
    "```variavel[0].innerText = \"alterado!\"```  \n",
    "*_O conteúdo de texto do primeiro item da lista foi alterado_*  "
   ]
  },
  {
   "cell_type": "markdown",
   "metadata": {},
   "source": [
    "<br>"
   ]
  },
  {
   "cell_type": "markdown",
   "metadata": {},
   "source": [
    "### getElementsByTagName  "
   ]
  },
  {
   "cell_type": "markdown",
   "metadata": {},
   "source": [
    "```document.getElementsByTagName(\"div\")```  \n",
    "*_Retorna uma lista HTMLCollection com todas as ocorrências da TAG HTML passada. Esse retorno sempre será uma lista, mesmo que exista apenas um elemento._*  "
   ]
  },
  {
   "cell_type": "markdown",
   "metadata": {},
   "source": [
    "```document.getElementsByTagName(\"div\")[0].innerText = \"alterado!\"```  \n",
    "*_O conteúdo de texto da primeira chamada 'div' foi alterado_*  "
   ]
  },
  {
   "cell_type": "markdown",
   "metadata": {},
   "source": [
    "```var variavel = document.getElementsByTagName(\"div\")```  \n",
    "*_Armazena a lista HTML na variavel_*  "
   ]
  },
  {
   "cell_type": "markdown",
   "metadata": {},
   "source": [
    "```variavel[0].innerText = \"alterado!\"```  \n",
    "*_O conteúdo de texto do primeiro item da lista foi alterado_*  "
   ]
  },
  {
   "cell_type": "markdown",
   "metadata": {},
   "source": [
    "<br>"
   ]
  },
  {
   "cell_type": "markdown",
   "metadata": {},
   "source": [
    "### querySelector  "
   ]
  },
  {
   "cell_type": "markdown",
   "metadata": {},
   "source": []
  },
  {
   "cell_type": "markdown",
   "metadata": {},
   "source": [
    "### querySelectorAll  "
   ]
  },
  {
   "cell_type": "markdown",
   "metadata": {},
   "source": [
    "```document.querySelector(\".class\")```  \n",
    "*_Retorna a primeira ocorrência da classe passada. O querySelector tem uma abrangência muito maior do que os getElements, então é necessário passar a classe ou o ID conforme é usado em seletores CSS._*  \n",
    "```document.querySelector(\"#ID\")```  \n",
    "*_Neste segundo exemplo, estamos recebendo o conteúdo HTML do 'ID' passado como parâmetro._*  \n",
    "```document.querySelector(\"p\")```  \n",
    "*_Retorna o conteúdo HTML do primeiro paragrafo da página._*  "
   ]
  }
 ],
 "metadata": {
  "kernelspec": {
   "display_name": "JavaScript (Node.js)",
   "language": "javascript",
   "name": "javascript"
  },
  "language_info": {
   "file_extension": ".js",
   "mimetype": "application/javascript",
   "name": "javascript",
   "version": "14.18.3"
  }
 },
 "nbformat": 4,
 "nbformat_minor": 5
}
