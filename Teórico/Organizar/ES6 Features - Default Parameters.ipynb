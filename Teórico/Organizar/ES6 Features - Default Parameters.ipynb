{
 "cells": [
  {
   "cell_type": "markdown",
   "metadata": {},
   "source": [
    "# ES6 Features - Default Parameters.\n",
    "<hr>"
   ]
  },
  {
   "cell_type": "markdown",
   "metadata": {},
   "source": [
    "*_Algumas das features introduzidas na atualização ES6 do JavaScript._*  \n",
    "*_Podemos passar um parâmetro como padrão para uma função, caso em sua chamada nenhum parâmetro tenha sido passado._*  \n",
    "<br>"
   ]
  },
  {
   "cell_type": "code",
   "execution_count": 2,
   "metadata": {},
   "outputs": [
    {
     "name": "stdout",
     "output_type": "stream",
     "text": [
      "{ valor1: 'valores', valor2: 'da', valor3: 'shorthand' }\n"
     ]
    }
   ],
   "source": [
    "function shorthandComDefault (valor1 = \"valores\", valor2 = \"da\", valor3 = \"shorthand\") {\n",
    "    return {\n",
    "        valor1,\n",
    "        valor2,\n",
    "        valor3,\n",
    "    }\n",
    "}\n",
    "\n",
    "console.log(shorthandComDefault());"
   ]
  },
  {
   "cell_type": "code",
   "execution_count": 4,
   "metadata": {},
   "outputs": [
    {
     "name": "stdout",
     "output_type": "stream",
     "text": [
      "função com valor de default, nenhum valor foi passado.\n",
      "função com valor default, porém, agora algum valor foi passado!\n"
     ]
    }
   ],
   "source": [
    "function passeiNada (parametro = \"função com valor de default, nenhum valor foi passado.\") {\n",
    "    console.log(parametro);\n",
    "};\n",
    "\n",
    "passeiNada()\n",
    "passeiNada(\"função com valor default, porém, agora algum valor foi passado!\")"
   ]
  }
 ],
 "metadata": {
  "kernelspec": {
   "display_name": "JavaScript (Node.js)",
   "language": "javascript",
   "name": "javascript"
  },
  "language_info": {
   "file_extension": ".js",
   "mimetype": "application/javascript",
   "name": "javascript",
   "version": "14.18.3"
  }
 },
 "nbformat": 4,
 "nbformat_minor": 4
}
