{
 "cells": [
  {
   "cell_type": "markdown",
   "metadata": {},
   "source": [
    "**Arrays** são um tipo de lista que recebe varios valores de tipos distintos e atríbui um indice para cada valor recebido.  \n",
    "A sintaxe para a criação de array é: `let array = ['string', 15, true, null];`  \n",
    "O indice do vetor sempre é um número inteiro, iniciando a contagem pelo 0, no caso o valor 'string' recebeu o indice 0 e o valor 15, recebeu o indice 1.  \n",
    "**Exemplos:**"
   ]
  },
  {
   "cell_type": "code",
   "execution_count": 1,
   "metadata": {},
   "outputs": [
    {
     "name": "stdout",
     "output_type": "stream",
     "text": [
      "indice 0: string\n",
      "indice 1: 15\n",
      "indice 2: true\n",
      "indice 3: [ 1, 2, 3 ]\n"
     ]
    }
   ],
   "source": [
    "let array = ['string', 15, true, [1, 2, 3]];\n",
    "console.log(\"indice 0:\", array[0]);\n",
    "console.log(\"indice 1:\", array[1]);\n",
    "console.log(\"indice 2:\", array[2]);\n",
    "console.log(\"indice 3:\", array[3]);"
   ]
  },
  {
   "cell_type": "code",
   "execution_count": null,
   "metadata": {},
   "outputs": [
    {
     "ename": "",
     "evalue": "",
     "output_type": "error",
     "traceback": [
      "\u001b[1;31mFailed to start the Kernel. \n",
      "Kernel JavaScript (Node.js) is not usable. Check the Jupyter output tab for more information. \n",
      "View Jupyter <a href='command:jupyter.viewOutput'>log</a> for further details."
     ]
    }
   ],
   "source": [
    "console.log(array) // Como todo o array é exibido no console*"
   ]
  },
  {
   "cell_type": "markdown",
   "metadata": {},
   "source": [
    "*_É possivel adicionar um array dentro de outro array_*"
   ]
  },
  {
   "cell_type": "markdown",
   "metadata": {},
   "source": [
    "<br>"
   ]
  },
  {
   "cell_type": "markdown",
   "metadata": {},
   "source": [
    "A função **forEach** realiza uma leitura de cada valor e indice de um array e os usa como parêmetros de uma função que deve ser informada como parâmetro.  \n",
    "**Exemplo:**"
   ]
  },
  {
   "cell_type": "code",
   "execution_count": 3,
   "metadata": {},
   "outputs": [
    {
     "name": "stdout",
     "output_type": "stream",
     "text": [
      "string 0\n",
      "15 1\n",
      "true 2\n",
      "[ 1, 2, 3 ] 3\n"
     ]
    }
   ],
   "source": [
    "array.forEach(function(conteudoDoArray, indiceDoArray){console.log(conteudoDoArray, indiceDoArray)});"
   ]
  },
  {
   "cell_type": "markdown",
   "metadata": {},
   "source": [
    "A função **push()** inclui ao final do array, um novo valor e indice.  \n",
    "**Exemplo:**"
   ]
  },
  {
   "cell_type": "code",
   "execution_count": 4,
   "metadata": {},
   "outputs": [
    {
     "name": "stdout",
     "output_type": "stream",
     "text": [
      "[\n",
      "  'string',\n",
      "  15,\n",
      "  true,\n",
      "  [ 1, 2, 3 ],\n",
      "  'nova string adicionada pelo push()'\n",
      "]\n"
     ]
    }
   ],
   "source": [
    "array.push('nova string adicionada pelo push()');\n",
    "console.log(array);"
   ]
  },
  {
   "cell_type": "markdown",
   "metadata": {},
   "source": [
    "A função **pop()** remove o último valor e indice de um array.  \n",
    "**Exemplo:**"
   ]
  },
  {
   "cell_type": "code",
   "execution_count": 5,
   "metadata": {},
   "outputs": [
    {
     "name": "stdout",
     "output_type": "stream",
     "text": [
      "[ 'string', 15, true, [ 1, 2, 3 ] ]\n"
     ]
    }
   ],
   "source": [
    "array.pop();\n",
    "console.log(array);"
   ]
  },
  {
   "cell_type": "markdown",
   "metadata": {},
   "source": [
    "A função **shift()**  remove o primeiro valor e indice de um array, funciona o contrário do pop().  \n",
    "**Exemplo:**"
   ]
  },
  {
   "cell_type": "code",
   "execution_count": 6,
   "metadata": {},
   "outputs": [
    {
     "name": "stdout",
     "output_type": "stream",
     "text": [
      "[ 15, true, [ 1, 2, 3 ] ]\n"
     ]
    }
   ],
   "source": [
    "array.shift();\n",
    "console.log(array);"
   ]
  },
  {
   "cell_type": "markdown",
   "metadata": {},
   "source": [
    "A função **unshift()** adiciona um valor e indice ao início do array.  \n",
    "**Exemplo:**"
   ]
  },
  {
   "cell_type": "code",
   "execution_count": null,
   "metadata": {},
   "outputs": [
    {
     "ename": "",
     "evalue": "",
     "output_type": "error",
     "traceback": [
      "\u001b[1;31mFailed to start the Kernel. \n",
      "Kernel JavaScript (Node.js) is not usable. Check the Jupyter output tab for more information. \n",
      "View Jupyter <a href='command:jupyter.viewOutput'>log</a> for further details."
     ]
    }
   ],
   "source": [
    "array.unshift('valor adicionado ao inicio do array com o unshift()');\n",
    "console.log(array);"
   ]
  },
  {
   "cell_type": "markdown",
   "metadata": {},
   "source": [
    "A função **indexOf()** retorna o indice de um valor contido no array ao passar como parâmetro esse valor.   \n",
    "**Exemplo:**"
   ]
  },
  {
   "cell_type": "code",
   "execution_count": 8,
   "metadata": {},
   "outputs": [
    {
     "data": {
      "text/plain": [
       "2"
      ]
     },
     "execution_count": 8,
     "metadata": {},
     "output_type": "execute_result"
    }
   ],
   "source": [
    "array.indexOf(true);"
   ]
  },
  {
   "cell_type": "code",
   "execution_count": null,
   "metadata": {},
   "outputs": [],
   "source": [
    "A função **splice()** realiza um \"corte\" de um array pelos valores de indices passados como parâmetro, esse valores são excluídos do array   \n",
    "**Exemplo:**"
   ]
  },
  {
   "cell_type": "code",
   "execution_count": 9,
   "metadata": {},
   "outputs": [
    {
     "name": "stdout",
     "output_type": "stream",
     "text": [
      "[ true, [ 1, 2, 3 ] ]\n"
     ]
    }
   ],
   "source": [
    "array.splice(0, 2)\n",
    "console.log(array)"
   ]
  },
  {
   "cell_type": "markdown",
   "metadata": {},
   "source": [
    "A função **slice()** retorna os valores do array passados nos parâmetros como indices.  \n",
    "**Exemplo:**"
   ]
  },
  {
   "cell_type": "code",
   "execution_count": 10,
   "metadata": {},
   "outputs": [
    {
     "data": {
      "text/plain": [
       "[ true, [ 1, 2, 3 ] ]"
      ]
     },
     "execution_count": 10,
     "metadata": {},
     "output_type": "execute_result"
    }
   ],
   "source": [
    "array.slice(0, 3);"
   ]
  },
  {
   "cell_type": "markdown",
   "metadata": {},
   "source": [
    "  "
   ]
  },
  {
   "cell_type": "markdown",
   "metadata": {},
   "source": [
    "<h1 style=\"text-align: center;\"> Objetos </h1>"
   ]
  },
  {
   "cell_type": "markdown",
   "metadata": {},
   "source": [
    "Objetos são dados que possuem características, propriedades e valores. são definidos por chaves {}  \n",
    "**Exemplos:**"
   ]
  },
  {
   "cell_type": "code",
   "execution_count": 22,
   "metadata": {},
   "outputs": [
    {
     "name": "stdout",
     "output_type": "stream",
     "text": [
      "┌──────────────┬──────────┐\n",
      "│   (index)    │  Values  │\n",
      "├──────────────┼──────────┤\n",
      "│ propriedade1 │ 'valor1' │\n",
      "│ propriedade2 │    2     │\n",
      "│ propriedade3 │   true   │\n",
      "│ propriedade4 │          │\n",
      "└──────────────┴──────────┘\n"
     ]
    }
   ],
   "source": [
    "var objeto = {\n",
    "    propriedade1: 'valor1',\n",
    "    propriedade2: 2,\n",
    "    propriedade3: true,\n",
    "    propriedade4: function(x){return 0;}\n",
    "}\n",
    "\n",
    "console.table(objeto)"
   ]
  },
  {
   "cell_type": "markdown",
   "metadata": {},
   "source": [
    "Para acessar um valor de uma propriedade de um objeto, existem duas formas:  "
   ]
  },
  {
   "cell_type": "code",
   "execution_count": 23,
   "metadata": {},
   "outputs": [
    {
     "data": {
      "text/plain": [
       "'valor1'"
      ]
     },
     "execution_count": 23,
     "metadata": {},
     "output_type": "execute_result"
    }
   ],
   "source": [
    "objeto.propriedade1 // Neste modo acessamos por meio de ponto e nome da propriedade"
   ]
  },
  {
   "cell_type": "code",
   "execution_count": 24,
   "metadata": {
    "scrolled": true
   },
   "outputs": [
    {
     "data": {
      "text/plain": [
       "'valor1'"
      ]
     },
     "execution_count": 24,
     "metadata": {},
     "output_type": "execute_result"
    }
   ],
   "source": [
    "objeto[\"propriedade1\"] // Neste modo acessamos por meio dos colchetes, é necessário uso das aspas."
   ]
  },
  {
   "cell_type": "markdown",
   "metadata": {},
   "source": [
    "para **adicionar outra propriedade** a um objeto já existente, usamos a seguinte sintaxe:  "
   ]
  },
  {
   "cell_type": "code",
   "execution_count": 25,
   "metadata": {},
   "outputs": [
    {
     "name": "stdout",
     "output_type": "stream",
     "text": [
      "┌─────────────────┬──────────┐\n",
      "│     (index)     │  Values  │\n",
      "├─────────────────┼──────────┤\n",
      "│  propriedade1   │ 'valor1' │\n",
      "│  propriedade2   │    2     │\n",
      "│  propriedade3   │   true   │\n",
      "│  propriedade4   │          │\n",
      "│ novaPropriedade │   null   │\n",
      "└─────────────────┴──────────┘\n"
     ]
    }
   ],
   "source": [
    "objeto[\"novaPropriedade\"] = null;\n",
    "\n",
    "console.table(objeto)"
   ]
  },
  {
   "cell_type": "markdown",
   "metadata": {},
   "source": [
    "Os valores das propriedades de um objeto podem ser atribuidos a outra variável."
   ]
  },
  {
   "cell_type": "markdown",
   "metadata": {},
   "source": [
    "Objetos podem ter outros **objetos como propriedade**:  "
   ]
  },
  {
   "cell_type": "code",
   "execution_count": 35,
   "metadata": {},
   "outputs": [
    {
     "name": "stdout",
     "output_type": "stream",
     "text": [
      "┌─────────────────┬──────────┬────────┬────────┬────────┬───────────┬──────────┐\n",
      "│     (index)     │  prop01  │ prop02 │ prop03 │ prop05 │  prop06   │  Values  │\n",
      "├─────────────────┼──────────┼────────┼────────┼────────┼───────────┼──────────┤\n",
      "│  propriedade1   │          │        │        │        │           │ 'valor1' │\n",
      "│  propriedade2   │          │        │        │        │           │    2     │\n",
      "│  propriedade3   │          │        │        │        │           │   true   │\n",
      "│  propriedade4   │          │        │        │        │           │          │\n",
      "│ novaPropriedade │          │        │        │        │           │   null   │\n",
      "│   novoObjeto    │ 'valor1' │   2    │  true  │  null  │ undefined │          │\n",
      "└─────────────────┴──────────┴────────┴────────┴────────┴───────────┴──────────┘\n"
     ]
    }
   ],
   "source": [
    "objeto[\"novoObjeto\"] = {\n",
    "    prop01: \"valor1\",\n",
    "    prop02: 2,\n",
    "    prop03: true,\n",
    "    //prop04: function(x){return 0;} Aparentemente função dentro de objeto de objeto não funciona!\n",
    "    prop05: null,\n",
    "    prop06: undefined,\n",
    "}\n",
    "console.table(objeto);"
   ]
  },
  {
   "cell_type": "code",
   "execution_count": 27,
   "metadata": {},
   "outputs": [
    {
     "name": "stdout",
     "output_type": "stream",
     "text": [
      "valor1\n"
     ]
    }
   ],
   "source": [
    "var teste = objeto.propriedade1;\n",
    "console.log(teste)"
   ]
  },
  {
   "cell_type": "markdown",
   "metadata": {},
   "source": [
    "Também podem ser \"libertos\" ao se declarar uma nova variável com o nome da propriedade buscada no objeto."
   ]
  },
  {
   "cell_type": "code",
   "execution_count": 28,
   "metadata": {},
   "outputs": [
    {
     "name": "stdout",
     "output_type": "stream",
     "text": [
      "true\n"
     ]
    }
   ],
   "source": [
    "var {propriedade3} = objeto\n",
    "console.log(propriedade3)"
   ]
  },
  {
   "cell_type": "code",
   "execution_count": null,
   "metadata": {},
   "outputs": [],
   "source": []
  }
 ],
 "metadata": {
  "kernelspec": {
   "display_name": "JavaScript (Node.js)",
   "language": "javascript",
   "name": "javascript"
  },
  "language_info": {
   "file_extension": ".js",
   "mimetype": "application/javascript",
   "name": "javascript",
   "version": "14.18.3"
  }
 },
 "nbformat": 4,
 "nbformat_minor": 5
}
