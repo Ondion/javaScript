{
 "cells": [
  {
   "cell_type": "markdown",
   "id": "abdeacfa",
   "metadata": {},
   "source": [
    "### Operadores relacionais\n",
    "São ultilizados para consultar a relaçao entre valores  \n",
    "**Exemplos:**"
   ]
  },
  {
   "cell_type": "code",
   "execution_count": 3,
   "id": "be353416",
   "metadata": {},
   "outputs": [
    {
     "name": "stdout",
     "output_type": "stream",
     "text": [
      "true true true true\n"
     ]
    }
   ],
   "source": [
    "var maiorQue = (5 > 4);\n",
    "var menorQue = (4 < 5);\n",
    "var maiorOuIgual = (5 >= 5);\n",
    "var menorOuIgual = (5 <= 5);\n",
    "console.log(maiorQue, menorQue, maiorOuIgual, menorOuIgual)"
   ]
  },
  {
   "cell_type": "markdown",
   "id": "fdcf4413",
   "metadata": {},
   "source": [
    "### Operadores lógicos\n",
    "São ultilizados para consultar a relaçao lógica E / OU / NÃO  \n",
    "**Exemplos:**"
   ]
  },
  {
   "cell_type": "code",
   "execution_count": 6,
   "id": "27ca88d7",
   "metadata": {},
   "outputs": [
    {
     "name": "stdout",
     "output_type": "stream",
     "text": [
      "true false true false true\n"
     ]
    }
   ],
   "source": []
  }
 ],
 "metadata": {
  "kernelspec": {
   "display_name": "JavaScript (Node.js)",
   "language": "javascript",
   "name": "javascript"
  },
  "language_info": {
   "file_extension": ".js",
   "mimetype": "application/javascript",
   "name": "javascript",
   "version": "14.18.3"
  }
 },
 "nbformat": 4,
 "nbformat_minor": 5
}
