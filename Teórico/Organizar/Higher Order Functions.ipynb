{
 "cells": [
  {
   "cell_type": "markdown",
   "id": "54de59c5",
   "metadata": {},
   "source": [
    "# Higher Order Functions  \n",
    "<hr>  "
   ]
  },
  {
   "cell_type": "markdown",
   "id": "1f1f34a1",
   "metadata": {},
   "source": [
    "### First-Class Functions  "
   ]
  },
  {
   "cell_type": "markdown",
   "id": "5dd8a7fb",
   "metadata": {},
   "source": [
    "São funções que suportam todos os tipos de operações, como por exemplo, passar uma função como argumento de outra função ou ser salva em uma variável.  \n",
    "**Exemplos:**"
   ]
  },
  {
   "cell_type": "code",
   "execution_count": 1,
   "id": "02d187aa",
   "metadata": {},
   "outputs": [
    {
     "data": {
      "text/plain": [
       "'function'"
      ]
     },
     "execution_count": 1,
     "metadata": {},
     "output_type": "execute_result"
    }
   ],
   "source": [
    "// Atribuir uma função a uma variável.\n",
    "\n",
    "const sum = (number1, number2) => {\n",
    "  return number1 + number2;\n",
    "};\n",
    "\n",
    "typeof(sum);"
   ]
  },
  {
   "cell_type": "code",
   "execution_count": 2,
   "id": "93261093",
   "metadata": {},
   "outputs": [
    {
     "data": {
      "text/plain": [
       "'primeiro X'"
      ]
     },
     "execution_count": 2,
     "metadata": {},
     "output_type": "execute_result"
    }
   ],
   "source": [
    "// Passar uma função como argumento para outra.\n",
    "\n",
    "const retornaX = (X) => {\n",
    "  return ('primeiro X');\n",
    "}\n",
    "\n",
    "const retornaXFunction = (XFunction) => {\n",
    "    return XFunction();\n",
    "}\n",
    "\n",
    "retornaXFunction(retornaX)"
   ]
  },
  {
   "cell_type": "code",
   "execution_count": 1,
   "id": "927be7ad",
   "metadata": {},
   "outputs": [
    {
     "name": "stdout",
     "output_type": "stream",
     "text": [
      "20\n"
     ]
    }
   ],
   "source": [
    "// Retorna uma função dentro de outra função.\n",
    "\n",
    "const sumFixAmount = (amount) => {\n",
    "  return (number) => amount + number;\n",
    "}\n",
    "\n",
    "const initialSum = sumFixAmount(15) /* initialSum, recebeu o retorno da sumFixAmount, que é a função anônima\n",
    "que já tem uma variavel declarada e com o valor 15.*/\n",
    "\n",
    "console.log(initialSum(5)); /* Agora essa função, antes anônima, se chama initialSum e realiza a soma de amount,\n",
    "que recebeu o vamor 15 anteriormente, e number, que agora é 5.*/"
   ]
  },
  {
   "cell_type": "code",
   "execution_count": 1,
   "id": "61fb23d2",
   "metadata": {},
   "outputs": [
    {
     "name": "stdout",
     "output_type": "stream",
     "text": [
      "is even: 0\n",
      "is even: 2\n",
      "is even: 4\n"
     ]
    }
   ],
   "source": [
    "// Recebe funções como parametro em conjunto com outras variáveis e funções.\n",
    "const repeat = (number, action) => {\n",
    "  for (let count = 0; count <= number; count += 1) {\n",
    "    action(count);\n",
    "  }\n",
    "};\n",
    "\n",
    "\n",
    "repeat(4, (number) => {\n",
    "  if (number %2 === 0) {\n",
    "    console.log(`is even: ${number}`)\n",
    "  }\n",
    "})"
   ]
  },
  {
   "cell_type": "markdown",
   "id": "a08ae2cb",
   "metadata": {},
   "source": [
    "*_Quando passamos uma função como argumento para uma **HOF**, essa função também é chamada de **callback!**_*"
   ]
  },
  {
   "cell_type": "code",
   "execution_count": null,
   "id": "10c5b1a6",
   "metadata": {},
   "outputs": [],
   "source": []
  }
 ],
 "metadata": {
  "kernelspec": {
   "display_name": "JavaScript (Node.js)",
   "language": "javascript",
   "name": "javascript"
  },
  "language_info": {
   "file_extension": ".js",
   "mimetype": "application/javascript",
   "name": "javascript",
   "version": "14.18.1"
  }
 },
 "nbformat": 4,
 "nbformat_minor": 5
}
