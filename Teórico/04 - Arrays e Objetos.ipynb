{
 "cells": [
  {
   "cell_type": "markdown",
   "id": "a93f813c",
   "metadata": {},
   "source": [
    "<h1 style=\"text-align: center;\">Arrays e Objetos</h1>"
   ]
  },
  {
   "cell_type": "markdown",
   "id": "ed7be730",
   "metadata": {},
   "source": [
    "**Arrays** são um tipo de lista que recebe varios valores de tipos distintos e atríbui um indice para cada valor recebido.  \n",
    "A sintaxe para a criação de array é: `let array = ['string', 15, true, null];`  \n",
    "O indice do vetor sempre é um número inteiro, iniciando a contagem pelo 0, no caso o valor 'string' recebeu o indice 0 e o valor 15, recebeu o indice 1.  \n",
    "**Exemplos:**"
   ]
  },
  {
   "cell_type": "code",
   "execution_count": 1,
   "id": "6dcf88d0",
   "metadata": {},
   "outputs": [
    {
     "name": "stdout",
     "output_type": "stream",
     "text": [
      "indice 0: string\n",
      "indice 1: 15\n",
      "indice 2: true\n",
      "indice 3: [ 1, 2, 3 ]\n"
     ]
    }
   ],
   "source": [
    "let array = ['string', 15, true, [1, 2, 3]];\n",
    "console.log(\"indice 0:\", array[0]);\n",
    "console.log(\"indice 1:\", array[1]);\n",
    "console.log(\"indice 2:\", array[2]);\n",
    "console.log(\"indice 3:\", array[3]);"
   ]
  },
  {
   "cell_type": "code",
   "execution_count": 2,
   "id": "eeafd4e3",
   "metadata": {},
   "outputs": [
    {
     "name": "stdout",
     "output_type": "stream",
     "text": [
      "[ 'string', 15, true, [ 1, 2, 3 ] ]\n"
     ]
    }
   ],
   "source": [
    "console.log(array) // Como todo o array é exibido no console*"
   ]
  },
  {
   "cell_type": "markdown",
   "id": "f58ebbd9",
   "metadata": {},
   "source": [
    "*_É possivel adicionar um array dentro de outro array_*"
   ]
  },
  {
   "cell_type": "markdown",
   "id": "25aab669",
   "metadata": {},
   "source": [
    "<br>"
   ]
  },
  {
   "cell_type": "markdown",
   "id": "6f043f91",
   "metadata": {},
   "source": [
    "A função **forEach** realiza uma leitura de cada valor e indice de um array e os usa como parêmetros de uma função que deve ser informada como parâmetro.  \n",
    "**Exemplo:**"
   ]
  },
  {
   "cell_type": "code",
   "execution_count": 3,
   "id": "1fa35962",
   "metadata": {},
   "outputs": [
    {
     "name": "stdout",
     "output_type": "stream",
     "text": [
      "string 0\n",
      "15 1\n",
      "true 2\n",
      "[ 1, 2, 3 ] 3\n"
     ]
    }
   ],
   "source": [
    "array.forEach(function(conteudoDoArray, indiceDoArray){console.log(conteudoDoArray, indiceDoArray)});"
   ]
  },
  {
   "cell_type": "markdown",
   "id": "ab182619",
   "metadata": {},
   "source": [
    "A função **push()** inclui ao final do array, um novo valor e indice.  \n",
    "**Exemplo:**"
   ]
  },
  {
   "cell_type": "code",
   "execution_count": 4,
   "id": "047f467f",
   "metadata": {},
   "outputs": [
    {
     "name": "stdout",
     "output_type": "stream",
     "text": [
      "[\n",
      "  'string',\n",
      "  15,\n",
      "  true,\n",
      "  [ 1, 2, 3 ],\n",
      "  'nova string adicionada pelo push()'\n",
      "]\n"
     ]
    }
   ],
   "source": [
    "array.push('nova string adicionada pelo push()');\n",
    "console.log(array);"
   ]
  },
  {
   "cell_type": "markdown",
   "id": "0c17d0f7",
   "metadata": {},
   "source": [
    "A função **pop()** remove o último valor e indice de um array.  \n",
    "**Exemplo:**"
   ]
  },
  {
   "cell_type": "code",
   "execution_count": 5,
   "id": "21d5b51d",
   "metadata": {},
   "outputs": [
    {
     "name": "stdout",
     "output_type": "stream",
     "text": [
      "[ 'string', 15, true, [ 1, 2, 3 ] ]\n"
     ]
    }
   ],
   "source": [
    "array.pop();\n",
    "console.log(array);"
   ]
  },
  {
   "cell_type": "markdown",
   "id": "fe9948b9",
   "metadata": {},
   "source": [
    "A função **shift()**  remove o primeiro valor e indice de um array, funciona o contrário do pop().  \n",
    "**Exemplo:**"
   ]
  },
  {
   "cell_type": "code",
   "execution_count": 6,
   "id": "a7e1223b",
   "metadata": {},
   "outputs": [
    {
     "name": "stdout",
     "output_type": "stream",
     "text": [
      "[ 15, true, [ 1, 2, 3 ] ]\n"
     ]
    }
   ],
   "source": [
    "array.shift();\n",
    "console.log(array);"
   ]
  },
  {
   "cell_type": "markdown",
   "id": "21a15336",
   "metadata": {},
   "source": [
    "A função **unshift()** adiciona um valor e indice ao início do array.  \n",
    "**Exemplo:**"
   ]
  },
  {
   "cell_type": "code",
   "execution_count": 7,
   "id": "621da5fd",
   "metadata": {},
   "outputs": [
    {
     "name": "stdout",
     "output_type": "stream",
     "text": [
      "[\n",
      "  'valor adicionado ao inicio do array com o unshift()',\n",
      "  15,\n",
      "  true,\n",
      "  [ 1, 2, 3 ]\n",
      "]\n"
     ]
    }
   ],
   "source": [
    "array.unshift('valor adicionado ao inicio do array com o unshift()');\n",
    "console.log(array);"
   ]
  },
  {
   "cell_type": "markdown",
   "id": "831daa39",
   "metadata": {},
   "source": [
    "A função **indexOf()** retorna o indice de um valor contido no array ao passar como parâmetro esse valor.   \n",
    "**Exemplo:**"
   ]
  },
  {
   "cell_type": "code",
   "execution_count": 8,
   "id": "5aded71e",
   "metadata": {},
   "outputs": [
    {
     "data": {
      "text/plain": [
       "2"
      ]
     },
     "execution_count": 8,
     "metadata": {},
     "output_type": "execute_result"
    }
   ],
   "source": [
    "array.indexOf(true);"
   ]
  },
  {
   "cell_type": "raw",
   "id": "8d7160bc",
   "metadata": {},
   "source": [
    "A função **splice()** realiza um \"corte\" de um array pelos valores de indices passados como parâmetro, esse valores são excluídos do array   \n",
    "**Exemplo:**"
   ]
  },
  {
   "cell_type": "code",
   "execution_count": 9,
   "id": "093ee67f",
   "metadata": {},
   "outputs": [
    {
     "name": "stdout",
     "output_type": "stream",
     "text": [
      "[ true, [ 1, 2, 3 ] ]\n"
     ]
    }
   ],
   "source": [
    "array.splice(0, 2)\n",
    "console.log(array)"
   ]
  },
  {
   "cell_type": "markdown",
   "id": "e34f167b",
   "metadata": {},
   "source": [
    "A função **slice()** retorna os valores do array passados nos parâmetros como indices.  \n",
    "**Exemplo:**"
   ]
  },
  {
   "cell_type": "code",
   "execution_count": 10,
   "id": "c9a79090",
   "metadata": {},
   "outputs": [
    {
     "data": {
      "text/plain": [
       "[ true, [ 1, 2, 3 ] ]"
      ]
     },
     "execution_count": 10,
     "metadata": {},
     "output_type": "execute_result"
    }
   ],
   "source": [
    "array.slice(0, 3);"
   ]
  },
  {
   "cell_type": "markdown",
   "id": "b2010e08",
   "metadata": {},
   "source": [
    "  "
   ]
  },
  {
   "cell_type": "markdown",
   "id": "30e9db0d",
   "metadata": {},
   "source": [
    "<h1 style=\"text-align: center;\"> Objetos </h1>"
   ]
  },
  {
   "cell_type": "markdown",
   "id": "2a1ca5cf",
   "metadata": {},
   "source": [
    "Objetos são dados que possuem características, propriedades e valores. são definidos por chaves {}  \n",
    "**Exemplos:**"
   ]
  },
  {
   "cell_type": "code",
   "execution_count": 11,
   "id": "c6cc145a",
   "metadata": {},
   "outputs": [
    {
     "name": "stdout",
     "output_type": "stream",
     "text": [
      "{\n",
      "  propriedade1: 'valor1',\n",
      "  propriedade2: 2,\n",
      "  propriedade3: true,\n",
      "  propriedade4: [Function: propriedade4]\n",
      "}\n"
     ]
    }
   ],
   "source": [
    "var objeto = {\n",
    "    propriedade1: 'valor1',\n",
    "    propriedade2: 2,\n",
    "    propriedade3: true,\n",
    "    propriedade4: function(x){return x;}\n",
    "}\n",
    "\n",
    "console.log(objeto)"
   ]
  },
  {
   "cell_type": "markdown",
   "id": "e05df80c",
   "metadata": {},
   "source": [
    "Os valores das propriedades de um objeto pode ser atribuido a outra variável."
   ]
  },
  {
   "cell_type": "code",
   "execution_count": 16,
   "id": "dad30e00",
   "metadata": {},
   "outputs": [
    {
     "name": "stdout",
     "output_type": "stream",
     "text": [
      "valor1\n"
     ]
    }
   ],
   "source": [
    "var teste = objeto.propriedade1;\n",
    "console.log(teste)"
   ]
  },
  {
   "cell_type": "markdown",
   "id": "07965557",
   "metadata": {},
   "source": []
  }
 ],
 "metadata": {
  "kernelspec": {
   "display_name": "JavaScript (Node.js)",
   "language": "javascript",
   "name": "javascript"
  },
  "language_info": {
   "file_extension": ".js",
   "mimetype": "application/javascript",
   "name": "javascript",
   "version": "14.18.1"
  }
 },
 "nbformat": 4,
 "nbformat_minor": 5
}
