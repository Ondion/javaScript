{
 "cells": [
  {
   "cell_type": "markdown",
   "id": "33ca92de",
   "metadata": {},
   "source": [
    "<h1 style=\"text-align: center;\">Arrays e Objetos</h1>"
   ]
  },
  {
   "cell_type": "markdown",
   "id": "54877d3d",
   "metadata": {},
   "source": []
  }
 ],
 "metadata": {
  "kernelspec": {
   "display_name": "JavaScript (Node.js)",
   "language": "javascript",
   "name": "javascript"
  },
  "language_info": {
   "file_extension": ".js",
   "mimetype": "application/javascript",
   "name": "javascript",
   "version": "14.18.1"
  }
 },
 "nbformat": 4,
 "nbformat_minor": 5
}
