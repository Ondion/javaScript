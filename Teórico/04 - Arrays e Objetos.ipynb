{
 "cells": [
  {
   "cell_type": "markdown",
   "id": "3feba65f",
   "metadata": {},
   "source": [
    "<h1 style=\"text-align: center;\">Arrays e Objetos</h1>"
   ]
  },
  {
   "cell_type": "markdown",
   "id": "ba7b8253",
   "metadata": {},
   "source": [
    "**Arrays** são um tipo de lista que recebe varios valores de tipos distintos e atríbui um indice para cada valor recebido.  \n",
    "A sintaxe para a criação de array é: `let array = ['string', 15, true, null];`  \n",
    "O indice do vetor sempre é um número inteiro, iniciando a contagem pelo 0, no caso o valor 'string' recebeu o indice 0 e o valor 15, recebeu o indice 1.  \n",
    "**Exemplos:**"
   ]
  },
  {
   "cell_type": "code",
   "execution_count": 1,
   "id": "65a3d617",
   "metadata": {},
   "outputs": [
    {
     "name": "stdout",
     "output_type": "stream",
     "text": [
      "indice 0: string\n",
      "indice 1: 15\n",
      "indice 2: true\n",
      "indice 3: [ 1, 2, 3 ]\n"
     ]
    }
   ],
   "source": [
    "let array = ['string', 15, true, [1, 2, 3]];\n",
    "console.log(\"indice 0:\", array[0]);\n",
    "console.log(\"indice 1:\", array[1]);\n",
    "console.log(\"indice 2:\", array[2]);\n",
    "console.log(\"indice 3:\", array[3]);"
   ]
  },
  {
   "cell_type": "code",
   "execution_count": 2,
   "id": "55e6e981",
   "metadata": {},
   "outputs": [
    {
     "name": "stdout",
     "output_type": "stream",
     "text": [
      "[ 'string', 15, true, [ 1, 2, 3 ] ]\n"
     ]
    }
   ],
   "source": [
    "console.log(array) // Como todo o array é exibido no console*"
   ]
  },
  {
   "cell_type": "markdown",
   "id": "ae0777e2",
   "metadata": {},
   "source": [
    "*_É possivel adicionar um array dentro de outro array_*"
   ]
  },
  {
   "cell_type": "markdown",
   "id": "05b5e8bb",
   "metadata": {},
   "source": [
    "<br>"
   ]
  },
  {
   "cell_type": "markdown",
   "id": "34c97f54",
   "metadata": {},
   "source": [
    "A função **forEach** realiza uma leitura de cada valor e indice de um array e os usa como parêmetros de uma função que deve ser informada como parâmetro.  \n",
    "**Exemplo:**"
   ]
  },
  {
   "cell_type": "code",
   "execution_count": 3,
   "id": "bc700659",
   "metadata": {},
   "outputs": [
    {
     "name": "stdout",
     "output_type": "stream",
     "text": [
      "string 0\n",
      "15 1\n",
      "true 2\n",
      "[ 1, 2, 3 ] 3\n"
     ]
    }
   ],
   "source": [
    "array.forEach(function(conteudoDoArray, indiceDoArray){console.log(conteudoDoArray, indiceDoArray)});"
   ]
  },
  {
   "cell_type": "markdown",
   "id": "89de2a80",
   "metadata": {},
   "source": [
    "A função **push()** inclui ao final do array, um novo valor e indice.  \n",
    "**Exemplo:**"
   ]
  },
  {
   "cell_type": "code",
   "execution_count": 4,
   "id": "923d2bca",
   "metadata": {},
   "outputs": [
    {
     "name": "stdout",
     "output_type": "stream",
     "text": [
      "[\n",
      "  'string',\n",
      "  15,\n",
      "  true,\n",
      "  [ 1, 2, 3 ],\n",
      "  'nova string adicionada pelo push()'\n",
      "]\n"
     ]
    }
   ],
   "source": [
    "array.push('nova string adicionada pelo push()');\n",
    "console.log(array);"
   ]
  },
  {
   "cell_type": "markdown",
   "id": "2994eccc",
   "metadata": {},
   "source": [
    "A função **pop()** remove o último valor e indice de um array.  \n",
    "**Exemplo:**"
   ]
  },
  {
   "cell_type": "code",
   "execution_count": 5,
   "id": "0264cb1f",
   "metadata": {},
   "outputs": [
    {
     "name": "stdout",
     "output_type": "stream",
     "text": [
      "[ 'string', 15, true, [ 1, 2, 3 ] ]\n"
     ]
    }
   ],
   "source": [
    "array.pop();\n",
    "console.log(array);"
   ]
  },
  {
   "cell_type": "markdown",
   "id": "df3cf483",
   "metadata": {},
   "source": [
    "A função **shift()**  remove o primeiro valor e indice de um array, funciona o contrário do pop().  \n",
    "**Exemplo:**"
   ]
  },
  {
   "cell_type": "code",
   "execution_count": 6,
   "id": "d75e2a8e",
   "metadata": {},
   "outputs": [
    {
     "name": "stdout",
     "output_type": "stream",
     "text": [
      "[ 15, true, [ 1, 2, 3 ] ]\n"
     ]
    }
   ],
   "source": [
    "array.shift();\n",
    "console.log(array);"
   ]
  },
  {
   "cell_type": "markdown",
   "id": "b40d5cce",
   "metadata": {},
   "source": [
    "A função **unshift()** adiciona um valor e indice ao início do array.  \n",
    "**Exemplo:**"
   ]
  },
  {
   "cell_type": "code",
   "execution_count": 7,
   "id": "aacca7b9",
   "metadata": {},
   "outputs": [
    {
     "name": "stdout",
     "output_type": "stream",
     "text": [
      "[\n",
      "  'valor adicionado ao inicio do array com o unshift()',\n",
      "  15,\n",
      "  true,\n",
      "  [ 1, 2, 3 ]\n",
      "]\n"
     ]
    }
   ],
   "source": [
    "array.unshift('valor adicionado ao inicio do array com o unshift()');\n",
    "console.log(array);"
   ]
  },
  {
   "cell_type": "markdown",
   "id": "b7f32115",
   "metadata": {},
   "source": [
    "A função **indexOf()** retorna o indice de um valor contido no array ao passar como parâmetro esse valor.   \n",
    "**Exemplo:**"
   ]
  },
  {
   "cell_type": "code",
   "execution_count": 8,
   "id": "fddd1297",
   "metadata": {},
   "outputs": [
    {
     "data": {
      "text/plain": [
       "2"
      ]
     },
     "execution_count": 8,
     "metadata": {},
     "output_type": "execute_result"
    }
   ],
   "source": [
    "array.indexOf(true);"
   ]
  },
  {
   "cell_type": "raw",
   "id": "40e77608",
   "metadata": {},
   "source": [
    "A função **splice()** realiza um \"corte\" de um array pelos valores de indices passados como parâmetro, esse valores são excluídos do array   \n",
    "**Exemplo:**"
   ]
  },
  {
   "cell_type": "code",
   "execution_count": 10,
   "id": "2897496a",
   "metadata": {},
   "outputs": [
    {
     "name": "stdout",
     "output_type": "stream",
     "text": [
      "[ true, [ 1, 2, 3 ] ]\n"
     ]
    }
   ],
   "source": [
    "array.splice(0, 2)\n",
    "console.log(array)"
   ]
  },
  {
   "cell_type": "markdown",
   "id": "17896068",
   "metadata": {},
   "source": [
    "A função **slice()** retorna os valores do array passados nos parâmetros como indices.  \n",
    "**Exemplo:**"
   ]
  },
  {
   "cell_type": "code",
   "execution_count": 4,
   "id": "a71a5569",
   "metadata": {},
   "outputs": [
    {
     "data": {
      "text/plain": [
       "[ 'string', 15, true ]"
      ]
     },
     "execution_count": 4,
     "metadata": {},
     "output_type": "execute_result"
    }
   ],
   "source": [
    "array.slice(0, 3);"
   ]
  },
  {
   "cell_type": "markdown",
   "id": "fc6c1a49",
   "metadata": {},
   "source": [
    "  "
   ]
  },
  {
   "cell_type": "markdown",
   "id": "7cc8abbe",
   "metadata": {},
   "source": [
    "<h1 style=\"text-align: center;\"> Objetos </h1>"
   ]
  },
  {
   "cell_type": "code",
   "execution_count": null,
   "id": "38bd292a",
   "metadata": {},
   "outputs": [],
   "source": []
  }
 ],
 "metadata": {
  "kernelspec": {
   "display_name": "JavaScript (Node.js)",
   "language": "javascript",
   "name": "javascript"
  },
  "language_info": {
   "file_extension": ".js",
   "mimetype": "application/javascript",
   "name": "javascript",
   "version": "14.18.1"
  }
 },
 "nbformat": 4,
 "nbformat_minor": 5
}
