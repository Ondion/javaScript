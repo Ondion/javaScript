{
 "cells": [
  {
   "cell_type": "markdown",
   "metadata": {},
   "source": [
    "<h1 style=\"text-align: center;\">Callback Hell</h1>\n",
    "<hr>"
   ]
  },
  {
   "cell_type": "code",
   "execution_count": null,
   "metadata": {},
   "outputs": [],
   "source": [
    "a().then(() =>{\n",
    "    b().then(() =>{\n",
    "        c().then(() =>{\n",
    "            d().then(() =>{\n",
    "                e().then(() =>{\n",
    "                    f().then(() => {\n",
    "                        return HELL!\n",
    "                    });\n",
    "                });\n",
    "            });\n",
    "        });\n",
    "    });\n",
    "});"
   ]
  },
  {
   "cell_type": "code",
   "execution_count": null,
   "metadata": {},
   "outputs": [],
   "source": [
    "a().then(() =>{\n",
    "    b();\n",
    "    }).then(() => {\n",
    "    c();\n",
    "    }).then(() => {\n",
    "    d();\n",
    "    }).then(() => {\n",
    "    e();\n",
    "    }).then(() => {\n",
    "    f();\n",
    "    }).then(() => {\n",
    "    return HEAVENS\n",
    "    });"
   ]
  }
 ],
 "metadata": {
  "kernelspec": {
   "display_name": "JavaScript (Node.js)",
   "language": "javascript",
   "name": "javascript"
  },
  "language_info": {
   "file_extension": ".js",
   "mimetype": "application/javascript",
   "name": "javascript",
   "version": "14.18.3"
  }
 },
 "nbformat": 4,
 "nbformat_minor": 2
}
