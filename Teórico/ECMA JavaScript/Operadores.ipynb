{
 "cells": [
  {
   "cell_type": "markdown",
   "metadata": {},
   "source": [
    "<h1 style=\"text-align: center;\">Operadores</h1>\n",
    "<hr>"
   ]
  },
  {
   "cell_type": "markdown",
   "metadata": {},
   "source": [
    "*_**Operadores** são métodos usados para realizar algumas ações lógicas, atribuições, matemáticas, dentre outras._*   "
   ]
  },
  {
   "cell_type": "markdown",
   "metadata": {},
   "source": [
    "<br>"
   ]
  },
  {
   "cell_type": "markdown",
   "metadata": {},
   "source": [
    "### Operadores de Atribuição"
   ]
  },
  {
   "cell_type": "markdown",
   "metadata": {},
   "source": [
    "Operador | Exemplo | Equivalente | Código \n",
    ":---: | :---: | :---: | :---: \n",
    "= | x = y | x = y | valor = 1 \n",
    "+= | x += y | x = x + y | valor += 1 \n",
    "-=| x -= y | x = x - y | valor -= 1  \n",
    "*= | x *= y | x = x * y| valor *= 1\n",
    "/= | x /= y| x = x / y | valor /= 1\n",
    "%=| x %= y | x = x % y | valor %= 1"
   ]
  },
  {
   "cell_type": "markdown",
   "metadata": {},
   "source": [
    "<br>"
   ]
  },
  {
   "cell_type": "markdown",
   "metadata": {},
   "source": [
    "### Operadores Aritméticos"
   ]
  },
  {
   "cell_type": "markdown",
   "metadata": {},
   "source": [
    "Operador | Descrição |\n",
    ":---: | :---: |\n",
    "+ | Adição |\n",
    "- | Subtração |\n",
    "* | Multiplicação |\n",
    "** | Exponencial |\n",
    "/ | Divisão|\n",
    "% | Resto Divisão |\n",
    "++ | Incrementar |\n",
    "-- | Decrementar |"
   ]
  },
  {
   "cell_type": "code",
   "execution_count": 11,
   "metadata": {},
   "outputs": [
    {
     "name": "stdout",
     "output_type": "stream",
     "text": [
      "+: 10   -: 0   *: 25   /: 1   **: 3125   %: 1\n"
     ]
    }
   ],
   "source": [
    "var adicao = 5 + 5\n",
    "var subtracao = 5 - 5\n",
    "var multiplicacao = 5 * 5\n",
    "var divisao = 5 / 5\n",
    "var potencia = 5 ** 5\n",
    "var restoDivisao = 5 % 2\n",
    "\n",
    "console.log(\"+:\",adicao,\"  -:\",subtracao,\"  *:\",multiplicacao,\"  /:\",divisao,\"  **:\",potencia,\"  %:\",restoDivisao)"
   ]
  },
  {
   "cell_type": "markdown",
   "metadata": {},
   "source": [
    "### Operadores de Comparação"
   ]
  },
  {
   "cell_type": "markdown",
   "metadata": {},
   "source": [
    "Operador | Descrição | Objetivo \n",
    ":---:|:---:|:---:\n",
    "**=**|Atribuição|Usado para atribuir um valor, também é lido como \"recebe\"\n",
    "**==**|Comparação|Compara os valores de duas variáveis para analise se são iguais, porém o tipo de variavel pode ser diferente, *_exemplo:_* \"0\" == 0  `true`\n",
    "**===**|Comparação idêntica|Compara os valores de duas variáveis e também os tipos dessas variáveis, ambas precisam ser iguais para ter o retorno como true, *_exemplo:_* \"0\" === 0  `false`\n",
    "!= | Diferente |Compara se os valores de duas variáveis **não** são iguais, porém o tipo dessas variáveis não é comparado.` \"0\" != 0 false` `0 != 1 true`\n",
    "!== | Diferente idêntica |Compara se os valores de duas variáveis **não** são iguais, inclusive o tipo.` \"0\" !== 0 true` `0 !== 1 true`\n",
    "> | Maior que |Testa se um valor é maior que outro.\n",
    "< | Menor que |Testa se um valor é menor que outro.\n",
    ">= | Maior ou Igual que |Testa se um valor é maior ou igual a outro.\n",
    "<= | Menor ou Igual que |Testa se um valor é menor ou igual a outro."
   ]
  },
  {
   "cell_type": "markdown",
   "metadata": {},
   "source": [
    "### Operadores Lógicos"
   ]
  },
  {
   "cell_type": "markdown",
   "metadata": {},
   "source": [
    "Operador | Descrição | Objetivo \n",
    ":---:|:---:|:---:\n",
    "`&&` (E comercial)| E |retorna true se todas as comparações forem true.\n",
    " // (Pipe)| OU |retorna true se alguma das comparações forem true.\n",
    "`!` (Exclamação)| NOT |inverte a operação logica, retorna false quando a comparação for true e vice versa."
   ]
  },
  {
   "cell_type": "code",
   "execution_count": 17,
   "metadata": {},
   "outputs": [
    {
     "name": "stdout",
     "output_type": "stream",
     "text": [
      "true false true false true\n"
     ]
    }
   ],
   "source": [
    "var eTrue = (true && true);\n",
    "var eFalse = (true && false);\n",
    "var ouTrue = (true || false);\n",
    "var ouFalse = (false || false);\n",
    "var naoTrue = (!false);\n",
    "console.log(eTrue, eFalse, ouTrue, ouFalse, naoTrue)"
   ]
  }
 ],
 "metadata": {
  "kernelspec": {
   "display_name": "JavaScript (Node.js)",
   "language": "javascript",
   "name": "javascript"
  },
  "language_info": {
   "file_extension": ".js",
   "mimetype": "application/javascript",
   "name": "javascript",
   "version": "14.18.3"
  }
 },
 "nbformat": 4,
 "nbformat_minor": 2
}
