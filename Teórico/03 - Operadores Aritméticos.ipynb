{
 "cells": [
  {
   "cell_type": "markdown",
   "id": "ee5ac119",
   "metadata": {},
   "source": [
    "# Operadores Aritméticos"
   ]
  },
  {
   "cell_type": "markdown",
   "id": "a5bd0422",
   "metadata": {},
   "source": [
    "**Operadores**\n",
    " * Adição > +\n",
    " * Subtração > -\n",
    " * Multiplicação > *\n",
    " * Divisão > /\n",
    " * Potência > **\n",
    " * Resto da divisão > % "
   ]
  },
  {
   "cell_type": "code",
   "execution_count": 2,
   "id": "2f27c56f",
   "metadata": {},
   "outputs": [
    {
     "name": "stdout",
     "output_type": "stream",
     "text": [
      "adição: 10 subtração: 0 multiplicação: 25 divisão: 1 potência: 3125 resto da divisão: 1\n"
     ]
    }
   ],
   "source": [
    "var adicao = 5 + 5\n",
    "var subtracao = 5 - 5\n",
    "var multiplicacao = 5 * 5\n",
    "var divisao = 5 / 5\n",
    "var potencia = 5 ** 5\n",
    "var restoDivisao = 5 % 2\n",
    "\n",
    "console.log(\"adição:\",adicao,\"subtração:\",subtracao,\"multiplicação:\",multiplicacao,\"divisão:\",divisao,\"potência:\",potencia,\"resto da divisão:\",restoDivisao)"
   ]
  },
  {
   "cell_type": "markdown",
   "id": "a68da9d8",
   "metadata": {},
   "source": [
    "### Atribuição | Comparação | Comparação idêntica\n",
    "No momento de comparar elementos no JavaScript é necessário seguir esses exemplos:    \n",
    "**Tabela de exemplos:**\n",
    "\n",
    "x|x|x\n",
    ":---:|:---:|:---:\n",
    "**=**|Atribuição|Usado para atribuir um valor, também é lido como \"recebe\"\n",
    "**==**|Comparação|Neste caso é comparado os valores de duas variáveis para analise se são iguais, porém o tipo de variavel pode ser diferente, *_exemplo:_* \"0\" == 0  `true`\n",
    "**===**|Comparação idêntica|Já neste caso são comparados os valores de duas variáveis e também o tipo de variavel, ambos precisam ser iguais para ter o retorno como true, *_exemplo:_* \"0\" === 0  `false`"
   ]
  },
  {
   "cell_type": "markdown",
   "id": "d3c664fc",
   "metadata": {},
   "source": []
  }
 ],
 "metadata": {
  "kernelspec": {
   "display_name": "JavaScript (Node.js)",
   "language": "javascript",
   "name": "javascript"
  },
  "language_info": {
   "file_extension": ".js",
   "mimetype": "application/javascript",
   "name": "javascript",
   "version": "14.18.1"
  }
 },
 "nbformat": 4,
 "nbformat_minor": 5
}
