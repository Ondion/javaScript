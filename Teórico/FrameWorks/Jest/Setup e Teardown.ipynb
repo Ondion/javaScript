{
 "cells": [
  {
   "cell_type": "markdown",
   "id": "b84ff067",
   "metadata": {},
   "source": [
    "<h1 style=\"text-align: center;\">Setup e Teardown</h1>\n",
    "<hr>"
   ]
  },
  {
   "cell_type": "markdown",
   "id": "0fc9483a",
   "metadata": {},
   "source": [
    "*_Seguem os ciclos de desenvolvimento de testes usando o Jest!_*\n",
    "\n",
    " * **SETUP:** É o primeiro ciclo, occore antes dos testes. Face inicial de definição de configurações. Usado para setar os parâmetros de forma a atender o teste seguinte, usando, por exemplo, a função ```beforeEach()```.  \n",
    "<br>\n",
    " \n",
    " * **Testes:** Segundo ciclo, é onde os testes acontecem, conforme conteúdo de testes unitários e assíncronos.  \n",
    " <br>\n",
    " \n",
    " * **Teardown:** Ocorre após os testes, momento para a configuração dos proximos blocos de testes. Usamos a função ```afterEach()```, por exemplo.  \n",
    " <br>  \n",
    " \n",
    "**Exemplo de código, conforme descrito acima:**  "
   ]
  },
  {
   "cell_type": "markdown",
   "id": "d6e4aa9d",
   "metadata": {},
   "source": [
    "```\n",
    "describe('Agrupa o primeiro bloco de testes', () => {\n",
    "  beforeEach(() => {\n",
    "    arrayExemplo = ['configura o array',  'para antes dos testes.'];\n",
    "  });\n",
    "  \n",
    "  afterEach(() => {\n",
    "    arrayExemplo = ['configura como o array deve estar depois dos testes.'];\n",
    "  });\n",
    "  \n",
    "  test('Testa o arrayExemplo dentro do primeiro bloco de testes', () => {\n",
    "    expect(arrayExemplo).toHaveLength(2);\n",
    "    expect(arrayExemplo).toContain('configura o array');\n",
    "  });\n",
    "  \n",
    "  test('Testa o arrayExemplo dentro do primeiro bloco de testes', () => {\n",
    "    expect(cities).not.toContain('Pindamonhangaba');\n",
    "    expect(cities).toHaveLength(1);\n",
    "  });\n",
    "});\n",
    "```"
   ]
  },
  {
   "cell_type": "markdown",
   "id": "b925b17e",
   "metadata": {},
   "source": [
    "**Importante lembrar que cada bloco ```describe``` deve ter seu próprio ```beforeEach``` e ```afterEach```.***"
   ]
  }
 ],
 "metadata": {
  "kernelspec": {
   "display_name": "JavaScript (Node.js)",
   "language": "javascript",
   "name": "javascript"
  },
  "language_info": {
   "file_extension": ".js",
   "mimetype": "application/javascript",
   "name": "javascript",
   "version": "14.18.3"
  }
 },
 "nbformat": 4,
 "nbformat_minor": 5
}
