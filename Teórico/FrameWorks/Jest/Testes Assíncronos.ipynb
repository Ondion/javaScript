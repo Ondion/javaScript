{
 "cells": [
  {
   "cell_type": "markdown",
   "id": "32bfbe20",
   "metadata": {},
   "source": [
    "<h1 style=\"text-align: center;\">Testes Assincrônos</h1>\n",
    "<hr>"
   ]
  },
  {
   "cell_type": "markdown",
   "id": "2d07498e",
   "metadata": {},
   "source": [
    "*_Ao realizar testes de funções e execuções assíncronas, o Jest poderá apresenta um \"falso positivo\" pois o método que o Jest usa para avaliar como falho um teste é o retorno imediato de um erro na função passada. Como em funções assincrônas o retorno não é imediato o teste ira passar de qualquer maneira._*  \n",
    "**Exemplos:**"
   ]
  },
  {
   "cell_type": "markdown",
   "id": "4142410a",
   "metadata": {},
   "source": [
    "```\n",
    "test('Não deveria passar!', () => {\n",
    "  setTimeout(() => {\n",
    "    expect(10).toBe(5); // O teste ira avaliar se 10 é igual a 5, logo, deveria falhar.\n",
    "  }, 500);\n",
    "});\n",
    "```  \n",
    "*_**Esse teste passaria no Jest por estamos avaliando uma função assíncrona.**_*"
   ]
  },
  {
   "cell_type": "markdown",
   "id": "79047792",
   "metadata": {},
   "source": [
    "<br>"
   ]
  },
  {
   "cell_type": "markdown",
   "id": "a277f6dc",
   "metadata": {},
   "source": [
    "```\n",
    "test('Não deveria passar!', (done) => {\n",
    "  setTimeout(() => {\n",
    "    expect(10).toBe(5); // Testa se 10 é igual a 5, logo, o teste irar falhar, porém por motivo de timeout.\n",
    "    done();\n",
    "  }, 500);\n",
    "});\n",
    "```\n",
    "*_**Este teste ultiliza o ```done()``` para aguardar o resultado da operação.**_*  \n",
    "*_Neste exemplo o fluxo do código é interrompido antes de chegar ao ```done()``` por esse motivo temos um erro de timeout._*"
   ]
  },
  {
   "cell_type": "markdown",
   "id": "af9ec1e7",
   "metadata": {},
   "source": [
    "<br>"
   ]
  },
  {
   "cell_type": "markdown",
   "id": "b23807fc",
   "metadata": {},
   "source": [
    "```\n",
    "test('Não deveria passar!', (done) => {\n",
    "  setTimeout(() => {\n",
    "    try {\n",
    "      expect(10).toBe(5); // Esse teste também deveria falhar, porém recebemos outro falso positivo.\n",
    "      done();\n",
    "    } catch (error) {\n",
    "      done();\n",
    "    }\n",
    "  }, 500);\n",
    "});\n",
    "```\n",
    "*_**O teste gera um falso positivo pois não passams nenhuma ação para quando o erro acontecer.**_*"
   ]
  },
  {
   "cell_type": "markdown",
   "id": "85e7fced",
   "metadata": {},
   "source": [
    "<br>"
   ]
  },
  {
   "cell_type": "markdown",
   "id": "87660a4d",
   "metadata": {},
   "source": [
    "```\n",
    "test('Não deveria passar!', (done) => {\n",
    "  setTimeout(() => {\n",
    "    try {\n",
    "      expect(10).toBe(0);\n",
    "      done();\n",
    "    } catch (error) {\n",
    "      done(error); // Aqui foi adicionado a ação de erro.\n",
    "    }\n",
    "  }, 500);\n",
    "});\n",
    "```\n",
    "*_**Agora a função ira apresentar o erro corretamente.**_*"
   ]
  },
  {
   "cell_type": "markdown",
   "id": "f70900b8",
   "metadata": {},
   "source": [
    "<br>"
   ]
  },
  {
   "cell_type": "markdown",
   "id": "78a080d1",
   "metadata": {},
   "source": [
    "**Exemplo de teste assíncrono:**\n",
    "```\n",
    "function asyncSum(a, b, callback){\n",
    "  setTimeout(() => {\n",
    "    const result = a + b;\n",
    "    callback(result);\n",
    "  }, 500);\n",
    "};\n",
    "\n",
    "test('Teste da função asyncSum, onde 5 é somado com 10.', (done) => {\n",
    "  asyncSum(5, 10, (result) => {\n",
    "    try {\n",
    "      expect(result).toBe(15);\n",
    "      done();\n",
    "    } catch (error) {\n",
    "      done(error);\n",
    "    }\n",
    "  });\n",
    "});\n",
    "```"
   ]
  },
  {
   "cell_type": "code",
   "execution_count": null,
   "id": "3c238ad0",
   "metadata": {},
   "outputs": [],
   "source": []
  }
 ],
 "metadata": {
  "kernelspec": {
   "display_name": "JavaScript (Node.js)",
   "language": "javascript",
   "name": "javascript"
  },
  "language_info": {
   "file_extension": ".js",
   "mimetype": "application/javascript",
   "name": "javascript",
   "version": "14.18.3"
  }
 },
 "nbformat": 4,
 "nbformat_minor": 5
}
