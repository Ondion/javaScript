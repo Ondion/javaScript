{
 "cells": [
  {
   "cell_type": "markdown",
   "metadata": {},
   "source": [
    "<h1 style=\"text-align: center;\">Indrodução ao React</h1>\n",
    "<hr>"
   ]
  },
  {
   "cell_type": "markdown",
   "metadata": {},
   "source": [
    "*_O **React** é uma das bibliotecas JavaScript de criação de interfaces mais utilizadas no mundo.  \n",
    "React surgiu através de uma necessidade do Facebook, onde o código era grande e de difícil manutenção. Por eles precisaram pensar em uma solução escalável e eficiente, nessa necessidade nasceu o React._*  \n",
    "\n",
    "*_Como dito anteriormente, o React é, atualmente, uma das principais bibliotecas Javascript para construção de interfaces de usuário. Esta poderosa ferramenta foi criada pelos times de desenvolvimento do Facebook com objetivo de organizar, componentizar e, consequentemente, tornar muito mais eficiente cada parte das aplicações que a utilizam._*  \n",
    "\n",
    "*_A ideia principal é tornar possível dividir a sua aplicação em pequenos blocos, reutilizáveis ou não, que podem fazer a gestão das suas próprias informações através do seu estado, ou seja, reagir a eventos, interações, dados, etc. Toda vez que houver uma mudança em um componente, o React atua especificamente na renderização dele, sem que seja necessário atualizar os outros blocos._*  \n",
    "\n",
    "*_A componentização permite ainda utilizar funções específicas, estilizações, testes e outras tecnologias no exato local em que ela será utilizada, permitindo que qualquer possível refatoração do código se torne simples, bem endereçada e fácil de se encontrar._*"
   ]
  },
  {
   "cell_type": "markdown",
   "metadata": {},
   "source": [
    "React  \n",
    "JSX  \n",
    "Babel  \n",
    "Webpack  \n",
    "Flux/Redux  \n",
    "fetch  \n",
    "Jest/RTL  "
   ]
  },
  {
   "cell_type": "markdown",
   "metadata": {},
   "source": []
  }
 ],
 "metadata": {
  "interpreter": {
   "hash": "31f2aee4e71d21fbe5cf8b01ff0e069b9275f58929596ceb00d14d90e3e16cd6"
  },
  "kernelspec": {
   "display_name": "JavaScript (Node.js)",
   "language": "javascript",
   "name": "javascript"
  },
  "language_info": {
   "file_extension": ".js",
   "mimetype": "application/javascript",
   "name": "javascript",
   "version": "14.18.3"
  }
 },
 "nbformat": 4,
 "nbformat_minor": 2
}
