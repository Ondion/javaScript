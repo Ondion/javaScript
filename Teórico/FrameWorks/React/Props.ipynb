{
 "cells": [
  {
   "cell_type": "markdown",
   "metadata": {},
   "source": [
    "<h1 style=\"text-align: center;\">Props</h1>\n",
    "<hr>"
   ]
  },
  {
   "cell_type": "markdown",
   "metadata": {},
   "source": [
    "*_**Props**, X_*"
   ]
  },
  {
   "cell_type": "markdown",
   "metadata": {},
   "source": [
    "*_São por elas que você passa os valores para o componente, e é como o torna reutilizável em diferentes contextos. Elas são como os parâmetros de uma função. Observe o exemplo abaixo:_*  "
   ]
  },
  {
   "cell_type": "code",
   "execution_count": null,
   "metadata": {},
   "outputs": [],
   "source": [
    "import React from 'react';\n",
    "\n",
    "class Greeting extends React.Component {\n",
    "  render() {\n",
    "    return <h1>Hello, {this.props.name} {this.props.lastName}</h1>;\n",
    "  }\n",
    "}\n",
    "\n",
    "export default Greeting;"
   ]
  },
  {
   "cell_type": "markdown",
   "metadata": {},
   "source": [
    "*_Aqui estamos gerando o espaço reservado para o ```props.name``` e o ```props.lastName```, que poreram ser passados em outro momento de chamada dessa função._*  \n",
    "**Exemplo:**"
   ]
  },
  {
   "cell_type": "markdown",
   "metadata": {},
   "source": [
    "```<Greeting name=\"Samuel\" lastName=\"Silva\" />``` *_Nesta chamada de função o React, de forma automática, armazena os valores passados como um objeto: ```props = { name: 'Samuel', lastName: 'Silva' }```, que por sua vez é passado como parâmetro para a função._*"
   ]
  },
  {
   "cell_type": "code",
   "execution_count": null,
   "metadata": {},
   "outputs": [],
   "source": []
  }
 ],
 "metadata": {
  "interpreter": {
   "hash": "31f2aee4e71d21fbe5cf8b01ff0e069b9275f58929596ceb00d14d90e3e16cd6"
  },
  "kernelspec": {
   "display_name": "JavaScript (Node.js)",
   "language": "javascript",
   "name": "javascript"
  },
  "language_info": {
   "file_extension": ".js",
   "mimetype": "application/javascript",
   "name": "javascript",
   "version": "14.18.3"
  }
 },
 "nbformat": 4,
 "nbformat_minor": 2
}
