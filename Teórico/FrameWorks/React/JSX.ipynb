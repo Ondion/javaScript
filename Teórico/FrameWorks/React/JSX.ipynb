{
 "cells": [
  {
   "cell_type": "markdown",
   "metadata": {},
   "source": [
    "<h1 style=\"text-align: center;\">JSX</h1>\n",
    "<hr>"
   ]
  },
  {
   "cell_type": "markdown",
   "metadata": {},
   "source": [
    "*_**JSX** é uma extensão de sintaxe para javaScript, algo como a mistura de javaScript com HTML, existe apenas algumas diferenças para evitar conflitos entre HTML e javaScript._*  \n",
    "*_**É importante lembrar que códigos JSX apenas funcionam em projetos React**._*  \n",
    "**Exemplos:**"
   ]
  },
  {
   "cell_type": "code",
   "execution_count": 1,
   "metadata": {},
   "outputs": [],
   "source": [
    "const nome = 'Jorge Maravilha';\n",
    "const classe = 'hello-class';\n",
    "\n",
    "/* Neste exemplo, declaramos de forma explicita uma TAG HTML, o <h1>,\n",
    "dentro do código javaScript, sem gerar erros.\n",
    "\n",
    "Também usamos o método, className, no lugar de apenas class, como\n",
    "seria no HTML puro, fazemos isso pois a palavra class é reservada pelo\n",
    "javaScript então é necessário para evitar conflitos.*/\n",
    "\n",
    "const element = <h1 className={classe}>Hello, {nome}</h1>;"
   ]
  },
  {
   "cell_type": "markdown",
   "metadata": {},
   "source": [
    "Outro **ponto importante**, passar uma variavel no JSX, dentro de uma tag HTML, é necessário o uso das chaves {}, como delimitador, conforme exemplo acima na variavel nome."
   ]
  }
 ],
 "metadata": {
  "interpreter": {
   "hash": "31f2aee4e71d21fbe5cf8b01ff0e069b9275f58929596ceb00d14d90e3e16cd6"
  },
  "kernelspec": {
   "display_name": "JavaScript (Node.js)",
   "language": "javascript",
   "name": "javascript"
  },
  "language_info": {
   "file_extension": ".js",
   "mimetype": "application/javascript",
   "name": "javascript",
   "version": "14.18.3"
  }
 },
 "nbformat": 4,
 "nbformat_minor": 2
}
