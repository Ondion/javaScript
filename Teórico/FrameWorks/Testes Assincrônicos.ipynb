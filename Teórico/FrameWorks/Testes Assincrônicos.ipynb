{
 "cells": [
  {
   "cell_type": "code",
   "execution_count": null,
   "id": "5e390725",
   "metadata": {},
   "outputs": [
    {
     "ename": "",
     "evalue": "",
     "output_type": "error",
     "traceback": [
      "\u001b[1;31mFailed to start the Kernel. \n",
      "/home/xavier/.nvm/versions/node/v14.18.3/lib/node_modules/ijavascript/node_modules/node-gyp-build/index.js:59\n",
      "  throw new Error('No native build was found for ' + target + '\\n    loaded from: ' + dir + '\\n')\n",
      "  ^\n",
      "\n",
      "Error: No native build was found for platform=linux arch=x64 runtime=electron abi=83 uv=1 libc=glibc node=14.18.3\n",
      "    loaded from: /home/xavier/.nvm/versions/node/v14.18.3/lib/node_modules/ijavascript/node_modules/zeromq\n",
      "\n",
      "    at Function.load.path (/home/xavier/.nvm/versions/node/v14.18.3/lib/node_modules/ijavascript/node_modules/node-gyp-build/index.js:59:9)\n",
      "    at load (/home/xavier/.nvm/versions/node/v14.18.3/lib/node_modules/ijavascript/node_modules/node-gyp-build/index.js:21:30)\n",
      "    at Object.<anonymous> (/home/xavier/.nvm/versions/node/v14.18.3/lib/node_modules/ijavascript/node_modules/zeromq/binding.js:1:43)\n",
      "    at Module._compile (internal/modules/cjs/loader.js:1085:14)\n",
      "    at Object.Module._extensions..js (internal/modules/cjs/loader.js:1114:10)\n",
      "    at Module.load (internal/modules/cjs/loader.js:950:32)\n",
      "    at Function.Module._load (internal/modules/cjs/loader.js:790:12)\n",
      "    at Module.require (internal/modules/cjs/loader.js:974:19)\n",
      "    at require (internal/modules/cjs/helpers.js:93:18)\n",
      "    at Object.<anonymous> (/home/xavier/.nvm/versions/node/v14.18.3/lib/node_modules/ijavascript/node_modules/zeromq/lib/index.js:6:11). \n",
      "View Jupyter <a href='command:jupyter.viewOutput'>log</a> for further details."
     ]
    }
   ],
   "source": [
    "console.log('e nois');"
   ]
  }
 ],
 "metadata": {
  "kernelspec": {
   "display_name": "JavaScript (Node.js)",
   "language": "javascript",
   "name": "javascript"
  },
  "language_info": {
   "file_extension": ".js",
   "mimetype": "application/javascript",
   "name": "javascript",
   "version": "14.18.3"
  }
 },
 "nbformat": 4,
 "nbformat_minor": 5
}
