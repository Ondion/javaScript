{
 "cells": [
  {
   "cell_type": "markdown",
   "metadata": {},
   "source": [
    "<h1 style=\"text-align: center;\">Sintaxe do JavaScript</h1>\n",
    "<hr>"
   ]
  },
  {
   "cell_type": "markdown",
   "metadata": {},
   "source": [
    "### Comentários  \n",
    "*_Para realizar um comentário no javaScript ultilizamos:_*  "
   ]
  },
  {
   "cell_type": "code",
   "execution_count": 2,
   "metadata": {},
   "outputs": [
    {
     "name": "stdout",
     "output_type": "stream",
     "text": [
      "Fim do comentário, início do código.\n"
     ]
    }
   ],
   "source": [
    "// Duas barras abrem um comentário até o fim da linha.\n",
    "\n",
    "/* Barra e asterisco\n",
    "para abrir um comentário e o contrário para fechar.\n",
    "Também é possivel quebrar linha.*/ console.log(\"Fim do comentário, início do código.\"); "
   ]
  },
  {
   "cell_type": "markdown",
   "metadata": {},
   "source": [
    "*_Temos no VScode um atalho para um tipo de comentário mais completo, basta digitar: `/**` acima do trecho que deseja comentar._*"
   ]
  },
  {
   "cell_type": "markdown",
   "metadata": {},
   "source": [
    "<br>"
   ]
  },
  {
   "cell_type": "markdown",
   "metadata": {},
   "source": [
    "### Tipagem  \n",
    "*_A tipagem é uma forma de categorizar dados, quanto mais forte a tipagem, mais informações sobre o tipo de dado são necessárias para a declaração._* "
   ]
  },
  {
   "cell_type": "markdown",
   "metadata": {},
   "source": [
    "No caso do JavaScript a tipagem é fraca, as declarações de variáveis tendem a ser mais dinâmicas.  \n",
    "**Exemplos:**  \n",
    "*_forte_:*`long int variavelForte = 123456` variável em C++  \n",
    "*_fraca:_*`variavel_fraca = 123456` variável em Python"
   ]
  },
  {
   "cell_type": "markdown",
   "metadata": {},
   "source": [
    "<br>"
   ]
  },
  {
   "cell_type": "markdown",
   "metadata": {},
   "source": [
    "### Nomeclatura para Variáveis  \n",
    "*_No javaScript, por padrão, atribuimos nomes às variáveis atravez do camelCase, porém a titulo de conhecimento, seguem os demais padrões:_*  "
   ]
  },
  {
   "cell_type": "markdown",
   "metadata": {},
   "source": [
    "| Case type | Example |\n",
    "|:---:|:---:|\n",
    "|variable string| variável inteiro|\n",
    "|Camel Case| varInt|\n",
    "|Snake Case| var_int|\n",
    "|Kebab Case| var-int|\n",
    "|Pascal Case| VarInt|\n",
    "|Upper Snake Case| VAR_INT|"
   ]
  }
 ],
 "metadata": {
  "kernelspec": {
   "display_name": "JavaScript (Node.js)",
   "language": "javascript",
   "name": "javascript"
  },
  "language_info": {
   "file_extension": ".js",
   "mimetype": "application/javascript",
   "name": "javascript",
   "version": "14.18.3"
  }
 },
 "nbformat": 4,
 "nbformat_minor": 4
}
