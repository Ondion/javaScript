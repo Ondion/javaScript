{
 "cells": [
  {
   "cell_type": "markdown",
   "id": "afa2be90",
   "metadata": {},
   "source": [
    "# TDD: Teste Unitários  \n",
    "<hr>"
   ]
  },
  {
   "cell_type": "markdown",
   "id": "d8d32302",
   "metadata": {},
   "source": [
    "Relizamos testes para garantir a qualidade do software produzido, tendo como base: **_Confiança, Funcionalidae e Performance_**"
   ]
  },
  {
   "cell_type": "markdown",
   "id": "00e33072",
   "metadata": {},
   "source": [
    "<hr>"
   ]
  },
  {
   "cell_type": "markdown",
   "id": "3473463b",
   "metadata": {},
   "source": [
    "### TDD: Test Driven Development"
   ]
  },
  {
   "cell_type": "markdown",
   "id": "e542d1d0",
   "metadata": {},
   "source": [
    "Desenvolvimento orientado a testes, é uma técnica que favorece o desenvolvimento de códigos confiáveis em certos casos. O método consiste em:  \n",
    "<br>  \n",
    "**_Escrever o teste mais básico possivel e ele deve falhar...  \n",
    "Impementar apenas o necessário apra que o teste passe...  \n",
    "Refatorar o código para atender as boas praticas...  \n",
    "Repetir o processo, com um novo teste elementar que deve falhar._**  \n",
    "<br>  "
   ]
  },
  {
   "cell_type": "markdown",
   "id": "67aaddfb",
   "metadata": {},
   "source": [
    "### NodeJS Assert"
   ]
  },
  {
   "cell_type": "markdown",
   "id": "2e0eafbd",
   "metadata": {},
   "source": [
    "O Assert é uma ferramenta que testa expressões, pertence ao NodeJS. Retorna ```true```, a menos que haja uma falha.  \n",
    "Sintaxe para incluir o módulo: ```const assert = require('assert');```"
   ]
  },
  {
   "cell_type": "code",
   "execution_count": 1,
   "id": "d44774d9",
   "metadata": {},
   "outputs": [],
   "source": [
    "// Adicionando o módulo Assert.\n",
    "const assert = require('assert');"
   ]
  },
  {
   "cell_type": "markdown",
   "id": "7ec55fd8",
   "metadata": {},
   "source": [
    "<br>"
   ]
  },
  {
   "cell_type": "markdown",
   "id": "2993b7bd",
   "metadata": {},
   "source": [
    "**assert.strictEqual(teste, esperado)**  \n",
    "*_Testa duas expressões, não retorna nada se passar, retorna um erro caso não passe_*  "
   ]
  },
  {
   "cell_type": "code",
   "execution_count": 2,
   "id": "b2a4fe14",
   "metadata": {},
   "outputs": [],
   "source": [
    "assert.strictEqual(50, 50); // Passa por ser igual, não retorna nada."
   ]
  },
  {
   "cell_type": "code",
   "execution_count": 3,
   "id": "6f8b03ee",
   "metadata": {
    "scrolled": true
   },
   "outputs": [
    {
     "ename": "AssertionError",
     "evalue": "Expected values to be strictly equal:\n\n50 !== '50'\n",
     "output_type": "error",
     "traceback": [
      "assert.js:118",
      "  throw new AssertionError(obj);",
      "  ^",
      "",
      "AssertionError [ERR_ASSERTION]: Expected values to be strictly equal:",
      "",
      "50 !== '50'",
      "",
      "    at evalmachine.<anonymous>:1:8",
      "    at Script.runInThisContext (vm.js:134:12)",
      "    at Object.runInThisContext (vm.js:310:38)",
      "    at run ([eval]:1054:15)",
      "    at onRunRequest ([eval]:888:18)",
      "    at onMessage ([eval]:848:13)",
      "    at process.emit (events.js:400:28)",
      "    at emit (internal/child_process.js:912:12)",
      "    at processTicksAndRejections (internal/process/task_queues.js:83:21)"
     ]
    }
   ],
   "source": [
    "assert.strictEqual(50, '50'); // Retorna um erro, por não atender ao teste."
   ]
  },
  {
   "cell_type": "markdown",
   "id": "0ea5f429",
   "metadata": {},
   "source": [
    "<br>  "
   ]
  },
  {
   "cell_type": "markdown",
   "id": "e7023fd3",
   "metadata": {},
   "source": [
    "### Jest"
   ]
  },
  {
   "cell_type": "markdown",
   "id": "9cc0529e",
   "metadata": {},
   "source": [
    "*_Jest é um framework de teste em JavaScript mantida pelo Facebook com foco na simplicidade e suporte para grandes aplicativos da web. Trabalha com projetos usando Babel, TypeScript, Node.js, React, Angular, Vue.js e Svelte._*  "
   ]
  },
  {
   "cell_type": "markdown",
   "id": "a5e431f3",
   "metadata": {},
   "source": [
    "*_Para escrever um teste no Jest é necessário utilizar a função **test.** A função **it** é um alias para test.  \n",
    "Essas funções, por serem globais, ficam automaticamente disponíveis nos seus arquivos uma vez que o Jest é instalado.  \n",
    "A função test espera três argumentos. O primeiro argumento é o nome do teste, o segundo argumento é uma função contendo suas expectations e o terceiro argumento (opcional) é um timeout._*  \n",
    "*_Exemplo:_*  "
   ]
  },
  {
   "cell_type": "markdown",
   "id": "b2903839",
   "metadata": {},
   "source": [
    "```\n",
    "// sum.js\n",
    "const sum = (a, b) => a + b;\n",
    "\n",
    "test('sums two values', () => {\n",
    "  expect(sum(2, 3)).toEqual(5);\n",
    "});\n",
    "```"
   ]
  },
  {
   "cell_type": "markdown",
   "id": "ca720db8",
   "metadata": {},
   "source": [
    "*_Ultilizamos a função ```expect``` para dar acesso ao conjuntos de matchers que realizam a comparação necessária a depender do tipo de teste._*   \n",
    "Seguem os **_Matchers_** mais ultilizados no Jest.  "
   ]
  },
  {
   "cell_type": "markdown",
   "id": "5e931cb1",
   "metadata": {},
   "source": [
    "```expect(x).toBe(x)```  \n",
    "*_```expect``` recebe uma função ou valor e testa se é exatamente igual ao parametro passado na função ```toBe``` essa condição apenas é valida para tipos primitivos_*  \n",
    "*_Exemplo:_*  \n",
    "```\n",
    "it('Teste simples do toBe', () => {\n",
    "  expect(\"X\").toBe(\"X\");\n",
    "});\n",
    "```"
   ]
  },
  {
   "cell_type": "markdown",
   "id": "4b212e70",
   "metadata": {},
   "source": [
    "```describe(\"Nome do bloco\", () => {\"Grupo de testes\"});```  \n",
    "*_Essa função serve para agrupar testes pelo critério que desejar._*"
   ]
  },
  {
   "cell_type": "markdown",
   "id": "131b362e",
   "metadata": {},
   "source": [
    "```expect(x).not.toBe(x)``` **// NOT é usado para testar o oposto da função seguinte.**  \n",
    "*_```expect``` recebe uma função ou valor e testa se é **NÃO** é igual ao parametro passado na função ```toBe```_*  \n",
    "*_Exemplo:_*  \n",
    "```\n",
    "it('Teste simples do NOT', () => {\n",
    "  expect(\"X\").not.toBe(\"X\");\n",
    "});\n",
    "```"
   ]
  },
  {
   "cell_type": "markdown",
   "id": "e0b5b2a1",
   "metadata": {},
   "source": [
    "```expect(x).toEqual(x)```  \n",
    "*_```expect``` recebe uma função ou valor e testa se o valor ou valores do conteúdo passado como parametro na função ```toEqual``` são iguais. Essa condição atende melhor valores de objetos, visto que eles são atribuidos por referência_*  \n",
    "*_Exemplo:_*  \n",
    "```\n",
    "let array = [1,2,3];\n",
    "\n",
    "test('Teste simples do toEqual', () => {\n",
    "  expect(array).toEqual([1,2,3]);\n",
    "});\n",
    "```"
   ]
  },
  {
   "cell_type": "markdown",
   "id": "db6e4cff",
   "metadata": {},
   "source": [
    "```expect(x).toBeNull(x)```"
   ]
  },
  {
   "cell_type": "markdown",
   "id": "1482f5eb",
   "metadata": {},
   "source": [
    "```expect(x).toBeUndefined()```"
   ]
  },
  {
   "cell_type": "markdown",
   "id": "679fb17d",
   "metadata": {},
   "source": [
    "```expect(x).toBeDefined()```"
   ]
  },
  {
   "cell_type": "markdown",
   "id": "703170f2",
   "metadata": {},
   "source": [
    "```expect(x).toBeTruthy()```"
   ]
  },
  {
   "cell_type": "markdown",
   "id": "34c20f5e",
   "metadata": {},
   "source": [
    "```expect(x).toBeFalsy()```"
   ]
  },
  {
   "cell_type": "markdown",
   "id": "ec9a710b",
   "metadata": {},
   "source": [
    "```expect(x).toBeCloseTo(x)```"
   ]
  },
  {
   "cell_type": "markdown",
   "id": "2fb4aff9",
   "metadata": {},
   "source": [
    "```expect(x).toMatch(x)```"
   ]
  },
  {
   "cell_type": "markdown",
   "id": "6cdc7ac7",
   "metadata": {},
   "source": [
    "```expect(()=>{x}).toThrow()```  \n",
    "*_Espera que a função passada no ```expect``` lance um erro, é necessário passar a arrow function para que o erro possa ser capturado_*"
   ]
  },
  {
   "cell_type": "markdown",
   "id": "47c5dc5d",
   "metadata": {},
   "source": [
    "```expect(()=>{x})toThrowError(new Error(x))```  \n",
    "*_Espera que a função passada no ```expect``` lance um erro e o conteúdo desse erro é avaliado. É necessário passar a arrow function para que o erro possa ser capturado_*  "
   ]
  }
 ],
 "metadata": {
  "kernelspec": {
   "display_name": "JavaScript (Node.js)",
   "language": "javascript",
   "name": "javascript"
  },
  "language_info": {
   "file_extension": ".js",
   "mimetype": "application/javascript",
   "name": "javascript",
   "version": "14.18.1"
  }
 },
 "nbformat": 4,
 "nbformat_minor": 5
}
