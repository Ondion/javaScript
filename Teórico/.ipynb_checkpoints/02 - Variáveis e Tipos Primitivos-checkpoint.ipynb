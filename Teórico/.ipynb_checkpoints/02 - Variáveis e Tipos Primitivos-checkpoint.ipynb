{
 "cells": [
  {
   "cell_type": "markdown",
   "metadata": {},
   "source": [
    "<h1 style=\"text-align: center;\">Variáveis e Tipos Primitivos</h1>"
   ]
  },
  {
   "cell_type": "markdown",
   "metadata": {},
   "source": [
    "### Tipagem\n",
    "A tipagem é uma forma de categorizar dados, quanto mais forte a tipagem, mais informações sobre o tipo de dado são necessárias para a declaração.\n",
    "\n",
    "\n",
    "No caso do JavaScript a tipagem é fraca, as declarações de variáveis tendem a ser mais dinâmicas.\n",
    "**Exemplos:**\n",
    "*_forte_* : ` double int "
   ]
  }
 ],
 "metadata": {
  "kernelspec": {
   "display_name": "Python 3 (ipykernel)",
   "language": "python",
   "name": "python3"
  },
  "language_info": {
   "codemirror_mode": {
    "name": "ipython",
    "version": 3
   },
   "file_extension": ".py",
   "mimetype": "text/x-python",
   "name": "python",
   "nbconvert_exporter": "python",
   "pygments_lexer": "ipython3",
   "version": "3.8.10"
  }
 },
 "nbformat": 4,
 "nbformat_minor": 2
}
