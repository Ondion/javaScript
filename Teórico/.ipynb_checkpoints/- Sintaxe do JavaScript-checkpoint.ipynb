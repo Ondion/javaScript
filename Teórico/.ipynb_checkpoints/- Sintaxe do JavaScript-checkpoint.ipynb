{
 "cells": [
  {
   "cell_type": "markdown",
   "metadata": {},
   "source": [
    "<h1 style=\"text-align: center;\">Sintaxe do JavaScript</h1>\n",
    "<hr>"
   ]
  },
  {
   "cell_type": "markdown",
   "metadata": {},
   "source": [
    "**Comentários**\n",
    "*_Para realizar um comentário no javaScript ultilizamos:_*  "
   ]
  },
  {
   "cell_type": "code",
   "execution_count": 5,
   "metadata": {},
   "outputs": [
    {
     "name": "stdout",
     "output_type": "stream",
     "text": [
      "Fim do comentário, início do código.\n"
     ]
    }
   ],
   "source": [
    "// Duas barras abrem um comentário até o fim da linha.\n",
    "\n",
    "/* Barra e asterisco\n",
    "para abrir um comentário e o contrário para fechar.\n",
    "Também é possivel quebrar linha.*/ console.log(\"Fim do comentário, início do código.\"); "
   ]
  },
  {
   "cell_type": "markdown",
   "metadata": {},
   "source": [
    "*_Temos no VScode um atalho para um tipo de comentário mais completo, basta digitar: `/**` acima do trecho que deseja comentar._*"
   ]
  }
 ],
 "metadata": {
  "kernelspec": {
   "display_name": "JavaScript (Node.js)",
   "language": "javascript",
   "name": "javascript"
  },
  "language_info": {
   "file_extension": ".js",
   "mimetype": "application/javascript",
   "name": "javascript",
   "version": "14.18.3"
  }
 },
 "nbformat": 4,
 "nbformat_minor": 4
}
