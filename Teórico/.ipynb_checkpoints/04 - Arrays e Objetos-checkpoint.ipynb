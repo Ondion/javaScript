{
 "cells": [
  {
   "cell_type": "markdown",
   "id": "a821fb2e",
   "metadata": {},
   "source": [
    "<h1 style=\"text-align: center;\">Arrays e Objetos</h1>"
   ]
  },
  {
   "cell_type": "markdown",
   "id": "477c6e2f",
   "metadata": {},
   "source": [
    "**Arrays** são um tipo de lista que recebe varios valores de tipos distintos e atríbui um indice para cada valor recebido.  \n",
    "A sintaxe para a criação de array é: `let array = ['string', 15, true, null];`  \n",
    "O indice do vetor sempre é um número inteiro, iniciando a contagem pelo 0, no caso o valor 'string' recebeu o indice 0 e o valor 15, recebeu o indice 1.  \n",
    "**Exemplos:**"
   ]
  },
  {
   "cell_type": "code",
   "execution_count": 1,
   "id": "b7334c0a",
   "metadata": {},
   "outputs": [
    {
     "name": "stdout",
     "output_type": "stream",
     "text": [
      "indice 0: string\n",
      "indice 1: 15\n",
      "indice 2: true\n",
      "indice 3: null\n"
     ]
    }
   ],
   "source": [
    "let array = ['string', 15, true, null];\n",
    "console.log(\"indice 0:\", array[0]);\n",
    "console.log(\"indice 1:\", array[1]);\n",
    "console.log(\"indice 2:\", array[2]);\n",
    "console.log(\"indice 3:\", array[3]);"
   ]
  },
  {
   "cell_type": "code",
   "execution_count": null,
   "id": "1716f9fc",
   "metadata": {},
   "outputs": [],
   "source": []
  }
 ],
 "metadata": {
  "kernelspec": {
   "display_name": "JavaScript (Node.js)",
   "language": "javascript",
   "name": "javascript"
  },
  "language_info": {
   "file_extension": ".js",
   "mimetype": "application/javascript",
   "name": "javascript",
   "version": "14.18.1"
  }
 },
 "nbformat": 4,
 "nbformat_minor": 5
}
