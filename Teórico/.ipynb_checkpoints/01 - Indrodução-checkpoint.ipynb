{
 "cells": [
  {
   "cell_type": "markdown",
   "metadata": {},
   "source": [
    "<h1 style=\"text-align: center;\">Indrodução ao JavaScript</h1>"
   ]
  },
  {
   "cell_type": "markdown",
   "metadata": {},
   "source": [
    "**JavaScript**  \n",
    "A linguagem tem diversas variações e frameworks e é o core central da interatividade WEB"
   ]
  },
  {
   "cell_type": "markdown",
   "metadata": {},
   "source": [
    "**ECMAScrpt**  \n",
    "São as especificações padrões do JavaScript"
   ]
  },
  {
   "cell_type": "markdown",
   "metadata": {},
   "source": [
    "Os comentários de uma linha em javaScript podem se feitos com duas barras:  \n",
    "`// Exemplo de comentário`  \n",
    "Já os comentários em várias linhas são feitos como no CSS:\n",
    "```\n",
    "/* Esse é um exemplo de \n",
    "comentário com varias linhas\n",
    "assim como é feito no CSS e também \n",
    "em diversas outras linguagens de programação */\n",
    "```\n",
    "E por fim, temos no VScode um atalho para um tipo de comentário mais completo, basta digitar: `/**` acima do trecho que deseja comentar, como no exemplo:\n",
    "```\n",
    "/**\n",
    "function ConverteFemC(fahrenheit){\n",
    "    return (5/9) * (fahrenheit-32);\n",
    "}\n",
    "```\n",
    "Digitar enter em seguida para ter esse resultado:\n",
    "```\n",
    "/**\n",
    " * \n",
    " * @param {*} fahrenheit \n",
    " * @returns \n",
    " */\n",
    "function ConverteFemC(fahrenheit){\n",
    "    return (5/9) * (fahrenheit-32);\n",
    "}\n",
    "```\n",
    "E segue também um exemplo desta mesma função comentada:\n",
    "```\n",
    "/** O comentário se inicia nesta linha.\n",
    " * Pode se estender por aqui.\n",
    " * @param {number} fahrenheit entre as chaves podemos informar qual o tipo de paramêtro a função recebe. \n",
    " * @returns Podemos comentar também o que ela retorna. \n",
    " */\n",
    "function ConverteFemC(fahrenheit){\n",
    "    return (5/9) * (fahrenheit-32);\n",
    "}\n",
    "```\n"
   ]
  },
  {
   "cell_type": "markdown",
   "metadata": {},
   "source": []
  },
  {
   "cell_type": "markdown",
   "metadata": {},
   "source": []
  },
  {
   "cell_type": "markdown",
   "metadata": {},
   "source": []
  },
  {
   "cell_type": "markdown",
   "metadata": {},
   "source": []
  }
 ],
 "metadata": {
  "interpreter": {
   "hash": "31f2aee4e71d21fbe5cf8b01ff0e069b9275f58929596ceb00d14d90e3e16cd6"
  },
  "kernelspec": {
   "display_name": "JavaScript (Node.js)",
   "language": "javascript",
   "name": "javascript"
  },
  "language_info": {
   "file_extension": ".js",
   "mimetype": "application/javascript",
   "name": "javascript",
   "version": "14.18.1"
  }
 },
 "nbformat": 4,
 "nbformat_minor": 2
}
