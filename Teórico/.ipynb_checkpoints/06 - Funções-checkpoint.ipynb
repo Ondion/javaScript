{
 "cells": [
  {
   "cell_type": "markdown",
   "id": "19134deb",
   "metadata": {},
   "source": [
    "<h1 style=\"text-align: center;\">Funções</h1>"
   ]
  },
  {
   "cell_type": "markdown",
   "id": "8aa18d2f",
   "metadata": {},
   "source": [
    "Funções são blocos de instruções que executam determinada tarefa, podem ser reultilizadas no decorrer do código.  \n",
    "\n",
    "**Funções declarativas**  \n",
    "**Exemplos:**"
   ]
  },
  {
   "cell_type": "code",
   "execution_count": 4,
   "id": "042a42c2",
   "metadata": {},
   "outputs": [
    {
     "name": "stdout",
     "output_type": "stream",
     "text": [
      "vai e volta!\n"
     ]
    }
   ],
   "source": [
    "function retorno (x){ // Essa função retorna o mesmo paramêtro que le foi passado.\n",
    "    return x;\n",
    "}\n",
    "\n",
    "console.log(retorno(\"vai e volta!\"));"
   ]
  },
  {
   "cell_type": "markdown",
   "id": "803d023b",
   "metadata": {},
   "source": [
    "*_Uma função pode receber quantos parâmentros forem necessários, inclusive nenhum_*"
   ]
  },
  {
   "cell_type": "code",
   "execution_count": 5,
   "id": "803b1dfe",
   "metadata": {},
   "outputs": [
    {
     "name": "stdout",
     "output_type": "stream",
     "text": [
      "um\n",
      "2\n",
      "3.3\n"
     ]
    }
   ],
   "source": [
    "function tresParametros (x, y, z){ // Essa função recebe e imprime três paramêtros passados.\n",
    "    console.log(x);\n",
    "    console.log(y);\n",
    "    console.log(z);\n",
    "}\n",
    "\n",
    "tresParametros(\"um\", 2, 3.3)"
   ]
  },
  {
   "cell_type": "markdown",
   "id": "5ae25b94",
   "metadata": {},
   "source": [
    "<br>"
   ]
  },
  {
   "cell_type": "markdown",
   "id": "67c6b3cc",
   "metadata": {},
   "source": [
    "**Expressões de funções**  \n",
    "Já esse tipo de função não necessáriamente precisa de um nome pois pode ser atribuida a uma variável que passa a ser a função.  \n",
    "**Exemplos:**"
   ]
  },
  {
   "cell_type": "code",
   "execution_count": 18,
   "id": "c8f84b67",
   "metadata": {},
   "outputs": [
    {
     "data": {
      "text/plain": [
       "100"
      ]
     },
     "execution_count": 18,
     "metadata": {},
     "output_type": "execute_result"
    }
   ],
   "source": [
    "var variavel = function(x){return x ** 2;}\n",
    "\n",
    "variavel(10)"
   ]
  },
  {
   "cell_type": "markdown",
   "id": "283d158d",
   "metadata": {},
   "source": [
    "<br>"
   ]
  },
  {
   "cell_type": "markdown",
   "id": "812810c6",
   "metadata": {},
   "source": [
    "**Arrow Function**  \n",
    "Essas funções tem a sintaxe curta e não possuem nome.  \n",
    "**Exemplos:**"
   ]
  },
  {
   "cell_type": "code",
   "execution_count": 22,
   "id": "8a21b882",
   "metadata": {},
   "outputs": [
    {
     "name": "stdout",
     "output_type": "stream",
     "text": [
      "exemplo de arrow function\n"
     ]
    }
   ],
   "source": [
    "var variavel=()=> {console.log(\"exemplo de arrow function\")}\n",
    "\n",
    "variavel()"
   ]
  }
 ],
 "metadata": {
  "kernelspec": {
   "display_name": "JavaScript (Node.js)",
   "language": "javascript",
   "name": "javascript"
  },
  "language_info": {
   "file_extension": ".js",
   "mimetype": "application/javascript",
   "name": "javascript",
   "version": "14.18.1"
  }
 },
 "nbformat": 4,
 "nbformat_minor": 5
}
