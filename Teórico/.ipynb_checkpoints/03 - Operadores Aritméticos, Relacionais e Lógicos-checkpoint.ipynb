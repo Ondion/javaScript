{
 "cells": [
  {
   "cell_type": "markdown",
   "id": "25d84990",
   "metadata": {},
   "source": [
    "# Operadores Aritméticos"
   ]
  },
  {
   "cell_type": "markdown",
   "id": "e6ace1a9",
   "metadata": {},
   "source": [
    "**Operadores**\n",
    " * Adição > +\n",
    " * Subtração > -\n",
    " * Multiplicação > *\n",
    " * Divisão > /\n",
    " * Potência > **\n",
    " * Resto da divisão > % "
   ]
  },
  {
   "cell_type": "code",
   "execution_count": 1,
   "id": "9420fafa",
   "metadata": {},
   "outputs": [
    {
     "name": "stdout",
     "output_type": "stream",
     "text": [
      "adição: 10 subtração: 0 multiplicação: 25 divisão: 1 potência: 3125 resto da divisão: 1\n"
     ]
    }
   ],
   "source": [
    "var adicao = 5 + 5\n",
    "var subtracao = 5 - 5\n",
    "var multiplicacao = 5 * 5\n",
    "var divisao = 5 / 5\n",
    "var potencia = 5 ** 5\n",
    "var restoDivisao = 5 % 2\n",
    "\n",
    "console.log(\"adição:\",adicao,\"subtração:\",subtracao,\"multiplicação:\",multiplicacao,\"divisão:\",divisao,\"potência:\",potencia,\"resto da divisão:\",restoDivisao)"
   ]
  },
  {
   "cell_type": "markdown",
   "id": "4bea15de",
   "metadata": {},
   "source": [
    "### Atribuição | Comparação | Comparação idêntica\n",
    "No momento de comparar elementos no JavaScript é necessário seguir esses exemplos:    \n",
    "**Tabela de exemplos:**\n",
    "\n",
    "x|x|x\n",
    ":---:|:---:|:---:\n",
    "**=**|Atribuição|Usado para atribuir um valor, também é lido como \"recebe\"\n",
    "**==**|Comparação|Neste caso é comparado os valores de duas variáveis para analise se são iguais, porém o tipo de variavel pode ser diferente, *_exemplo:_* \"0\" == 0  `true`\n",
    "**===**|Comparação idêntica|Já neste caso são comparados os valores de duas variáveis e também o tipo de variavel, ambos precisam ser iguais para ter o retorno como true, *_exemplo:_* \"0\" === 0  `false`\n",
    "**Exemplos:**"
   ]
  },
  {
   "cell_type": "code",
   "execution_count": 2,
   "id": "3b5aa1d9",
   "metadata": {},
   "outputs": [
    {
     "name": "stdout",
     "output_type": "stream",
     "text": [
      "true true false true\n"
     ]
    }
   ],
   "source": [
    "var atribuicao = true;\n",
    "var comparacao = (\"0\" == 0);\n",
    "var comparacaoIdenticaFalse = (\"0\" === 0);\n",
    "var comparacaoIdenticaTrue = (0 === 0);\n",
    "console.log(atribuicao, comparacao, comparacaoIdenticaFalse, comparacaoIdenticaTrue);"
   ]
  },
  {
   "cell_type": "markdown",
   "id": "46a78227",
   "metadata": {},
   "source": [
    "### Operadores relacionais\n",
    "São ultilizados para consultar a relaçao entre valores  \n",
    "**Exemplos:**"
   ]
  },
  {
   "cell_type": "code",
   "execution_count": 3,
   "id": "d2a753fb",
   "metadata": {},
   "outputs": [
    {
     "name": "stdout",
     "output_type": "stream",
     "text": [
      "true true true true\n"
     ]
    }
   ],
   "source": [
    "var maiorQue = (5 > 4);\n",
    "var menorQue = (4 < 5);\n",
    "var maiorOuIgual = (5 >= 5);\n",
    "var menorOuIgual = (5 <= 5);\n",
    "console.log(maiorQue, menorQue, maiorOuIgual, menorOuIgual)"
   ]
  },
  {
   "cell_type": "markdown",
   "id": "bf925e55",
   "metadata": {},
   "source": [
    "### Operadores lógicos\n",
    "São ultilizados para consultar a relaçao lógica E / OU / NÃO  \n",
    "**Exemplos:**"
   ]
  },
  {
   "cell_type": "code",
   "execution_count": 6,
   "id": "a0bacd29",
   "metadata": {},
   "outputs": [
    {
     "name": "stdout",
     "output_type": "stream",
     "text": [
      "true false true false true\n"
     ]
    }
   ],
   "source": [
    "var eTrue = (true && true);\n",
    "var eFalse = (true && false);\n",
    "var ouTrue = (true || false);\n",
    "var ouFalse = (false || false);\n",
    "var naoTrue = (!false);\n",
    "console.log(eTrue, eFalse, ouTrue, ouFalse, naoTrue)"
   ]
  }
 ],
 "metadata": {
  "kernelspec": {
   "display_name": "JavaScript (Node.js)",
   "language": "javascript",
   "name": "javascript"
  },
  "language_info": {
   "file_extension": ".js",
   "mimetype": "application/javascript",
   "name": "javascript",
   "version": "14.18.1"
  }
 },
 "nbformat": 4,
 "nbformat_minor": 5
}
