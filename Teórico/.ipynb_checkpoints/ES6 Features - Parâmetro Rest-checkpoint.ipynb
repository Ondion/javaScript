{
 "cells": [
  {
   "cell_type": "markdown",
   "metadata": {},
   "source": [
    "# ES6 Features - Parâmetro Rest\n",
    "<hr>"
   ]
  },
  {
   "cell_type": "markdown",
   "metadata": {},
   "source": [
    "*_Algumas das features introduzidas na atualização ES6 do JavaScript.  \n",
    "O parâmetro **rest** permite que uma função receba qualquer quantidade de parâmetros._*  \n",
    "<br>"
   ]
  },
  {
   "cell_type": "markdown",
   "metadata": {},
   "source": [
    "### Exemplos de uso do Rest:  "
   ]
  },
  {
   "cell_type": "code",
   "execution_count": 2,
   "metadata": {},
   "outputs": [
    {
     "name": "stdout",
     "output_type": "stream",
     "text": [
      "Esse(s) foi(ram) o(s) parâmetro(s) passado(s):  [ [ 1, 2, 3, null, 'string', true ] ]\n",
      "undefined\n"
     ]
    }
   ],
   "source": [
    "//Exemplo de funcionamento.\n",
    "function retornaTudo (...rest) {\n",
    "    console.log(\"Esse(s) foi(ram) o(s) parâmetro(s) passado(s): \", rest);\n",
    "};\n",
    "\n",
    "console.log(retornaTudo([1, 2, 3, null, \"string\", true]));"
   ]
  },
  {
   "cell_type": "code",
   "execution_count": 1,
   "metadata": {},
   "outputs": [
    {
     "name": "stdout",
     "output_type": "stream",
     "text": [
      "88\n"
     ]
    }
   ],
   "source": [
    "// uso do Rest em conjunto com uma HoF.\n",
    "\n",
    "const sum = (...args) => args.reduce((accumulator, current) => accumulator + current, 0);\n",
    "console.log(sum(4, 7, 8, 9, 60));"
   ]
  }
 ],
 "metadata": {
  "kernelspec": {
   "display_name": "JavaScript (Node.js)",
   "language": "javascript",
   "name": "javascript"
  },
  "language_info": {
   "file_extension": ".js",
   "mimetype": "application/javascript",
   "name": "javascript",
   "version": "14.18.3"
  }
 },
 "nbformat": 4,
 "nbformat_minor": 4
}
