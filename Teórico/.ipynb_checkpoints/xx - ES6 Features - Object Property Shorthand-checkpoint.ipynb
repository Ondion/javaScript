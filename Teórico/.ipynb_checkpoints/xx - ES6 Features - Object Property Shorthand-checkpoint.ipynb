{
 "cells": [
  {
   "cell_type": "markdown",
   "metadata": {},
   "source": [
    "# ES6 Features - Object Property Shorthand.\n",
    "<hr>"
   ]
  },
  {
   "cell_type": "markdown",
   "metadata": {},
   "source": [
    "*_Algumas das features introduzidas na atualização ES6 do JavaScript._*  \n",
    "*_O **Shorthand** atríbui os valores passados como parâmetros de uma função as propriedades de um objeto dentro dessa mesma função._*  \n",
    "<br>"
   ]
  },
  {
   "cell_type": "code",
   "execution_count": 3,
   "metadata": {},
   "outputs": [
    {
     "name": "stdout",
     "output_type": "stream",
     "text": [
      "{ valor1: 'valores', valor2: 'da', valor3: 'shorthand' }\n"
     ]
    }
   ],
   "source": [
    "function shorthand (valor1, valor2, valor3) {\n",
    "    return {\n",
    "        valor1,\n",
    "        valor2,\n",
    "        valor3,\n",
    "    }\n",
    "}\n",
    "\n",
    "console.log(shorthand('valores', 'da', 'shorthand'));"
   ]
  }
 ],
 "metadata": {
  "kernelspec": {
   "display_name": "JavaScript (Node.js)",
   "language": "javascript",
   "name": "javascript"
  },
  "language_info": {
   "file_extension": ".js",
   "mimetype": "application/javascript",
   "name": "javascript",
   "version": "14.18.3"
  }
 },
 "nbformat": 4,
 "nbformat_minor": 4
}
