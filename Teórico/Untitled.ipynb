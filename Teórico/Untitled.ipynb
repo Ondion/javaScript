{
 "cells": [
  {
   "cell_type": "markdown",
   "metadata": {},
   "source": [
    "### Tipagem\n",
    "A tipagem é uma forma de categorizar dados, quanto mais forte a tipagem, mais informações sobre o tipo de dado são necessárias para a declaração.\n",
    "\n",
    "\n",
    "No caso do JavaScript a tipagem é fraca, as declarações de variáveis tendem a ser mais dinâmicas.  \n",
    "**Exemplos:**  \n",
    "*_forte_:*`long int variavelForte = 123456` variável em C++  \n",
    "*_fraca:_*`variavel_fraca = 123456` variável em Python"
   ]
  },
  {
   "cell_type": "code",
   "execution_count": null,
   "metadata": {},
   "outputs": [],
   "source": []
  }
 ],
 "metadata": {
  "kernelspec": {
   "display_name": "JavaScript (Node.js)",
   "language": "javascript",
   "name": "javascript"
  },
  "language_info": {
   "file_extension": ".js",
   "mimetype": "application/javascript",
   "name": "javascript",
   "version": "14.18.3"
  }
 },
 "nbformat": 4,
 "nbformat_minor": 4
}
