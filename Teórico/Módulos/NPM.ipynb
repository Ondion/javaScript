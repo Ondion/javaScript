{
 "cells": [
  {
   "cell_type": "markdown",
   "metadata": {},
   "source": [
    "<h1 style=\"text-align: center;\">NPM - Node Package Manager</h1>\n",
    "<hr>"
   ]
  },
  {
   "cell_type": "markdown",
   "metadata": {},
   "source": [
    "*_O **NPM** é o gerenciador de pacotes._*"
   ]
  },
  {
   "cell_type": "markdown",
   "metadata": {},
   "source": [
    "<br>"
   ]
  },
  {
   "cell_type": "markdown",
   "metadata": {},
   "source": [
    "```npm init```"
   ]
  },
  {
   "cell_type": "markdown",
   "metadata": {},
   "source": [
    "```npm init -y```"
   ]
  },
  {
   "cell_type": "markdown",
   "metadata": {},
   "source": [
    "```nm install --save-dev```"
   ]
  },
  {
   "cell_type": "markdown",
   "metadata": {},
   "source": [
    "```npx create-react-app```"
   ]
  },
  {
   "cell_type": "markdown",
   "metadata": {},
   "source": []
  }
 ],
 "metadata": {
  "kernelspec": {
   "display_name": "JavaScript (Node.js)",
   "language": "javascript",
   "name": "javascript"
  },
  "language_info": {
   "file_extension": ".js",
   "mimetype": "application/javascript",
   "name": "javascript",
   "version": "14.18.3"
  }
 },
 "nbformat": 4,
 "nbformat_minor": 2
}
