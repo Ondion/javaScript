{
 "cells": [
  {
   "cell_type": "markdown",
   "metadata": {},
   "source": [
    "<h1 style=\"text-align: center;\">Fetch API</h1>\n",
    "<hr>"
   ]
  },
  {
   "cell_type": "markdown",
   "metadata": {},
   "source": [
    "*_A Fetch API contém uma série de recursos desenvolvidos para lidar com requisições http no JavaScript. A função primária é a ```fetch()``` , utilizada para fazer chamadas às URL's das APIs . Trata-se de uma função assíncrona, baseada em promises.  \n",
    "A função fetch pode receber dois parâmetros:  \n",
    " 1 - URL do serviço alvo da requisição;  \n",
    " 2 - E opcionalmente, um objeto contendo algumas informações sobre requisição de API.  \n",
    "O retorno da função varia conforme a API utilizada._*"
   ]
  },
  {
   "cell_type": "markdown",
   "metadata": {},
   "source": [
    "*_Uma **API** permite que páginas, softwares, apliativos, se comuniquem um com os outros, servindo de \"ponte\". Uma API não é um banco de dados ou um servidor, mas a responsável pelo controle dos pontos de acesso a eles, através de um conjunto de rotinas e padrões de programação.  \n",
    "As APIs também possuem rotas de acesso que permitem a comunicação com o servidor, mas não precisam retornar templates. Geralmente, retornam dados no formato JSON._*"
   ]
  },
  {
   "cell_type": "markdown",
   "metadata": {},
   "source": [
    "<br>"
   ]
  },
  {
   "cell_type": "markdown",
   "metadata": {},
   "source": [
    "### JSON\n",
    "*_É uma sigla para **J**ava**S**cript **O**bject **N**otation, que é uma forma padronizada de representamos dados.  \n",
    "Geralmente, JSONs são constituidos de um array que contem objetos._*  \n",
    "**EXEMPLO:**"
   ]
  },
  {
   "cell_type": "code",
   "execution_count": 6,
   "metadata": {},
   "outputs": [],
   "source": [
    "{\n",
    "  \"nomeJSON\": [\n",
    "    {\n",
    "      \"chave1\": \"valor\",\n",
    "      \"chave2\": \"valor\",\n",
    "      \"chave3\": \"valor\",\n",
    "    }, \n",
    "    {\n",
    "      \"chave1\": \"valor\",\n",
    "      \"chave2\": \"valor\",\n",
    "      \"chave3\": \"valor\",\n",
    "    }\n",
    "  ]\n",
    "};"
   ]
  },
  {
   "cell_type": "markdown",
   "metadata": {},
   "source": [
    "<br>"
   ]
  },
  {
   "cell_type": "markdown",
   "metadata": {},
   "source": [
    "### Promises  \n",
    "*_São funções assíncronas que tem um comportamento diferenciado das demais funções. Elas tem métodos próprios que facilitam o controle do fluxo assíncrono, alem de serem construidas de uma forma diferente, usamos um **Construtor**._*  \n",
    "Elas possuem três estados:  \n",
    " * Pending: Que representa o início de sua execução.\n",
    " * Fulfilled: Estado de sucesso, onde o valor pretendido é retornado.\n",
    " * Rejected: Estado de erro, quando sua requisição não é atendida.  \n"
   ]
  },
  {
   "cell_type": "markdown",
   "metadata": {},
   "source": [
    "**Exemplo de requisição a API:**  \n",
    "*_Neste exemplo ultilizamos o ```.then``` e o ```.catch``` para tratar um possivel erro._*"
   ]
  },
  {
   "cell_type": "code",
   "execution_count": 1,
   "metadata": {},
   "outputs": [
    {
     "name": "stdout",
     "output_type": "stream",
     "text": [
      "MySpace actually isn't your space, it's Chuck's (he just lets you use it).\n"
     ]
    }
   ],
   "source": [
    "const fetch = require('node-fetch');\n",
    "\n",
    "const fetchJoke = async () => {\n",
    "  const url = 'https://api.chucknorris.io/jokes/random?category=dev';\n",
    "\n",
    "  fetch(url)\n",
    "    .then((response) => response.json())\n",
    "    .then((data) => console.log(data.value))\n",
    "    .catch((error) => console.log(`Algo deu errado :( \\n${error}`));\n",
    "}\n",
    "\n",
    "fetchJoke();"
   ]
  },
  {
   "cell_type": "markdown",
   "metadata": {},
   "source": [
    "<br>"
   ]
  },
  {
   "cell_type": "markdown",
   "metadata": {},
   "source": [
    "**Exemplo de requisição a API:**  \n",
    "*_Neste exemplo ultilizamos o ```async``` e o ```await``` para controlar o fluxo da requisição e o ```try``` em conjunto ao ```catch``` para controlar possiveis erros._*"
   ]
  },
  {
   "cell_type": "code",
   "execution_count": 1,
   "metadata": {},
   "outputs": [
    {
     "name": "stdout",
     "output_type": "stream",
     "text": [
      "Project managers never ask Chuck Norris for estimations... ever.\n"
     ]
    }
   ],
   "source": [
    "const fetch = require('node-fetch');\n",
    "\n",
    "const fetchJoke = async () => {\n",
    "  const url = 'https://api.chucknorris.io/jokes/random?category=dev';\n",
    "\n",
    "  try {\n",
    "    const response = await fetch(url);\n",
    "    const data = await response.json();\n",
    "    console.log(data.value);\n",
    "  } catch(error) {\n",
    "    console.log(`Algo deu errado :( \\n${error}`);\n",
    "  }\n",
    "}\n",
    "\n",
    "fetchJoke();"
   ]
  },
  {
   "cell_type": "markdown",
   "metadata": {},
   "source": [
    "<br>"
   ]
  },
  {
   "cell_type": "markdown",
   "metadata": {},
   "source": [
    "```fetch```  \n",
    "*_X_*"
   ]
  },
  {
   "cell_type": "markdown",
   "metadata": {},
   "source": [
    "```.then()```  \n",
    "*_X_*"
   ]
  },
  {
   "cell_type": "markdown",
   "metadata": {},
   "source": [
    "```.catch```  \n",
    "*_X_*"
   ]
  },
  {
   "cell_type": "markdown",
   "metadata": {},
   "source": [
    "```async```  \n",
    "*_X_*"
   ]
  },
  {
   "cell_type": "markdown",
   "metadata": {},
   "source": [
    "```await```  \n",
    "*_X_*"
   ]
  }
 ],
 "metadata": {
  "kernelspec": {
   "display_name": "JavaScript (Node.js)",
   "language": "javascript",
   "name": "javascript"
  },
  "language_info": {
   "file_extension": ".js",
   "mimetype": "application/javascript",
   "name": "javascript",
   "version": "14.18.3"
  }
 },
 "nbformat": 4,
 "nbformat_minor": 2
}
