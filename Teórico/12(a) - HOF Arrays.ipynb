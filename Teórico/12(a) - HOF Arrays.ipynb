{
 "cells": [
  {
   "cell_type": "markdown",
   "id": "54de59c5",
   "metadata": {},
   "source": [
    "# Higher Order Functions para Arrays\n",
    "<hr>  "
   ]
  },
  {
   "cell_type": "markdown",
   "id": "a08ae2cb",
   "metadata": {},
   "source": [
    "*_Quando passamos uma função como argumento para uma **HOF**, essa função também é chamada de **callback!**_*"
   ]
  },
  {
   "cell_type": "code",
   "execution_count": null,
   "id": "2016ff15",
   "metadata": {},
   "outputs": [],
   "source": []
  }
 ],
 "metadata": {
  "kernelspec": {
   "display_name": "JavaScript (Node.js)",
   "language": "javascript",
   "name": "javascript"
  },
  "language_info": {
   "file_extension": ".js",
   "mimetype": "application/javascript",
   "name": "javascript",
   "version": "14.18.1"
  }
 },
 "nbformat": 4,
 "nbformat_minor": 5
}
